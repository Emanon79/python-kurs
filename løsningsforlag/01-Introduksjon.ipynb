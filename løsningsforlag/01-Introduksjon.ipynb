{
 "cells": [
  {
   "cell_type": "markdown",
   "metadata": {},
   "source": [
    "## 1.3 Oppgave"
   ]
  },
  {
   "cell_type": "markdown",
   "metadata": {},
   "source": [
    "* Hvis dere ikke har gjort det allerede:\n",
    " * Last ned og installer Python 3.12 fra python.org\n",
    "* Åpne cmd og skriv \"python\"\n",
    "* Verifiser at den sier \"Python 3.12.x ...\"\n",
    "* Skriv:\n",
    "```python\n",
    "print('Hello world')\n",
    "```\n",
    "* For å avslutte Python, skriv *exit()*\n",
    "* Lag en fil *mitt_script.py* hvor du skriver inn koden over (bruk notepad.exe, Notepad++ eller en annen text-editor)\n",
    "* Kjør scriptet i cmd med:\n",
    "```\n",
    "python mitt_script.py\n",
    "```\n",
    "eller\n",
    "```\n",
    "py -3 mitt_script.py\n",
    "```"
   ]
  },
  {
   "cell_type": "markdown",
   "metadata": {},
   "source": [
    "## Oppgave 2"
   ]
  },
  {
   "cell_type": "markdown",
   "metadata": {},
   "source": [
    "* (I cmd) naviger til mappen dere fikk av oss\n",
    "* Kjøre kommandoene:\n",
    "```\n",
    "pip install -r requirements.txt\n",
    "```\n",
    "```\n",
    "jupyter lab\n",
    "```"
   ]
  }
 ],
 "metadata": {
  "language_info": {
   "name": "python"
  }
 },
 "nbformat": 4,
 "nbformat_minor": 2
}

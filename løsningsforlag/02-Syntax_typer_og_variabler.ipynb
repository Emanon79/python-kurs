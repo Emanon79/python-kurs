{
 "cells": [
  {
   "cell_type": "markdown",
   "metadata": {
    "slideshow": {
     "slide_type": "slide"
    }
   },
   "source": [
    "# 2 - Typer og variabler"
   ]
  },
  {
   "cell_type": "markdown",
   "metadata": {
    "slideshow": {
     "slide_type": "slide"
    }
   },
   "source": [
    "## Oppgave: Variabler og matematiske metoder\n",
    "- Opprett og bruk variabler, ikke skriv tall direkte i oppgavene\n",
    "- Finn svarene:\n",
    "    - 2 + 4 * 3\n",
    "    - 1 / 3\n",
    "    - 1 / 3 (rundet ned)\n",
    "    - 2^6 / 2 + 5 * 2\n",
    "    - 3^(132 % 9) * 2 - (6 * 20 + 1)"
   ]
  },
  {
   "cell_type": "code",
   "execution_count": null,
   "metadata": {},
   "outputs": [],
   "source": [
    "a = 2\n",
    "b = 4 \n",
    "c = 3\n",
    "print(a + b * c)"
   ]
  },
  {
   "cell_type": "code",
   "execution_count": null,
   "metadata": {},
   "outputs": [],
   "source": [
    "d = 1\n",
    "e = 3\n",
    "print(d / e)"
   ]
  },
  {
   "cell_type": "code",
   "execution_count": null,
   "metadata": {},
   "outputs": [],
   "source": [
    "d = 1\n",
    "e = 3\n",
    "print(d // e)"
   ]
  },
  {
   "cell_type": "code",
   "execution_count": null,
   "metadata": {},
   "outputs": [],
   "source": [
    "f = 2\n",
    "g = 6\n",
    "h = 5\n",
    "print(f**g / f + h * f)"
   ]
  },
  {
   "cell_type": "code",
   "execution_count": null,
   "metadata": {},
   "outputs": [],
   "source": [
    "i = 3\n",
    "j = 132\n",
    "k = 9\n",
    "l = 2\n",
    "m = 6\n",
    "n = 20\n",
    "o = 1\n",
    "\n",
    "print(i**(j % k) * l - (m * n + o)) "
   ]
  },
  {
   "cell_type": "markdown",
   "metadata": {
    "slideshow": {
     "slide_type": "slide"
    }
   },
   "source": [
    "## Oppgave: strenger"
   ]
  },
  {
   "cell_type": "markdown",
   "metadata": {
    "slideshow": {
     "slide_type": "fragment"
    }
   },
   "source": [
    "* Lag ett kort script som spør brukeren om navnet deres, og gir dem en hyggelig hilsen (med navnet i)\n",
    "* Legg til spørsmål om alder og favoritt-farge, og skriv ut dette også på en fin måte"
   ]
  },
  {
   "cell_type": "code",
   "execution_count": null,
   "metadata": {},
   "outputs": [],
   "source": [
    "navn = input(\"Hva heter du? \")\n",
    "print(f\"Hei {navn}, for et fint navn\")\n",
    "\n",
    "farge = input(\"Hva er din favorittfarge? \")\n",
    "print(f\"Oi! {farge} er min favorittfarge også!\")\n",
    "\n",
    "alder = input(\"Hvor gammel er du? \")\n",
    "print(f\"{alder}, wow du er gammel!\")"
   ]
  },
  {
   "cell_type": "markdown",
   "metadata": {
    "slideshow": {
     "slide_type": "slide"
    }
   },
   "source": [
    "## Oppgave: Lister og Tupler"
   ]
  },
  {
   "cell_type": "markdown",
   "metadata": {
    "slideshow": {
     "slide_type": "fragment"
    }
   },
   "source": [
    "* Lag en liste med fem elementer, hvor alle elementer er ulike strenger\n",
    "* Print ut lengden på listen\n",
    "* Bruk slicing til å:\n",
    " * printe listen baklengs\n",
    " * printe hvert andre element, start fra første og andre element\n",
    " * printe hvert andre element, baklengs\n",
    "* Legg til ett element\n",
    " * i starten av listen\n",
    " * midt i listen\n",
    "* Ta bort\n",
    " * det siste elementet i listen\n",
    " * det første elementet i listen\n",
    "* Opprett en tupel med noen elementer\n",
    " * prøv å legge til eller endre ett av elementene"
   ]
  },
  {
   "cell_type": "code",
   "execution_count": null,
   "metadata": {
    "slideshow": {
     "slide_type": "subslide"
    }
   },
   "outputs": [],
   "source": [
    "l = \"Denne strengen har mange ord\".split()\n",
    "\n",
    "# Printe liste baklengs\n",
    "print(l[::-1])\n",
    "\n",
    "# Hvert andre element fra starten\n",
    "print(l[::2])\n",
    "\n",
    "# Hvert andre element fra andre element og videre\n",
    "print(l[1::2])\n",
    "\n",
    "# Hvert andre element baklengs\n",
    "print(l[::-2])\n",
    "\n",
    "# Legg til i starten av listen\n",
    "l.insert(0, \"hallo\")\n",
    "print(l)\n",
    "\n",
    "# Legg til midt i listen\n",
    "l.insert(3, \"hallo\")\n",
    "print(l)\n",
    "\n",
    "# Ta bort siste element i listen\n",
    "print(l.pop())\n",
    "\n",
    "# Ta bort første element i listen\n",
    "print(l.pop(0))\n",
    "\n",
    "print(l)\n",
    "\n",
    "# Prøv å endre en tuple\n",
    "(1, 2, 3).pop()"
   ]
  },
  {
   "cell_type": "markdown",
   "metadata": {
    "slideshow": {
     "slide_type": "slide"
    }
   },
   "source": [
    "## Oppgave: Dictionaries"
   ]
  },
  {
   "cell_type": "markdown",
   "metadata": {
    "slideshow": {
     "slide_type": "fragment"
    }
   },
   "source": [
    "* På linken https://no.wikipedia.org/wiki/Norden finner dere en tabell over land og folketall i norden\n",
    "* Lag en dict hvor nøklene er navn på land, og verdiene er folketall\n",
    " * For å spare tid trenger dere bare å legge inn de fem øverste landene\n",
    "* Bruk dict-en dere lagde til å:\n",
    " * printe folketallet i hvert land\n",
    " * printe summen av folketall\n",
    " * printe gjennomsnittlig folketall (hint: len() fungerer også på dicts)"
   ]
  },
  {
   "cell_type": "code",
   "execution_count": null,
   "metadata": {},
   "outputs": [],
   "source": [
    "land = {\n",
    "    \"Sverige\": 10379295,\n",
    "    \"Danmark\": 5827463,\n",
    "    \"Finland\": 5501043,\n",
    "    \"Norge\": 5391369,\n",
    "    \"Island\": 364134,\n",
    "}\n",
    "\n",
    "print(\"Sverige:\", land[\"Sverige\"])\n",
    "print(\"Danmark:\", land[\"Danmark\"])\n",
    "print(\"Finland:\", land[\"Finland\"])\n",
    "print(\"Norge:\", land[\"Norge\"])\n",
    "print(\"Island:\", land[\"Island\"])\n",
    "print()\n",
    "\n",
    "summen = land[\"Sverige\"] + land[\"Danmark\"] + land[\"Finland\"] + land[\"Norge\"] + land[\"Island\"]\n",
    "\n",
    "print(f\"Sum: {summen}\")\n",
    "print(f\"Sum: {sum(land.values())}\")\n",
    "print(f\"Gjennomsnitt: {summen / len(land)}\")"
   ]
  }
 ],
 "metadata": {
  "celltoolbar": "Slideshow",
  "kernelspec": {
   "display_name": "Python 3",
   "language": "python",
   "name": "python3"
  },
  "language_info": {
   "codemirror_mode": {
    "name": "ipython",
    "version": 3
   },
   "file_extension": ".py",
   "mimetype": "text/x-python",
   "name": "python",
   "nbconvert_exporter": "python",
   "pygments_lexer": "ipython3",
   "version": "3.8.10"
  }
 },
 "nbformat": 4,
 "nbformat_minor": 4
}

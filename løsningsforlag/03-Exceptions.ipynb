{
 "cells": [
  {
   "cell_type": "markdown",
   "metadata": {
    "slideshow": {
     "slide_type": "slide"
    }
   },
   "source": [
    "# 4 - Exceptions"
   ]
  },
  {
   "cell_type": "markdown",
   "metadata": {
    "slideshow": {
     "slide_type": "subslide"
    }
   },
   "source": [
    "## 4.2 Oppgaver: Lag noen exceptions\n",
    "Hvilke exceptions oppstår når dere:\n",
    "* Deler på 0\n",
    "* Kjører koden: \n",
    "```python\n",
    "a = 12\n",
    "\"En streng\" + a\n",
    "```\n",
    "* Kjører koden:\n",
    "```python\n",
    "a = 12\n",
    "a + \"En streng\"\n",
    "```\n",
    "* Prøver å aksessere en variabel som ikke har blitt opprettet\n",
    "* Aksesserer en nøkkel som ikke eksisterer i en dict\n",
    "* Modifisere en verdi i en tuple"
   ]
  },
  {
   "cell_type": "code",
   "execution_count": null,
   "metadata": {},
   "outputs": [],
   "source": [
    "1/0"
   ]
  },
  {
   "cell_type": "code",
   "execution_count": null,
   "metadata": {},
   "outputs": [],
   "source": [
    "a = 12\n",
    "\"En streng\" + a"
   ]
  },
  {
   "cell_type": "code",
   "execution_count": null,
   "metadata": {},
   "outputs": [],
   "source": [
    "a = 12\n",
    "a + \"En streng\""
   ]
  },
  {
   "cell_type": "code",
   "execution_count": null,
   "metadata": {},
   "outputs": [],
   "source": [
    "asdffdsa"
   ]
  },
  {
   "cell_type": "code",
   "execution_count": null,
   "metadata": {},
   "outputs": [],
   "source": [
    "c = {}\n",
    "c['test']"
   ]
  },
  {
   "cell_type": "code",
   "execution_count": null,
   "metadata": {},
   "outputs": [],
   "source": [
    "(1,2,3).pop()"
   ]
  },
  {
   "cell_type": "markdown",
   "metadata": {
    "slideshow": {
     "slide_type": "slide"
    }
   },
   "source": [
    "## 4.4 Oppgaver: håndtere exceptions"
   ]
  },
  {
   "cell_type": "markdown",
   "metadata": {
    "slideshow": {
     "slide_type": "fragment"
    }
   },
   "source": [
    "* Lag exception handlere for de dere lagte i forrige oppgave\n",
    "* Håndtere feilen på best mulig måte, eller bare printe en feilmelding"
   ]
  },
  {
   "cell_type": "code",
   "execution_count": null,
   "metadata": {},
   "outputs": [],
   "source": [
    "try:\n",
    "    a = 1 / 0\n",
    "except ZeroDivisionError:\n",
    "    print(\"Kan ikke dele på 0!\")\n",
    "\n",
    "try:\n",
    "    a = 12\n",
    "    \"En streng\" + a\n",
    "except TypeError:\n",
    "    print(\"Kan ikke konkatinere streng og tall!\")\n",
    "    \n",
    "try:\n",
    "    a + \"En streng\"\n",
    "except:\n",
    "    print(\"Kan ikke konkatinere tall og streng!\")\n",
    "\n",
    "try:\n",
    "    asdffdsa\n",
    "except NameError as err:\n",
    "    print(err)\n",
    "\n",
    "try:\n",
    "    c = {}\n",
    "    c['test']\n",
    "except KeyError:\n",
    "    print(\"Nøkkel ikke funnet!\")\n",
    "\n",
    "try:\n",
    "    (1,2,3).pop()\n",
    "except (AttributeError, TypeError):\n",
    "    print(\"En tuple har ikke pop()-metoden\")"
   ]
  }
 ],
 "metadata": {
  "celltoolbar": "Slideshow",
  "kernelspec": {
   "display_name": "Python 3",
   "language": "python",
   "name": "python3"
  },
  "language_info": {
   "codemirror_mode": {
    "name": "ipython",
    "version": 3
   },
   "file_extension": ".py",
   "mimetype": "text/x-python",
   "name": "python",
   "nbconvert_exporter": "python",
   "pygments_lexer": "ipython3",
   "version": "3.12.1"
  },
  "livereveal": {
   "height": 1200,
   "width": 1600
  }
 },
 "nbformat": 4,
 "nbformat_minor": 4
}

{
 "cells": [
  {
   "cell_type": "markdown",
   "metadata": {
    "slideshow": {
     "slide_type": "slide"
    }
   },
   "source": [
    "# 5 - Kontrollflyt"
   ]
  },
  {
   "cell_type": "markdown",
   "metadata": {
    "slideshow": {
     "slide_type": "slide"
    }
   },
   "source": [
    "## 5.4 Oppgaver: boolske verdier og if"
   ]
  },
  {
   "cell_type": "markdown",
   "metadata": {
    "slideshow": {
     "slide_type": "fragment"
    }
   },
   "source": [
    "* Gitt a=0, b=0 og c=1, hva blir følgende uttrykk: (tenk gjennom dem og prøv dem i python)\n",
    "```python\n",
    "a and b and c\n",
    "a or b or c\n",
    "a and not c\n",
    "```\n",
    "* Gi variablene a, b, c og d riktig True eller False verdi slik at meldingen under printes:"
   ]
  },
  {
   "cell_type": "markdown",
   "metadata": {},
   "source": [
    "**løsning**\n",
    "- a and b and c: False\n",
    "- a or b or c: True\n",
    "- a and not c: False"
   ]
  },
  {
   "cell_type": "code",
   "execution_count": null,
   "metadata": {
    "slideshow": {
     "slide_type": "fragment"
    }
   },
   "outputs": [],
   "source": [
    "a = False\n",
    "b = False\n",
    "c = False\n",
    "d = False\n",
    "if not (not a or not b) and (a or c) and (d and not c):\n",
    "  print(\"Hurra!\")"
   ]
  },
  {
   "cell_type": "markdown",
   "metadata": {},
   "source": [
    "**løsning**"
   ]
  },
  {
   "cell_type": "code",
   "execution_count": null,
   "metadata": {},
   "outputs": [],
   "source": [
    "a = True\n",
    "b = True\n",
    "c = False\n",
    "d = True\n",
    "if not (not a or not b) and (a or c) and (d and not c):\n",
    "  print(\"Hurra!\")"
   ]
  },
  {
   "cell_type": "markdown",
   "metadata": {
    "slideshow": {
     "slide_type": "slide"
    }
   },
   "source": [
    "## 5.6 Oppgaver: løkker"
   ]
  },
  {
   "cell_type": "markdown",
   "metadata": {
    "slideshow": {
     "slide_type": "fragment"
    }
   },
   "source": [
    "* Lag en for-løkke som printer 2^n hvor n er tallene 0 til 10\n",
    "* FizzBuzz:\n",
    " * Skriv ett program som printer alle tallene fra 1 til 100\n",
    " * For tall som kan deles på 3, print ordet \"Fizz\" istedet for tallet\n",
    " * For tall som kan deles på 5, print ordet \"Buzz\" istedet for tallet\n",
    " * For tall som kan deles på både 3 og 5, print ordet \"FizzBuzz\" istedet for tallet "
   ]
  },
  {
   "cell_type": "code",
   "execution_count": null,
   "metadata": {},
   "outputs": [],
   "source": [
    "# Oppgave 1:\n",
    "for n in range(11):\n",
    "    print(f\"2^{n} = {2**n}\")"
   ]
  },
  {
   "cell_type": "code",
   "execution_count": null,
   "metadata": {},
   "outputs": [],
   "source": [
    "# Oppgave 2:\n",
    "for i in range(101):\n",
    "    if i % 3 == 0 and i % 5 == 0:\n",
    "        print(\"FizzBuzz\")\n",
    "    elif i % 3 == 0:\n",
    "        print(\"Fizz\")\n",
    "    elif i % 5 == 0:\n",
    "        print(\"Buzz\")\n",
    "    else:\n",
    "        print(i)"
   ]
  },
  {
   "cell_type": "markdown",
   "metadata": {
    "slideshow": {
     "slide_type": "slide"
    }
   },
   "source": [
    "## 5.8 Oppgaver: Itererbare typer\n"
   ]
  },
  {
   "cell_type": "markdown",
   "metadata": {
    "slideshow": {
     "slide_type": "fragment"
    }
   },
   "source": [
    "* Gitt en dict:\n",
    "```python\n",
    "d = {\"a\": 543, \"b\": 658, \"c\": 13, \"d\": 123}\n",
    "```\n",
    "* Bruk en for-løkke til å iterere over og summere opp verdiene i dicten. Print summen til slutt.\n",
    "\n",
    "\n",
    "* Opprett en string som er minst 25 karakterer lang\n",
    "* Bruk en for-løkke og enumerate til å iterere over stringen, og printe hver bokstav med og indeksen i strengen"
   ]
  },
  {
   "cell_type": "code",
   "execution_count": null,
   "metadata": {},
   "outputs": [],
   "source": [
    "d = {\"a\": 543, \"b\": 658, \"c\": 13, \"d\": 123}\n",
    "\n",
    "summen = 0\n",
    "for verdi in d.values():\n",
    "    summen += verdi\n",
    "\n",
    "print(\"Sum:\", summen)"
   ]
  },
  {
   "cell_type": "code",
   "execution_count": null,
   "metadata": {},
   "outputs": [],
   "source": [
    "streng = \"abcdefghijklmnopqrstuvwxyz\"\n",
    "\n",
    "for i, c in enumerate(streng):\n",
    "    print(f\"{i}: {c}\")"
   ]
  }
 ],
 "metadata": {
  "celltoolbar": "Slideshow",
  "kernelspec": {
   "display_name": "Python 3",
   "language": "python",
   "name": "python3"
  },
  "language_info": {
   "codemirror_mode": {
    "name": "ipython",
    "version": 3
   },
   "file_extension": ".py",
   "mimetype": "text/x-python",
   "name": "python",
   "nbconvert_exporter": "python",
   "pygments_lexer": "ipython3",
   "version": "3.8.10"
  },
  "livereveal": {
   "height": 1200,
   "width": 1600
  }
 },
 "nbformat": 4,
 "nbformat_minor": 4
}

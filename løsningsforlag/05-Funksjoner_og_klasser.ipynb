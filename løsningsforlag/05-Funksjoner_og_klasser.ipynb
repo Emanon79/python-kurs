{
 "cells": [
  {
   "cell_type": "markdown",
   "metadata": {},
   "source": [
    "## 5 Oppgave: Opprette funksjoner"
   ]
  },
  {
   "cell_type": "markdown",
   "metadata": {},
   "source": [
    "Lag og bruk noen funksjoner.\n",
    "- Lag en funksjon som tar inn et tall og returnerer summen av alle heltall fra 0 til og med det tallet som sendes inn.\n",
    "    - eks. summer(5): 1 + 2 + 3 + 4 + 5 = 15. Funksjonen skal da returnere tallet 15.\n",
    "    \n",
    "    \n",
    "- Lag en funksjon med navnet _har\\_nummer_ som tar inn en streng.\n",
    "    - Hvis strengen inneholder et eller flere tall, returner True, hvis ikke returner False"
   ]
  },
  {
   "cell_type": "code",
   "execution_count": null,
   "metadata": {},
   "outputs": [],
   "source": [
    "def summer(tall):\n",
    "    a = 0\n",
    "    for i in range(0,tall+1):\n",
    "        a += i\n",
    "    print(a)\n",
    "\n",
    "    b = sum(range(0,tall+1))\n",
    "    print(b)\n",
    "\n",
    "    c = (tall * (tall+1)) // 2\n",
    "    print(c)\n",
    "summer(5)  "
   ]
  },
  {
   "cell_type": "code",
   "execution_count": null,
   "metadata": {},
   "outputs": [],
   "source": [
    "def har_nummer(tekst=\"\"):\n",
    "    print(any(i.isdigit() for i in tekst))\n",
    "\n",
    "har_nummer(\"Test 1\")\n",
    "har_nummer(\"Test to\")"
   ]
  },
  {
   "cell_type": "markdown",
   "metadata": {},
   "source": [
    "## Oppgave: Lag egen klasse og objekter"
   ]
  },
  {
   "cell_type": "markdown",
   "metadata": {},
   "source": [
    "- Lag en klasse med navn _Person_ som har 3 attributter: `navn`, `alder` og `hobbyer`. Det er opp til deg å bestemme hva slags type som passer best for disse attributtene.\n",
    "    - Klassen skal ha en metode (funksjon) som skriver ut navnet og alderen på personen.\n",
    "    - Lag også en metode for å skrive ut alle hobbyer sortert i alfabetisk rekkefølge"
   ]
  },
  {
   "cell_type": "code",
   "execution_count": null,
   "metadata": {},
   "outputs": [],
   "source": [
    "class Person:\n",
    "    navn = \"Ole Olsen\"\n",
    "    alder = \"133\"\n",
    "    hobbyer = [\"Kajakk\",\"Turer i fjellet\",\"Sjakk\",\"Dans\"]\n",
    "    \n",
    "    def info(self):\n",
    "        print(\"Navn: {verdi}\".format(verdi=self.navn))\n",
    "        print(\"Alder:\", self.alder)\n",
    "        print(\"Hobbyer: %s\" % \", \".join(self.hobbyer))\n",
    "\n",
    "    def sorted_info(self):\n",
    "        print(\"Navn: {verdi}\".format(verdi=self.navn))\n",
    "        print(\"Alder:\", self.alder)\n",
    "        print(\"Sorterte Hobbyer: %s\" % \", \".join(sorted(self.hobbyer)))\n",
    "ny_person = Person()\n",
    "ny_person.info()\n",
    "ny_person.sorted_info()\n",
    "\n",
    "\n",
    "class Person:\n",
    "    def __init__(self, navn, alder, hobbyer):\n",
    "        self._navn = navn\n",
    "        self._alder = alder\n",
    "        self._hobbyer = hobbyer\n",
    "\n",
    "    def __str__(self):\n",
    "        return f'Navn: {self._navn}\\n' + \\\n",
    "               f'Alder: {self._alder}\\n' + \\\n",
    "               f'Hobbyer: {sorted(self._hobbyer)}'\n",
    "\n",
    "ole = Person('Ole', 23, ['Sjakk', 'Kajakk', 'Dans'])\n",
    "print(ole)"
   ]
  }
 ],
 "metadata": {
  "kernelspec": {
   "display_name": "Python 3",
   "language": "python",
   "name": "python3"
  },
  "language_info": {
   "codemirror_mode": {
    "name": "ipython",
    "version": 3
   },
   "file_extension": ".py",
   "mimetype": "text/x-python",
   "name": "python",
   "nbconvert_exporter": "python",
   "pygments_lexer": "ipython3",
   "version": "3.12.1"
  }
 },
 "nbformat": 4,
 "nbformat_minor": 2
}

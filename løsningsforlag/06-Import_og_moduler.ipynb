{
 "cells": [
  {
   "cell_type": "markdown",
   "metadata": {},
   "source": [
    "## Oppgaver: import og standardbiblioteket"
   ]
  },
  {
   "cell_type": "markdown",
   "metadata": {},
   "source": [
    "Her kan dere bruke Google og docs.python.org til å løse oppgavene:\n",
    "\n",
    "* Bruk *datetime* modulen til å å printe dagens dato\n",
    "* Bruk *math* modulen til å:\n",
    " * printe ut verdien av PI\n",
    " * printe kvadratroten av 1024\n",
    "* Bruk *glob* til å liste ut alle \".docx\" filer i Documents mappen deres (eller noe tilsvarend)\n",
    " * Hint: bruk full path (\"C:\\users\\...\")"
   ]
  },
  {
   "cell_type": "code",
   "execution_count": 1,
   "metadata": {},
   "outputs": [
    {
     "name": "stdout",
     "output_type": "stream",
     "text": [
      "2024-01-23 14:02:52.139752\n",
      "3.141592653589793\n",
      "32.0\n",
      "['../README.txt', '../requirements.txt']\n"
     ]
    }
   ],
   "source": [
    "import datetime\n",
    "import math\n",
    "import glob\n",
    "\n",
    "def main():\n",
    "    print(datetime.datetime.now())\n",
    "    print(math.pi)\n",
    "    print(math.sqrt(1024))\n",
    "    print(glob.glob('../*.txt'))\n",
    "\n",
    "\n",
    "if __name__ == '__main__':\n",
    "    main()"
   ]
  },
  {
   "cell_type": "markdown",
   "metadata": {},
   "source": [
    "## Oppgaver: PIP"
   ]
  },
  {
   "cell_type": "markdown",
   "metadata": {},
   "source": [
    "* Start med å oppdatere selve pip:\n",
    " * ```pip install --upgrade pip```\n",
    "* Installer følgende moduler:\n",
    " * *requests*\n",
    " * *arrow*\n",
    "* List ut alle installerte pakker:\n",
    " * ```pip freeze```\n",
    "\n",
    "\n",
    "* Hint: noen av dere må muligens bruke: \"python -m pip\" istedenfor bare \"pip\""
   ]
  },
  {
   "cell_type": "markdown",
   "metadata": {},
   "source": [
    "## Oppgave: lag en enkel modul"
   ]
  },
  {
   "cell_type": "markdown",
   "metadata": {},
   "source": [
    "* Opprett en fil med navn mymodule.py\n",
    " * I denne filen, definer en funksjon med navn *add* som tar to heltall som argumenter, og returnerer summen av dem\n",
    "* Start python i cmd uten argumenter (pass på at du står i samme mappe hvor du lagret mymodule.py)\n",
    "* Importer modulen du lagde og kall funksjonen\n",
    "\n",
    "\n",
    "* Lag ett script som importerer modulen din og kaller funksjonen\n",
    "* kjøre scriptet for å teste at det fungerer"
   ]
  },
  {
   "cell_type": "code",
   "execution_count": null,
   "metadata": {},
   "outputs": [],
   "source": [
    "import mymodule\n",
    "\n",
    "print(mymodule.add(2,3))"
   ]
  }
 ],
 "metadata": {
  "kernelspec": {
   "display_name": "Python 3",
   "language": "python",
   "name": "python3"
  },
  "language_info": {
   "codemirror_mode": {
    "name": "ipython",
    "version": 3
   },
   "file_extension": ".py",
   "mimetype": "text/x-python",
   "name": "python",
   "nbconvert_exporter": "python",
   "pygments_lexer": "ipython3",
   "version": "3.12.1"
  }
 },
 "nbformat": 4,
 "nbformat_minor": 2
}

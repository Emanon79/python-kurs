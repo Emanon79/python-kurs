{
 "cells": [
  {
   "cell_type": "markdown",
   "metadata": {},
   "source": [
    "## Oppgave: Hent websider (GET)"
   ]
  },
  {
   "cell_type": "code",
   "execution_count": null,
   "metadata": {},
   "outputs": [],
   "source": [
    "\n",
    "from urllib.request import urlopen, Request\n",
    "\n",
    "request = Request('https://hmpg.net/')\n",
    "request.add_header('User-Agent', 'Mozilla/5.0 Firefox/2.0.0.11')\n",
    "\n",
    "result =  urlopen(request)\n",
    "    \n",
    "print(result.read().decode('utf-8'))\n",
    "print(result.getcode())  \n",
    "print(result.getheaders())\n"
   ]
  },
  {
   "cell_type": "markdown",
   "metadata": {},
   "source": [
    "## Oppgave: Hent noen filer fra din egen webserver"
   ]
  },
  {
   "cell_type": "code",
   "execution_count": null,
   "metadata": {},
   "outputs": [],
   "source": [
    "from urllib.request import urlopen, Request,urlretrieve\n",
    "\n",
    "request = Request('http://127.0.0.1:5000/')\n",
    "request.add_header('User-Agent', 'Mozilla/5.0 Firefox/2.0.0.11')\n",
    "\n",
    "result =  urlopen(request)\n",
    "\n",
    "print(result.read().decode('utf-8'))\n",
    "\n",
    "urlretrieve('http://127.0.0.1:5000/smtpd.py', 'smtpd-kopi.py')"
   ]
  },
  {
   "cell_type": "markdown",
   "metadata": {},
   "source": []
  },
  {
   "cell_type": "markdown",
   "metadata": {},
   "source": [
    "## Oppgave: Bruke API\n"
   ]
  },
  {
   "cell_type": "code",
   "execution_count": null,
   "metadata": {},
   "outputs": [],
   "source": [
    "import requests\n",
    "r = requests.get('http://localhost:8000')\n",
    "print(r.content)\n",
    "\n",
    "import requests\n",
    "import json\n",
    "r = requests.get('http://localhost:8000')\n",
    "print(json.loads(r.content))\n"
   ]
  },
  {
   "cell_type": "code",
   "execution_count": null,
   "metadata": {},
   "outputs": [],
   "source": [
    "import requests\n",
    "from fastapi import FastAPI\n",
    "\n",
    "app = FastAPI()\n",
    "\n",
    "@app.get(\"/\")\n",
    "async def get_joke():\n",
    "    \"\"\"Get a random joke from the icanhazdadjoke API.\"\"\"\n",
    "    headers = {'Accept': 'application/json'}\n",
    "    response = requests.get('https://icanhazdadjoke.com/', headers=headers)\n",
    "    data = response.json()\n",
    "    return data[\"joke\"]\n",
    "\n",
    "@app.post(\"/\")\n",
    "async def get_joke(id: str | None = \"zkO7wHJmrc\"):\n",
    "    headers = {'Accept': 'application/json'}\n",
    "    response = requests.get('https://icanhazdadjoke.com/j/' + id , headers=headers)\n",
    "    data = response.json()\n",
    "    return data[\"joke\"]\n"
   ]
  },
  {
   "cell_type": "code",
   "execution_count": null,
   "metadata": {},
   "outputs": [],
   "source": [
    "import requests\n",
    "import json\n",
    "r = requests.post('http://localhost:8000/?id=zkO7wHJmrc')\n",
    "print(json.loads(r.content))"
   ]
  }
 ],
 "metadata": {
  "kernelspec": {
   "display_name": ".venv",
   "language": "python",
   "name": "python3"
  },
  "language_info": {
   "codemirror_mode": {
    "name": "ipython",
    "version": 3
   },
   "file_extension": ".py",
   "mimetype": "text/x-python",
   "name": "python",
   "nbconvert_exporter": "python",
   "pygments_lexer": "ipython3",
   "version": "3.12.3"
  }
 },
 "nbformat": 4,
 "nbformat_minor": 4
}

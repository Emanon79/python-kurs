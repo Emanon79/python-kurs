{
 "cells": [
  {
   "cell_type": "markdown",
   "metadata": {},
   "source": [
    "## Oppgaver: Fil-manipulering"
   ]
  },
  {
   "cell_type": "markdown",
   "metadata": {},
   "source": [
    "* Lag ett script som tar to argumenter: (hint: bruk sys.argv)\n",
    " * ```python script.py file1 file2```\n",
    "* *file1* er en fil som eksisterer\n",
    "* *file2* er en fil som ikke eksisterer\n",
    "* Scriptet skal:\n",
    " * lese alt innholdet i *file1* inn i minnet\n",
    " * reversere det\n",
    " * skrive resultatet til *file2*\n",
    "\n",
    "\n",
    "* Tilleggsspørsmål: Hvilke exceptions kan man få når man behandler filer med Python?\n",
    " * f.eks: prøv å lese en fil som ikke eksisterer"
   ]
  },
  {
   "cell_type": "code",
   "execution_count": null,
   "metadata": {},
   "outputs": [],
   "source": [
    "import sys\n",
    "\n",
    "#reverserer linjer og ikke selve karakterene\n",
    "def main():\n",
    "    file1 = sys.argv[1]\n",
    "    file2 = sys.argv[2]\n",
    "    fd = open(file1, 'r')\n",
    "    \n",
    "    try:        \n",
    "        s = fd.readlines()[::-1]       \n",
    "    except:\n",
    "        print(\"Problemer med å lese fil\")\n",
    "        return\n",
    "    finally:\n",
    "        fd.close()\n",
    "    fd2 = open(file2, 'w')    \n",
    "    try:\n",
    "        fd2.write(str(s))   \n",
    "    except:\n",
    "        print(\"Problemer med å skrive til fil\")\n",
    "    finally:\n",
    "        fd2.close()\n",
    "\n",
    "def alt_main():\n",
    "    input_file = sys.argv[1]\n",
    "    output_file = sys.argv[2]\n",
    "\n",
    "    with open(input_file, 'r') as f:\n",
    "        lines_rev = f.readlines[::-1]\n",
    "\n",
    "    with open(output_file, 'w') as f:\n",
    "        f.write(lines_rev)\n",
    "\n",
    "if __name__ == '__main__':\n",
    "    main()"
   ]
  },
  {
   "cell_type": "markdown",
   "metadata": {},
   "source": [
    "## Oppgaver: Binærmodus"
   ]
  },
  {
   "cell_type": "markdown",
   "metadata": {},
   "source": [
    " Lag en txt fil som inneholder hele det norsk alfabetet\n",
    " * inkludert æøå\n",
    "* les innholdet i filen inn i minnet (bruk binærmodus)\n",
    "* print byte-strengen\n",
    "* decode og print den"
   ]
  },
  {
   "cell_type": "code",
   "execution_count": null,
   "metadata": {},
   "outputs": [],
   "source": [
    "f = open('files/alfabet.txt', 'rb')\n",
    "try:\n",
    "    x = f.read()\n",
    "finally:\n",
    "    f.close()\n",
    "print(x)\n",
    "x = x.decode()\n",
    "print(x)\n"
   ]
  },
  {
   "cell_type": "markdown",
   "metadata": {},
   "source": [
    "## Oppgaver: Bruk with"
   ]
  },
  {
   "cell_type": "markdown",
   "metadata": {},
   "source": [
    " Lag ett script som:\n",
    " * Oppretter en fil og skriver alle tallene fra 0 til 100 i den med mellomrom mellom hver tall\n",
    " * Åpner filen i lesemodus, og leser inn innholdet\n",
    " * Bruk split() for å konvertere det til en liste med strenger\n",
    " * Reverser listen\n",
    " * Bruk join() for å konvertere den tilbake til en streng med space mellom hvert tall\n",
    " * Skriv resultatet til en ny fil\n",
    "\n",
    "\n",
    "* Bruk *with* til å åpne og lukke filene"
   ]
  },
  {
   "cell_type": "code",
   "execution_count": null,
   "metadata": {},
   "outputs": [],
   "source": [
    "delimiter = \" \"\n",
    "try:\n",
    "    with open('test.txt', 'a') as fd:\n",
    "        a = delimiter.join(str(i) for i in range(0,100))\n",
    "        # a = delimiter.join(map(str, range(0,100)))\n",
    "        fd.write(a.strip())\n",
    "except IOError as e:\n",
    "    print(\"IOError %s\", e)\n",
    "\n",
    "try:\n",
    "    with open('test.txt', 'r') as fd2:   \n",
    "        l = fd2.readline().split(\" \") [::-1]\n",
    "        print(l)\n",
    "        with open('test1.txt', 'w') as fd3:\n",
    "            s = [str(i) for i in l]\n",
    "            fd3.write(delimiter.join(s))\n",
    "except IOError as e:\n",
    "    print(\"IOError %s\", e)"
   ]
  }
 ],
 "metadata": {
  "kernelspec": {
   "display_name": "Python 3 (ipykernel)",
   "language": "python",
   "name": "python3"
  },
  "language_info": {
   "codemirror_mode": {
    "name": "ipython",
    "version": 3
   },
   "file_extension": ".py",
   "mimetype": "text/x-python",
   "name": "python",
   "nbconvert_exporter": "python",
   "pygments_lexer": "ipython3",
   "version": "3.12.1"
  }
 },
 "nbformat": 4,
 "nbformat_minor": 4
}

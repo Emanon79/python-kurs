{
 "cells": [
  {
   "cell_type": "markdown",
   "metadata": {},
   "source": [
    "## Oppgaver: Lag et enkelt script\n",
    "\n",
    "* Lag ett script som tar to argumenter: (hint: bruk sys.argv)\n",
    " * ```python script.py file1 file2```\n",
    "* *file1* er en fil som eksisterer\n",
    "* *file2* er en fil som ikke eksisterer\n",
    "* Scriptet skal:\n",
    " * lese alt innholdet i *file1* inn i minnet\n",
    " * reversere det\n",
    " * skrive resultatet til *file2*\n",
    "\n",
    "\n",
    "* Tilleggsspørsmål: Hvilke exceptions kan man få når man behandler filer med Python?\n",
    " * f.eks: prøv å lese en fil som ikke eksisterer"
   ]
  },
  {
   "cell_type": "code",
   "execution_count": null,
   "metadata": {
    "vscode": {
     "languageId": "plaintext"
    }
   },
   "outputs": [],
   "source": [
    "def sum(tall1=0, tall2=0):\n",
    "    print(\"Summen er:\", tall1 + tall2 )\n",
    "\n",
    "def main():\n",
    "    while True:\n",
    "        a = input(\"Hva vil du gjøre\")\n",
    "        if a == \"avslutt\":\n",
    "            break\n",
    "        elif a == \"sum\":\n",
    "            x = int(input(\"Tall 1\"))\n",
    "            y = int(input(\"Tall 2\"))\n",
    "            sum(x,y)\n",
    "        else:\n",
    "            print(\"Ugyldig kommando\")\n",
    "\n",
    "if __name__ == '__main__':\n",
    "    main()"
   ]
  }
 ],
 "metadata": {
  "language_info": {
   "name": "python"
  }
 },
 "nbformat": 4,
 "nbformat_minor": 2
}

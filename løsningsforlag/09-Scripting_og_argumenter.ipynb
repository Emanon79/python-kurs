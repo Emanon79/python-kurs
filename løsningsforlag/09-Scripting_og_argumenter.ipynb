{
 "cells": [
  {
   "cell_type": "markdown",
   "metadata": {},
   "source": [
    "## Oppgave: Lag et enkelt script\n",
    "\n",
    "* Lag ett script som tar to argumenter: (hint: bruk sys.argv)\n",
    " * ```python script.py file1 file2```\n",
    "* *file1* er en fil som eksisterer\n",
    "* *file2* er en fil som ikke eksisterer\n",
    "* Scriptet skal:\n",
    " * lese alt innholdet i *file1* inn i minnet\n",
    " * reversere det\n",
    " * skrive resultatet til *file2*\n",
    "\n",
    "\n",
    "* Tilleggsspørsmål: Hvilke exceptions kan man få når man behandler filer med Python?\n",
    " * f.eks: prøv å lese en fil som ikke eksisterer"
   ]
  },
  {
   "cell_type": "code",
   "execution_count": null,
   "metadata": {
    "vscode": {
     "languageId": "plaintext"
    }
   },
   "outputs": [],
   "source": [
    "def sum(tall1=0, tall2=0):\n",
    "    print(\"Summen er:\", tall1 + tall2 )\n",
    "\n",
    "def main():\n",
    "    while True:\n",
    "        a = input(\"Hva vil du gjøre\")\n",
    "        if a == \"avslutt\":\n",
    "            break\n",
    "        elif a == \"sum\":\n",
    "            x = int(input(\"Tall 1\"))\n",
    "            y = int(input(\"Tall 2\"))\n",
    "            sum(x,y)\n",
    "        else:\n",
    "            print(\"Ugyldig kommando\")\n",
    "\n",
    "if __name__ == '__main__':\n",
    "    main()"
   ]
  },
  {
   "cell_type": "markdown",
   "metadata": {},
   "source": [
    "## Oppgave: Manuelle argumenter med sys.argv\n",
    "\n",
    "Lag et python skript som gjør følgende:\n",
    "- Blir skriptet startet med –h, så skal en kort tekst om hvordan skriptet brukes skrives til skjermen.\n",
    "- Blir skriptet startet –c n (hvor n er et naturlig tall), så skal en funksjon startes med argumentet etter –c. \n",
    "    - Denne funksjonen skal gi ut alle tall fra 0 til n\n",
    "- Blir skriptet startet med –s str (hvor str er en streng), så skal en funksjon startes med argumentet etter –s. \n",
    "    - Denne funksjonen skal beregne lengden på strengen og lage en ny streng av hver andre bokstav i den gitte strengen. \n",
    "    - Bruk f.eks len(str) og streng[i]"
   ]
  },
  {
   "cell_type": "code",
   "execution_count": null,
   "metadata": {
    "vscode": {
     "languageId": "plaintext"
    }
   },
   "outputs": [],
   "source": [
    "import sys\n",
    "\n",
    "def main():\n",
    "    if \"-h\" in sys.argv:\n",
    "        print(\"Bruk -c n hvor n er ett tall.\")\n",
    "        print(\"Bruk -s str hvor str er en string.\")\n",
    "    elif \"-c\" in sys.argv:\n",
    "       print(list(range(0,int(sys.argv[2])+1)))\n",
    "    elif \"-s\" in sys.argv:                                # Kjør sum med 0 argumenter\n",
    "        streng = sys.argv[2]\n",
    "        print(\"Lengden på strengen er \", len(streng))\n",
    "        for i in range(1,len(streng),2):\n",
    "            print(\"Ny streng \", streng[i])\n",
    "    \n",
    "if __name__ == '__main__':\n",
    "    main()"
   ]
  },
  {
   "cell_type": "markdown",
   "metadata": {},
   "source": [
    "## Oppgave: Bruk typer\n",
    "\n",
    "Lag et python skript som gjør følgende (Samme funksjonalitet som forrige oppgave):\n",
    "- Blir skriptet startet med –h, så skal en kort tekst om hvordan skriptet brukes skrives til skjermen.\n",
    "- Blir skriptet startet –c n (hvor n er et naturlig tall), så skal en funksjon startes med argumentet etter –c. \n",
    "    - Denne funksjonen skal gi ut alle tall fra 0 til n\n",
    "- Blir skriptet startet med –s str (hvor str er en streng), så skal en funksjon startes med argumentet etter –s. \n",
    "    - Denne funksjonen skal beregne lengden på strengen og lage en ny streng av hver andre bokstav i den gitte strengen. \n",
    "    - Bruk f.eks len(str) og streng[i]"
   ]
  },
  {
   "cell_type": "code",
   "execution_count": null,
   "metadata": {
    "vscode": {
     "languageId": "plaintext"
    }
   },
   "outputs": [],
   "source": [
    "import typer\n",
    "from typing import Optional\n",
    "\n",
    "def streng_func(s):\n",
    "    print(\"Lengden på strengen er \", len(s))\n",
    "    for i in range(1,len(s),2):\n",
    "        print(\"Ny streng \", s[i])\n",
    "\n",
    "def typer_example(\n",
    "          tall: Optional[int] = typer.Option(default=None, help=\"Input ett tall\"),\n",
    "          streng: Optional[str] = typer.Option(default=None,help=\"Input en streng\"),\n",
    "    ):\n",
    "    if tall is not None:\n",
    "        print(list(range(0,int(tall)+1))) \n",
    "    if streng is not None:\n",
    "        streng_func(streng)\n",
    "\n",
    "\n",
    "if __name__ == '__main__':\n",
    "    typer.run(typer_example)"
   ]
  }
 ],
 "metadata": {
  "language_info": {
   "name": "python"
  }
 },
 "nbformat": 4,
 "nbformat_minor": 2
}

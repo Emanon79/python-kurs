{
 "cells": [
  {
   "cell_type": "markdown",
   "metadata": {
    "slideshow": {
     "slide_type": "slide"
    }
   },
   "source": [
    "# Python 2025"
   ]
  },
  {
   "cell_type": "markdown",
   "metadata": {
    "slideshow": {
     "slide_type": "slide"
    }
   },
   "source": [
    "# Oversikt \n",
    "\n",
    "1. Kurs intro\n",
    "2. Syntax, typer og variabler\n",
    "3. Exceptions\n",
    "4. Kontrollflyt\n",
    "5. Funksjoner\n",
    "6. Nettverk og API\n",
    "7. Filhåndtering\n",
    "8. Scripts, moduler og klasser\n",
    "\n",
    "Ekstra:\n",
    "9. Objekteorientering\n",
    "10. Paralellisering\n",
    "11. Avansert API \n",
    "12. Linting, git, kode-assitent og andre tips"
   ]
  },
  {
   "cell_type": "markdown",
   "metadata": {
    "slideshow": {
     "slide_type": "slide"
    }
   },
   "source": [
    "## 1 - Kurs intro"
   ]
  },
  {
   "cell_type": "markdown",
   "metadata": {
    "slideshow": {
     "slide_type": "slide"
    }
   },
   "source": [
    "## 1.1 Python"
   ]
  },
  {
   "cell_type": "markdown",
   "metadata": {
    "slideshow": {
     "slide_type": "fragment"
    }
   },
   "source": [
    "* General-purpose programming language\n",
    "* Egner seg veldig god til script\n",
    " * Men kan også brukes til mer komplekse program\n",
    "* Nyeste versjon er 3.13\n",
    " * Python 2 (2.7) *endelig* utgått og støttes ikke lenger"
   ]
  },
  {
   "cell_type": "markdown",
   "metadata": {
    "slideshow": {
     "slide_type": "slide"
    }
   },
   "source": [
    "## 1.2 Hvordan bruke Python\n",
    "\n",
    "Tre vanlige metoder:\n",
    "- python shell\n",
    "- python fra kommandolinjen\n",
    "- skript i .py-fil"
   ]
  },
  {
   "cell_type": "markdown",
   "metadata": {
    "slideshow": {
     "slide_type": "fragment"
    }
   },
   "source": [
    "```\n",
    "watcher@apollo:~$ python3\n",
    ">>> print('Hello world')\n",
    "Hello world\n",
    ">>>\n",
    "```"
   ]
  },
  {
   "cell_type": "markdown",
   "metadata": {
    "slideshow": {
     "slide_type": "fragment"
    }
   },
   "source": [
    "```\n",
    "watcher@apollo:~$ python3 –c \"print('Hello world')\"\n",
    "Hello world\n",
    "watcher@apollo:~$\n",
    "```"
   ]
  },
  {
   "cell_type": "markdown",
   "metadata": {
    "slideshow": {
     "slide_type": "subslide"
    }
   },
   "source": [
    "* Python script lagres i filer med .py ending\n",
    "* og kjøres i cmd med:\n",
    "```\n",
    "python3 script.py\n",
    "```"
   ]
  },
  {
   "cell_type": "markdown",
   "metadata": {
    "slideshow": {
     "slide_type": "subslide"
    }
   },
   "source": [
    "## ...pluss et par til\n",
    "\n",
    "- Ipython/Jupyter, gjerne som notebook\n",
    "- IDE (f.eks. PyCharm, VSCode eller WingIDE)"
   ]
  },
  {
   "cell_type": "code",
   "execution_count": null,
   "metadata": {
    "slideshow": {
     "slide_type": "fragment"
    }
   },
   "outputs": [],
   "source": [
    "print('Hello' + ' ' + ' World!')\n",
    "print('Interactive shell for the win!')"
   ]
  },
  {
   "cell_type": "markdown",
   "metadata": {
    "slideshow": {
     "slide_type": "slide"
    }
   },
   "source": [
    "## 1.3 Oppgaver"
   ]
  },
  {
   "cell_type": "markdown",
   "metadata": {
    "slideshow": {
     "slide_type": "fragment"
    }
   },
   "source": [
    "* Hvis dere ikke har gjort det allerede:\n",
    " * Last ned og installer Python 3.13 fra python.org (Eldre versoner som 3.10,3.11 og 3.12 fungerer også fint)\n",
    "* Åpne cmd og skriv \"python\"\n",
    "* Verifiser at den sier \"Python 3.13.x ...\"\n",
    "* Skriv:\n",
    "```python\n",
    "print('Hello world')\n",
    "```\n",
    "* For å avslutte Python, skriv *exit()*\n",
    "* Lag en fil *mitt_script.py* hvor du skriver inn koden over (bruk notepad.exe, Notepad++ eller en annen text-editor)\n",
    "* Kjør scriptet i cmd med:\n",
    "```\n",
    "python3 mitt_script.py\n",
    "```"
   ]
  },
  {
   "cell_type": "markdown",
   "metadata": {
    "slideshow": {
     "slide_type": "slide"
    }
   },
   "source": [
    "## Oppgaver (2)"
   ]
  },
  {
   "cell_type": "markdown",
   "metadata": {
    "slideshow": {
     "slide_type": "fragment"
    }
   },
   "source": [
    "* (I cmd) naviger til mappen dere fikk av oss\n",
    "* Kjøre kommandoene:\n",
    "```\n",
    "Windows\n",
    "py -3 -m pip install -r requirements.txt\n",
    "Linux\n",
    "pip install -r requirements.txt\n",
    "```\n",
    "```\n",
    "jupyter lab\n",
    "```"
   ]
  }
 ],
 "metadata": {
  "celltoolbar": "Slideshow",
  "kernelspec": {
   "display_name": "Python 3 (ipykernel)",
   "language": "python",
   "name": "python3"
  },
  "language_info": {
   "codemirror_mode": {
    "name": "ipython",
    "version": 3
   },
   "file_extension": ".py",
   "mimetype": "text/x-python",
   "name": "python",
   "nbconvert_exporter": "python",
   "pygments_lexer": "ipython3",
   "version": "3.12.1"
  },
  "livereveal": {
   "height": 1200,
   "width": 1600
  },
  "vscode": {
   "interpreter": {
    "hash": "916dbcbb3f70747c44a77c7bcd40155683ae19c65e1c03b4aa3499c5328201f1"
   }
  }
 },
 "nbformat": 4,
 "nbformat_minor": 4
}

{
 "cells": [
  {
   "cell_type": "markdown",
   "metadata": {
    "slideshow": {
     "slide_type": "slide"
    }
   },
   "source": [
    "# Python 2025"
   ]
  },
  {
   "cell_type": "markdown",
   "metadata": {
    "slideshow": {
     "slide_type": "slide"
    }
   },
   "source": [
    "# Oversikt \n",
    "\n",
    "1. Kurs intro\n",
    "2. Syntax, typer og variabler\n",
    "3. Exceptions\n",
    "4. Kontrollflyt\n",
    "5. Funksjoner og klasser\n",
    "6. Import av moduler\n",
    "7. Nettverk og API\n",
    "8. Filhåndtering\n",
    "9. Scripting og argumenter\n",
    "\n",
    "Ekstra:\n",
    "1. Objektorientering\n",
    "2. Avansertefunksjoner\n",
    "3. Parallellisering\n",
    "4. Avansert Nettverk og API \n",
    "5. Linting, git, kode-assitent og andre tips\n",
    "6. Web skraping\n",
    "7. Optimalisering og databehandling\n",
    "8. Numerisk optimalisering\n",
    "9. Regulære uttrykk"
   ]
  },
  {
   "cell_type": "markdown",
   "metadata": {
    "slideshow": {
     "slide_type": "slide"
    }
   },
   "source": [
    "## 1 - Kurs intro"
   ]
  },
  {
   "cell_type": "markdown",
   "metadata": {
    "slideshow": {
     "slide_type": "slide"
    }
   },
   "source": [
    "## 1.1 Python"
   ]
  },
  {
   "cell_type": "markdown",
   "metadata": {
    "slideshow": {
     "slide_type": "fragment"
    }
   },
   "source": [
    "* General-purpose programming language\n",
    "* Egner seg veldig god til script\n",
    " * Men kan også brukes til mer komplekse program\n",
    "* Nyeste versjon er 3.13\n",
    " * Python 2 (2.7) *endelig* utgått og støttes ikke lenger"
   ]
  },
  {
   "cell_type": "markdown",
   "metadata": {
    "slideshow": {
     "slide_type": "slide"
    }
   },
   "source": [
    "## 1.2 Hvordan bruke Python\n",
    "\n",
    "Tre vanlige metoder:\n",
    "- python shell\n",
    "- python fra kommandolinjen\n",
    "- skript i .py-fil"
   ]
  },
  {
   "cell_type": "markdown",
   "metadata": {
    "slideshow": {
     "slide_type": "fragment"
    }
   },
   "source": [
    "```\n",
    "watcher@apollo:~$ python3\n",
    ">>> print('Hello world')\n",
    "Hello world\n",
    ">>>\n",
    "```"
   ]
  },
  {
   "cell_type": "markdown",
   "metadata": {
    "slideshow": {
     "slide_type": "fragment"
    }
   },
   "source": [
    "```\n",
    "watcher@apollo:~$ python3 –c \"print('Hello world')\"\n",
    "Hello world\n",
    "watcher@apollo:~$\n",
    "```"
   ]
  },
  {
   "cell_type": "markdown",
   "metadata": {
    "slideshow": {
     "slide_type": "subslide"
    }
   },
   "source": [
    "* Python script lagres i filer med .py ending\n",
    "* og kjøres i cmd med:\n",
    "```\n",
    "python3 script.py\n",
    "```"
   ]
  },
  {
   "cell_type": "markdown",
   "metadata": {
    "slideshow": {
     "slide_type": "subslide"
    }
   },
   "source": [
    "## ...pluss et par til\n",
    "\n",
    "- Ipython/Jupyter, gjerne som notebook\n",
    "- IDE (f.eks. VSCode eller PyCharm)"
   ]
  },
  {
   "cell_type": "code",
   "execution_count": null,
   "metadata": {
    "slideshow": {
     "slide_type": "fragment"
    }
   },
   "outputs": [],
   "source": [
    "print('Hello' + ' ' + ' World!')\n",
    "print('Interactive shell for the win!')"
   ]
  },
  {
   "cell_type": "markdown",
   "metadata": {
    "slideshow": {
     "slide_type": "slide"
    }
   },
   "source": [
    "# 1.3 Oppgaver"
   ]
  },
  {
   "cell_type": "markdown",
   "metadata": {},
   "source": [
    "## Oppgave: Hello World"
   ]
  },
  {
   "cell_type": "markdown",
   "metadata": {
    "slideshow": {
     "slide_type": "fragment"
    }
   },
   "source": [
    "* Hvis dere ikke har gjort det allerede:\n",
    "  * Last ned og installer Python 3.13 fra python.org (Eldre versoner som 3.10,3.11 og 3.12 fungerer også fint)\n",
    "* Åpne cmd/terminal og skriv \"python\"\n",
    "* Verifiser at den sier \"Python 3.13.x ...\"\n",
    "* Skriv:\n",
    "```python\n",
    "print('Hello world')\n",
    "```\n",
    "* For å avslutte Python, skriv *exit()*\n",
    "* Lag en fil *mitt_script.py* hvor du skriver inn koden over (bruk notepad.exe, Notepad++ eller en annen text-editor)\n",
    "* Kjør scriptet i cmd med:\n",
    "```\n",
    "python3 mitt_script.py\n",
    "```"
   ]
  },
  {
   "cell_type": "markdown",
   "metadata": {
    "slideshow": {
     "slide_type": "slide"
    }
   },
   "source": [
    "## Oppgave: Åpne jupyter lab"
   ]
  },
  {
   "cell_type": "markdown",
   "metadata": {
    "slideshow": {
     "slide_type": "fragment"
    }
   },
   "source": [
    "* (I cmd) naviger til mappen dere fikk av oss\n",
    "* Kjøre kommandoene:\n",
    "  \n",
    "På Windows:\n",
    "```\n",
    "py -3 -m pip install -r requirements.txt\n",
    "jupyter lab\n",
    "```\n",
    "På linux:\n",
    "```\n",
    "pip install -r requirements.txt\n",
    "jupyter lab\n",
    "```"
   ]
  }
 ],
 "metadata": {
  "celltoolbar": "Slideshow",
  "kernelspec": {
   "display_name": "Python 3",
   "language": "python",
   "name": "python3"
  },
  "language_info": {
   "codemirror_mode": {
    "name": "ipython",
    "version": 3
   },
   "file_extension": ".py",
   "mimetype": "text/x-python",
   "name": "python",
   "nbconvert_exporter": "python",
   "pygments_lexer": "ipython3",
   "version": "3.12.3"
  },
  "livereveal": {
   "height": 1200,
   "width": 1600
  }
 },
 "nbformat": 4,
 "nbformat_minor": 4
}

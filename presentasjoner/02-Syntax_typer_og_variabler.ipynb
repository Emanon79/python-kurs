{
 "cells": [
  {
   "cell_type": "markdown",
   "metadata": {},
   "source": [
    "# 2 - Syntax, Typer og Variabler"
   ]
  },
  {
   "cell_type": "markdown",
   "metadata": {},
   "source": [
    "## 2.1 Kommentarer\n",
    "- `#` brukes for å kommentere ut kode. \n",
    "- Kommentarer blir ignorert når programmet kjøres.\n",
    "- Lurt å legge til kommentarer underveis når man programmerer."
   ]
  },
  {
   "cell_type": "code",
   "execution_count": null,
   "metadata": {},
   "outputs": [],
   "source": [
    "print(1 + 1 * 8 - 3) # Kommentar etter en kodelinje"
   ]
  },
  {
   "cell_type": "code",
   "execution_count": null,
   "metadata": {},
   "outputs": [],
   "source": [
    "# Kommentar før en kodelinje\n",
    "print(2 + 6 * 8 - 3)"
   ]
  },
  {
   "cell_type": "code",
   "execution_count": null,
   "metadata": {},
   "outputs": [],
   "source": [
    "# Kommentert ut kode vil ikke bli eksekvert\n",
    "# 2 + 6 * 8 - 3"
   ]
  },
  {
   "cell_type": "markdown",
   "metadata": {},
   "source": [
    "- `\"\"\"` kan brukes som en slags kommentar over flere linjer.\n",
    "- Er egentlig ikke en kommentar, men en multilinjestreng.\n",
    "- Brukes gjerne for å \n",
    "    - kommentere ut flere linjer med kode man ikke vil kjøre for øyeblikket.\n",
    "    - lage strenger som består av flere linjer hvis man gir strengen til en variabel.\n",
    "- Fungerer ikke som en kommentar i Jupyter hvis multilinjestrengen er til sist i en boks, men vil fungere i scripts."
   ]
  },
  {
   "cell_type": "code",
   "execution_count": null,
   "metadata": {},
   "outputs": [],
   "source": [
    "# for at dette skal fungere som en kommentar i scripts, må man bruke '\"\"\"' uten å opprette noen variabel eller printe ut strengen\n",
    "\"\"\"\n",
    "\"Kommentar\"\n",
    "over\n",
    "flere\n",
    "linjer\n",
    "\"\"\"\n",
    "print('Hello')"
   ]
  },
  {
   "cell_type": "code",
   "execution_count": null,
   "metadata": {},
   "outputs": [],
   "source": [
    "# Kommentert ut kode over flere linjer\n",
    "print(1 + 2 + 4)\n",
    "print(4 + 1 + 7)\n",
    "\"\"\"\n",
    "print('Test')\n",
    "print('av kommentar')\n",
    "\"\"\"\n",
    "print(1 + 2 + 7)"
   ]
  },
  {
   "cell_type": "markdown",
   "metadata": {},
   "source": [
    "## 2.2 Whitespace og indentering\n",
    "- Indentering avgjør hvilket scope koden hører til.\n",
    "- Et scope er et område med kode som skal bli kjørt.\n",
    "- Eksempler på scope er\n",
    "    - Inni en funksjon\n",
    "    - Inni en if-test\n",
    "    - Inni en løkke\n",
    "- Her er et eksempel på ulike scopes basert på indentering. Ikke bry dere om syntaksen for funksjoner og kontrollflyt nå, det skal vi gå gjennom etterhvert"
   ]
  },
  {
   "cell_type": "markdown",
   "metadata": {},
   "source": [
    "## 2.3 Variabler i Python\n",
    "- Ingen typedeklarasjon\n",
    "- Må initialiseres eksplisitt (må gis en verdi)\n",
    "- Resultat: typen på en variabel settes ut fra verdien den gis\n",
    "- Typeteori: strong, dynamic typed language"
   ]
  },
  {
   "cell_type": "code",
   "execution_count": null,
   "metadata": {},
   "outputs": [],
   "source": [
    "år = 2020\n",
    "print(type(år))\n",
    "\n",
    "høyde = 2.1\n",
    "print(type(høyde))\n",
    "\n",
    "navn = \"Ola Normann\"\n",
    "print(type(navn))\n",
    "\n",
    "ingenting = None\n",
    "print(type(ingenting))"
   ]
  },
  {
   "cell_type": "markdown",
   "metadata": {},
   "source": [
    "- Og: variabler kan endre type"
   ]
  },
  {
   "cell_type": "code",
   "execution_count": null,
   "metadata": {},
   "outputs": [],
   "source": [
    "alder = 20\n",
    "print(type(alder))\n",
    "\n",
    "alder = 2.1\n",
    "print(type(alder))\n"
   ]
  },
  {
   "cell_type": "markdown",
   "metadata": {},
   "source": [
    "## 2.4 Minneallokering i Python\n",
    "- C: minne allokeres på stacken ved compiletime, eller i heap under kjøring\n",
    "- Python: alle variabler allokeres dynamisk i heap under kjøring"
   ]
  },
  {
   "cell_type": "markdown",
   "metadata": {},
   "source": [
    "## 2.5 Matematiske operatorer"
   ]
  },
  {
   "cell_type": "code",
   "execution_count": null,
   "metadata": {},
   "outputs": [],
   "source": [
    "a = 2\n",
    "b = 5\n",
    "\n",
    "print(\"a + b   =\", a + b)\n",
    "print(\"b - a   =\", b - a)\n",
    "print(\"a * b   =\", a * b)\n",
    "print(\"b / a   =\", b / a)\n",
    "print(\"b // a  =\", b // a)\n",
    "print(\"a ^ b   =\", a**b)\n",
    "print(\"a mod b =\", b % a)\n",
    "print(\"b mod a =\", a % b) "
   ]
  },
  {
   "cell_type": "markdown",
   "metadata": {},
   "source": [
    "## 2.6 Strenger\n",
    "- Unicode strings og binary strings\n",
    "- Python 2: binary strings som standard\n",
    "- Nytt i Python 3: unicode strings som standard"
   ]
  },
  {
   "cell_type": "code",
   "execution_count": null,
   "metadata": {},
   "outputs": [],
   "source": [
    "print(\"Hello world!\")\n",
    "print(\"Hællø wårld!\")\n",
    "print(\"你好，世界\")\n",
    "print(\"مرحبا بالعالم\")\n",
    "print(\"😎\")"
   ]
  },
  {
   "cell_type": "markdown",
   "metadata": {},
   "source": [
    "\n",
    "\n",
    "```bash\n",
    "        |  2.x                     |  3.x\n",
    "--------+--------------------------+-----------------------\n",
    "Bytes   |  'abc' <type 'str'>      |  b'abc' <type 'bytes'>\n",
    "Unicode | u'abc' <type 'unicode'>  |   'abc' <type 'str'>\n",
    "```"
   ]
  },
  {
   "cell_type": "markdown",
   "metadata": {},
   "source": [
    "* Strenger kan opprettes på tre måter:"
   ]
  },
  {
   "cell_type": "code",
   "execution_count": null,
   "metadata": {},
   "outputs": [
    {
     "data": {
      "text/plain": [
       "True"
      ]
     },
     "metadata": {},
     "output_type": "display_data"
    }
   ],
   "source": [
    "a = \"hello\"\n",
    "b = 'hello'\n",
    "c = \"\"\"hello\"\"\"\n",
    "\n",
    "a == b == c"
   ]
  },
  {
   "cell_type": "markdown",
   "metadata": {},
   "source": [
    "* Noen små forskjeller:"
   ]
  },
  {
   "cell_type": "code",
   "execution_count": null,
   "metadata": {},
   "outputs": [],
   "source": [
    "a = \"Strenger mellom dobbeltfnutter kan ha ' i seg\"\n",
    "b = 'Strenger mellom enkeltfnutter kan ha \" i seg'\n",
    "c = \"\"\"\n",
    "Strenger mellom tre dobbeltfnutter kan ha både \" og ' i seg,\n",
    "og gå over flere linjer :)\n",
    "\"\"\""
   ]
  },
  {
   "cell_type": "markdown",
   "metadata": {},
   "source": [
    "Konkatinering:"
   ]
  },
  {
   "cell_type": "code",
   "execution_count": null,
   "metadata": {},
   "outputs": [],
   "source": [
    "first = \"Hello\"\n",
    "space = ' '\n",
    "last = 'World!'\n",
    "\n",
    "print(first + space + last)\n",
    "print(last + space + space + space + first)"
   ]
  },
  {
   "cell_type": "markdown",
   "metadata": {},
   "source": [
    "Konvertering:"
   ]
  },
  {
   "cell_type": "code",
   "execution_count": null,
   "metadata": {},
   "outputs": [],
   "source": [
    "a = 5\n",
    "print(\"Jeg har \" + str(a) + \" hatter!\")\n",
    "\n",
    "b = \"2\"\n",
    "c = \"3\"\n",
    "svar = int(b) + int(c)\n",
    "print(b + \" + \" + c + \" = \" + str(svar))"
   ]
  },
  {
   "cell_type": "markdown",
   "metadata": {},
   "source": [
    "Strengformatering:\n",
    "* Flere metoder for å kombinere og bygge strenger:"
   ]
  },
  {
   "cell_type": "code",
   "execution_count": null,
   "metadata": {},
   "outputs": [],
   "source": [
    "'Jeg er %d år gammel, men er fortsatt %s' % (60, 'ikke gammel')"
   ]
  },
  {
   "cell_type": "code",
   "execution_count": null,
   "metadata": {},
   "outputs": [],
   "source": [
    "'Jeg er {0} år gammel, men er fortsatt {1}'.format(100, 'ung')"
   ]
  },
  {
   "cell_type": "code",
   "execution_count": null,
   "metadata": {},
   "outputs": [],
   "source": [
    "'Jeg har {antall} søstre'.format(antall=5)"
   ]
  },
  {
   "cell_type": "markdown",
   "metadata": {},
   "source": [
    "Unikt for python 3.6+: f-strings"
   ]
  },
  {
   "cell_type": "code",
   "execution_count": null,
   "metadata": {},
   "outputs": [],
   "source": [
    "var = 25\n",
    "print(f\"Jeg er {var*5} år gammel\")\n",
    "\n",
    "print(f\"{var=}\")"
   ]
  },
  {
   "cell_type": "markdown",
   "metadata": {},
   "source": [
    "## 2.7 print() og input()"
   ]
  },
  {
   "cell_type": "markdown",
   "metadata": {},
   "source": [
    "* print() funksjonen brukes for å skrive ut ting\n",
    "* Legger til ett linjeskift på slutten\n",
    "* Uten argumenter, printer den bare en tom linje\n",
    "* Kan ta flere argumenter, av forskjellige typer"
   ]
  },
  {
   "cell_type": "code",
   "execution_count": null,
   "metadata": {},
   "outputs": [],
   "source": [
    "print(\"Hello World!\")\n",
    "print()\n",
    "\n",
    "a = 2\n",
    "b = 3\n",
    "print(a, \"+\", b, \"=\", a + b)"
   ]
  },
  {
   "cell_type": "markdown",
   "metadata": {},
   "source": [
    "* input() funksjonen brukes for å få informasjon fra brukeren\n",
    "* Tar en spørre-streng som argument, og returnerer en streng"
   ]
  },
  {
   "cell_type": "code",
   "execution_count": null,
   "metadata": {},
   "outputs": [],
   "source": [
    "a = input(\"Hva heter du? \")\n",
    "print(\"Hei \" + a)\n",
    "input(\"Trykk enter for å fortsette\")"
   ]
  },
  {
   "cell_type": "markdown",
   "metadata": {},
   "source": [
    "## 2.8 Lister og tupler"
   ]
  },
  {
   "cell_type": "markdown",
   "metadata": {},
   "source": [
    "* Brukes for å holde verdier\n",
    "* Kan minne om arrays i c\n",
    " * Overlappende bruksområder\n",
    " * Men helt annen underliggende datastruktur\n",
    "* Dobbeltlinket-liste\n",
    "* Kan holde alle typer objekter\n",
    " * Og objekter av forskjellige typer i samme liste\n",
    " * Lister kan inneholde andre lister (nesting)\n",
    "* Tupler fungerer som lister, men kan ikke endres på etter opprettelse\n",
    "* Bruk len() for å få antallet elementer i en liste/tupel"
   ]
  },
  {
   "cell_type": "code",
   "execution_count": null,
   "metadata": {},
   "outputs": [],
   "source": [
    "tom_liste = []\n",
    "l1 = [\"Noen\", \"ord\", \"i\", \"denne\", \"listen\"]\n",
    "l2 = [2, 5, 7]\n",
    "l3 = [\"streng\", 1337, 3.14]\n",
    "\n",
    "t1 = (1, 2, 3)\n",
    "t2 = (\"abc\", 42, 2.72)\n",
    "\n",
    "print(\"Lengden på l1:\", len(l1))\n",
    "print(\"Lengden på l2:\", len(l2))"
   ]
  },
  {
   "cell_type": "markdown",
   "metadata": {},
   "source": [
    "* Elementer kan hentes ut fra lister og tupler\n",
    "* Slicing\n",
    "* Reversering\n",
    "* Sortering"
   ]
  },
  {
   "cell_type": "markdown",
   "metadata": {},
   "source": [
    "Slicing:"
   ]
  },
  {
   "cell_type": "code",
   "execution_count": null,
   "metadata": {},
   "outputs": [],
   "source": [
    "l = [\"Noen\", \"ord\", \"i\", \"denne\", \"listen\"]\n",
    "print(l[0], l[1], l[2], l[3], l[4])\n",
    "print(l[-1], l[-2], l[-3], l[-4], l[-5])\n",
    "\n",
    "print(l[0:2])\n",
    "print(l[:2]) #Snarvei\n",
    "print()\n",
    "\n",
    "print(l[2:5])\n",
    "print(l[2:]) #Snarvei\n",
    "print()\n",
    "\n",
    "print(l[0:5:2])\n",
    "print(l[::2]) #Snarvei\n",
    "print()\n",
    "\n",
    "print(l[::-1]) #Snarvei"
   ]
  },
  {
   "cell_type": "markdown",
   "metadata": {},
   "source": [
    "Kan sette og oppdatere verdier i lister"
   ]
  },
  {
   "cell_type": "code",
   "execution_count": null,
   "metadata": {},
   "outputs": [],
   "source": [
    "l = [\"Noen\", \"ord\", \"i\", \"denne\", \"listen\"]\n",
    "print(\"1:\", l)\n",
    "l[0] = \"Mange\"\n",
    "print(\"2:\", l)\n",
    "\n",
    "l.append(\"eksisterer\")\n",
    "print(\"3:\", l)\n",
    "\n",
    "a = l.pop()\n",
    "print(a)\n",
    "print(\"4:\", l)\n",
    "\n",
    "a = l.pop(3)\n",
    "print(a)\n",
    "print(\"5:\", l)\n",
    "\n",
    "l.insert(2, \"eksisterer\")\n",
    "print(\"6:\", l)"
   ]
  },
  {
   "cell_type": "markdown",
   "metadata": {},
   "source": [
    "Sortering:"
   ]
  },
  {
   "cell_type": "code",
   "execution_count": null,
   "metadata": {},
   "outputs": [],
   "source": [
    "l = [\"Noen\", \"ord\", \"i\", \"denne\", \"listen\"]\n",
    "print(\"1:\", l)\n",
    "\n",
    "l.sort()\n",
    "\n",
    "print(\"2:\", l)"
   ]
  },
  {
   "cell_type": "markdown",
   "metadata": {},
   "source": [
    "Lister og strenger, split() og join()\n",
    "* split(*sep*) deler en streng opp i flere deler, hvor *sep* er en separator\n",
    "* *s*.join(*l*) setter sammen en liste *l* med strenger, med separator *s* mellom hvert element"
   ]
  },
  {
   "cell_type": "code",
   "execution_count": null,
   "metadata": {},
   "outputs": [],
   "source": [
    "s = \"Denne strengen har mange ord\"\n",
    "l = s.split(\" \")\n",
    "print(l)\n",
    "\n",
    "n = \"_\".join(l)\n",
    "print(n)"
   ]
  },
  {
   "cell_type": "markdown",
   "metadata": {},
   "source": [
    "## 2.9 Dictionaries"
   ]
  },
  {
   "cell_type": "markdown",
   "metadata": {},
   "source": [
    "* Også kalt maps og hashmaps i andre språk\n",
    "* Datastruktur som kobler sammen en nøkkel med en verdi\n",
    "* Nøkler kan være av alle enkle typer\n",
    " * f.eks: int, string, float\n",
    " * Men ikke: lister, tupler, dictionaries eller andre komplekse datatyper\n",
    "* Verdier kan være hva som helst\n",
    " * Inkludert andre dictionaries (nesting)\n",
    "\n",
    "* Nytt i 3.7: tar vare på rekkefølgen\n",
    " * Før 3.7 var ikke dette garantert (måtte bruke OrderedDict)"
   ]
  },
  {
   "cell_type": "code",
   "execution_count": null,
   "metadata": {},
   "outputs": [],
   "source": [
    "person = {\n",
    "    \"fornavn\": \"Ola\",\n",
    "    \"etternavn\": \"Normann\",\n",
    "    \"alder\": 25\n",
    "}\n",
    "print(person[\"fornavn\"])\n",
    "print(person[\"etternavn\"])\n",
    "print(person[\"alder\"])"
   ]
  },
  {
   "cell_type": "code",
   "execution_count": null,
   "metadata": {},
   "outputs": [],
   "source": [
    "tall = {\"a\": 2, \"b\": 3}\n",
    "print(\"1:\", tall)\n",
    "\n",
    "tall[\"c\"] = tall[\"a\"] + tall[\"b\"] \n",
    "print(\"2:\", tall)\n",
    "\n",
    "tall[\"c\"] = 7\n",
    "print(\"3:\", tall)\n",
    "\n",
    "tmp = tall.pop(\"c\")\n",
    "print(\"tmp:\", tmp)\n",
    "print(\"4:\", tall)"
   ]
  },
  {
   "cell_type": "code",
   "execution_count": null,
   "metadata": {},
   "outputs": [],
   "source": [
    "person = {\n",
    "    \"fornavn\": \"Ola\",\n",
    "    \"etternavn\": \"Normann\",\n",
    "    \"alder\": 25\n",
    "}\n",
    "\n",
    "print(\"Høyde (før):\", person.get(\"høyde\", None))\n",
    "person[\"høyde\"] = 1.75\n",
    "print(\"Høyde (etter):\", person.get(\"høyde\", -1))\n",
    "print()\n",
    "\n",
    "print(list(person.keys()))\n",
    "print(list(person.values()))\n",
    "print(list(person.items()))"
   ]
  }
 ],
 "metadata": {
  "language_info": {
   "name": "python"
  }
 },
 "nbformat": 4,
 "nbformat_minor": 2
}

{
 "cells": [
  {
   "cell_type": "markdown",
   "metadata": {},
   "source": [
    "# 3 - Exceptions"
   ]
  },
  {
   "cell_type": "markdown",
   "metadata": {},
   "source": [
    "## 3.1 Generelt om exceptions"
   ]
  },
  {
   "cell_type": "markdown",
   "metadata": {},
   "source": [
    "* Programmerings-konsept for å håndtere uventede eller ugyldige situasjoner\n",
    " * For å unngå at programmet krasjer\n",
    "* Flere typer exceptions, avhengig av hvilken situasjon som oppstod"
   ]
  },
  {
   "cell_type": "markdown",
   "metadata": {},
   "source": [
    "## 3.2 Håndtere exceptions"
   ]
  },
  {
   "cell_type": "markdown",
   "metadata": {},
   "source": [
    "* Egen syntax for å håndtere exceptions\n",
    "* try-blokk\n",
    " * Her plasseres koden som kan forårsake et exception\n",
    "* except-blokk\n",
    " * Her plasseres koden som kjøres dersom et exception oppstår\n",
    "* finally-blokk\n",
    " * Koden i blokken kjøres alltid etter de andre to\n",
    " * ikke alltid relevant, og trengs derfor ikke alltid å være med"
   ]
  },
  {
   "cell_type": "code",
   "execution_count": null,
   "metadata": {},
   "outputs": [],
   "source": [
    "a = 5\n",
    "b = \"tall\"\n",
    "try:\n",
    "    print(\"Inne i try-blokken\")\n",
    "    c = a / b # Her går det galt\n",
    "    print(c)\n",
    "    print(\"Etter deling\")\n",
    "except:\n",
    "    print(\"Inne i except-blokken\")\n",
    "    print(\"Her kan exceptionet håndteres\")\n",
    "finally:\n",
    "    print(\"Inne i finally-blokken\")\n",
    "    "
   ]
  },
  {
   "cell_type": "code",
   "execution_count": null,
   "metadata": {},
   "outputs": [],
   "source": [
    "a = 5\n",
    "b = 2\n",
    "c = -1\n",
    "try:\n",
    "    c = a / b\n",
    "    s = \"Svaret ble \" + c\n",
    "    print(s)\n",
    "except ZeroDivisionError:\n",
    "    print(\"Du kan ikke dele på 0 :(\")\n",
    "except TypeError:\n",
    "    print(\"int-er må konverteres til strenger før konkatinering!\")\n",
    "except:\n",
    "    print(\"Generell feil\")"
   ]
  },
  {
   "cell_type": "markdown",
   "metadata": {},
   "source": [
    "### Finally\n",
    "Finally kjøres alltid, selv om exceptions blir raised eller om du returnerer ut av funksjonen der try-blokken ligger"
   ]
  },
  {
   "cell_type": "code",
   "execution_count": null,
   "metadata": {},
   "outputs": [],
   "source": [
    "def funksjon():\n",
    "    try:\n",
    "        print(\"Inne i try-blokken\")\n",
    "        a = 5\n",
    "        b = \"tall\"\n",
    "        c = a / b # Her går det galt\n",
    "        print(c)\n",
    "        print(\"Etter deling\")\n",
    "    except:\n",
    "        print(\"Inne i except-blokken\")\n",
    "        return \"Funksjonen returnerer\"\n",
    "    finally:\n",
    "        print(\"Inne i finally-blokken\")\n",
    "\n",
    "print(funksjon())"
   ]
  },
  {
   "cell_type": "markdown",
   "metadata": {},
   "source": [
    "# 3.3 Oppgaver"
   ]
  },
  {
   "cell_type": "markdown",
   "metadata": {},
   "source": [
    "## Oppgave: Lag noen exceptions\n",
    "Hvilke exceptions oppstår når dere:\n",
    "* Deler på 0\n",
    "* Kjører koden: \n",
    "```python\n",
    "a = 12\n",
    "\"En streng\" + a\n",
    "```\n",
    "* Kjører koden:\n",
    "```python\n",
    "a = 12\n",
    "a + \"En streng\"\n",
    "```\n",
    "* Prøver å aksessere en variabel som ikke har blitt opprettet\n",
    "* Aksesserer en nøkkel som ikke eksisterer i en dict\n",
    "* Modifisere en verdi i en tuple"
   ]
  },
  {
   "cell_type": "markdown",
   "metadata": {},
   "source": [
    "## Oppgave: Håndtere exceptions\n",
    "\n",
    "* Lag exception handlere for de dere lagde i forrige oppgave\n",
    "* Håndtere feilen på best mulig måte, eller bare printe en feilmelding"
   ]
  },
  {
   "cell_type": "markdown",
   "metadata": {},
   "source": [
    "# Ekstra oppgaver"
   ]
  },
  {
   "cell_type": "markdown",
   "metadata": {},
   "source": [
    "Lag din egen custom exception og bruk raise til å trigge. \n",
    "\n",
    "I din exception printer du ut traceback"
   ]
  }
 ],
 "metadata": {
  "kernelspec": {
   "display_name": "Python 3",
   "language": "python",
   "name": "python3"
  },
  "language_info": {
   "name": "python",
   "version": "3.12.3"
  }
 },
 "nbformat": 4,
 "nbformat_minor": 2
}

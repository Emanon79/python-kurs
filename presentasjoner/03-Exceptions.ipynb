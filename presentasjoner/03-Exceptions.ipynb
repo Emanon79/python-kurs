{
 "cells": [
  {
   "cell_type": "markdown",
   "metadata": {},
   "source": [
    "# 3 - Exceptions"
   ]
  },
  {
   "cell_type": "markdown",
   "metadata": {},
   "source": [
    "## 3.1 Generelt om exceptions"
   ]
  },
  {
   "cell_type": "markdown",
   "metadata": {},
   "source": [
    "* Programmerings-konsept for å håndtere uventede eller ugyldige situasjoner\n",
    " * For å unngå at programmet krasjer\n",
    "* Flere typer exceptions, avhengig av hvilken situasjon som oppstod"
   ]
  },
  {
   "cell_type": "markdown",
   "metadata": {},
   "source": [
    "## 3.2 Håndtere exceptions"
   ]
  },
  {
   "cell_type": "markdown",
   "metadata": {},
   "source": [
    "* Egen syntax for å håndtere exceptions\n",
    "* try-blokk\n",
    " * Her plasseres koden som kan forårsake et exception\n",
    "* except-blokk\n",
    " * Her plasseres koden som kjøres dersom et exception oppstår\n",
    "* finally-blokk\n",
    " * Koden i blokken kjøres alltid etter de andre to\n",
    " * ikke alltid relevant, og trengs derfor ikke alltid å være med"
   ]
  },
  {
   "cell_type": "code",
   "execution_count": null,
   "metadata": {},
   "outputs": [],
   "source": [
    "a = 5\n",
    "b = \"tall\"\n",
    "try:\n",
    "    print(\"Inne i try-blokken\")\n",
    "    c = a / b # Her går det galt\n",
    "    print(c)\n",
    "    print(\"Etter deling\")\n",
    "except:\n",
    "    print(\"Inne i except-blokken\")\n",
    "    print(\"Her kan exceptionet håndteres\")\n",
    "finally:\n",
    "    print(\"Inne i finally-blokken\")\n",
    "    "
   ]
  },
  {
   "cell_type": "code",
   "execution_count": null,
   "metadata": {},
   "outputs": [],
   "source": [
    "a = 5\n",
    "b = 2\n",
    "c = -1\n",
    "try:\n",
    "    c = a / b\n",
    "    s = \"Svaret ble \" + c\n",
    "    print(s)\n",
    "except ZeroDivisionError:\n",
    "    print(\"Du kan ikke dele på 0 :(\")\n",
    "except TypeError:\n",
    "    print(\"int-er må konverteres til strenger før konkatinering!\")\n",
    "except:\n",
    "    print(\"Generell feil\")"
   ]
  },
  {
   "cell_type": "markdown",
   "metadata": {},
   "source": [
    "### Finally\n",
    "Finally kjøres alltid, selv om exceptions blir raised eller om du returnerer ut av funksjonen der try-blokken ligger"
   ]
  },
  {
   "cell_type": "code",
   "execution_count": null,
   "metadata": {},
   "outputs": [],
   "source": [
    "def funksjon():\n",
    "    try:\n",
    "        print(\"Inne i try-blokken\")\n",
    "        a = 5\n",
    "        b = \"tall\"\n",
    "        c = a / b # Her går det galt\n",
    "        print(c)\n",
    "        print(\"Etter deling\")\n",
    "    except:\n",
    "        print(\"Inne i except-blokken\")\n",
    "        return \"Funksjonen returnerer\"\n",
    "    finally:\n",
    "        print(\"Inne i finally-blokken\")\n",
    "\n",
    "print(funksjon())"
   ]
  }
 ],
 "metadata": {
  "language_info": {
   "name": "python"
  }
 },
 "nbformat": 4,
 "nbformat_minor": 2
}

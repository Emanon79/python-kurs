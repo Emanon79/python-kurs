{
 "cells": [
  {
   "cell_type": "markdown",
   "metadata": {},
   "source": [
    "# 4 - Kontrollflyt"
   ]
  },
  {
   "cell_type": "markdown",
   "metadata": {},
   "source": [
    "## 4.1 Boolske verdier"
   ]
  },
  {
   "cell_type": "markdown",
   "metadata": {},
   "source": [
    "- Nøkkelordet 'True' er alltid sann og vil tilsvare verdien 1\n",
    "- Nøkkelordet 'False' er alltid usann og vil tilsvare verdien 0\n",
    "- 'True' og 'False' er verdier av typen 'bool'\n",
    "- Andre verdier kan konverteres til bool med bool()-funksjonen"
   ]
  },
  {
   "cell_type": "code",
   "execution_count": null,
   "metadata": {},
   "outputs": [],
   "source": [
    "print(type(True))\n",
    "print(type(False))\n",
    "\n",
    "print(bool(1))\n",
    "print(bool(0))"
   ]
  },
  {
   "cell_type": "code",
   "execution_count": null,
   "metadata": {},
   "outputs": [],
   "source": [
    "print(\"True  = \", int(True))\n",
    "print(\"False = \", int(False))\n",
    "print(\"1     = \", bool(1))\n",
    "print(\"-0.23 = \", bool(-0.23))\n",
    "print(\"0     = \", bool(0))\n",
    "print(\"'a'   = \", bool('a'))\n",
    "print(\"''    = \", bool(''))"
   ]
  },
  {
   "cell_type": "markdown",
   "metadata": {},
   "source": [
    "## 4.2 AND, OR og NOT"
   ]
  },
  {
   "cell_type": "markdown",
   "metadata": {},
   "source": [
    "- 'and' er sann hvis begge verdiene er sanne\n",
    "- 'or' er sann hvis en av verdiene er sanne\n",
    "- 'not' inverterer en verdi\n",
    "- Paranteser kan brukes for å kontrollere sammenligninger"
   ]
  },
  {
   "cell_type": "code",
   "execution_count": null,
   "metadata": {},
   "outputs": [],
   "source": [
    "a = True\n",
    "b = False\n",
    "print(a and b)\n",
    "print(bool(a and not b))\n",
    "print(bool(a or b))"
   ]
  },
  {
   "cell_type": "markdown",
   "metadata": {},
   "source": [
    "## 4.3 if-statement"
   ]
  },
  {
   "cell_type": "markdown",
   "metadata": {},
   "source": [
    "- En if-statement tester en verdi og kjører kodeblokken dersom resultatet er 'True'\n",
    "- Indentering avgjør hva som tilhører if-statementet\n",
    "- 'if' kan brukes alene eller utvides med 'elif' og 'else'\n",
    "- 'elif' (else if) fungerer likt som 'if' men må komme etter en 'if'\n",
    "- Alle påfølgende 'elif' kjøres kun dersom ingen tidligere 'if'/'elif' er sanne\n",
    " - Rekkefølgen kan ha noe å si\n",
    "- 'else' kjøres dersom alle if- og elif-statements er 'False' "
   ]
  },
  {
   "cell_type": "code",
   "execution_count": null,
   "metadata": {},
   "outputs": [],
   "source": [
    "liste = ['x', 'y', 'z']\n",
    "a = 0\n",
    "b = 1\n",
    "\n",
    "if a:\n",
    "    print(\"if-blokken\")\n",
    "elif liste[0] == \"x\" and a:\n",
    "    print(\"Første elif-blokk\")\n",
    "elif 'y' in liste and b:\n",
    "    print(\"Andre elif-blokk\")\n",
    "else:\n",
    "    print(\"Else blokk\")"
   ]
  },
  {
   "cell_type": "markdown",
   "metadata": {},
   "source": [
    "*in*\n",
    "* Brukes for å teste om en verdi befinner seg i en streng, liste, tupel eller dict"
   ]
  },
  {
   "cell_type": "code",
   "execution_count": null,
   "metadata": {},
   "outputs": [],
   "source": [
    "s = \"Mitt navn er ole\"\n",
    "if \"er\" in s:\n",
    "    print(\"Fant er\")\n",
    "\n",
    "verdi = 7\n",
    "l = [4,3,7,4,2]\n",
    "if verdi in l:\n",
    "    print(f\"Fant {verdi}\")\n",
    "\n",
    "nøkkel = \"b\"\n",
    "d = {\"a\": 1, \"b\": 2, \"c\": 3}\n",
    "if nøkkel in d:\n",
    "    print(d[nøkkel])"
   ]
  },
  {
   "cell_type": "markdown",
   "metadata": {},
   "source": [
    "## 4.4 Løkker (loops)"
   ]
  },
  {
   "cell_type": "markdown",
   "metadata": {},
   "source": [
    "* To typer løkker i python: \n",
    " * for: brukes for å iterere over alle verdiene i en sekvens\n",
    " * while: fortsetter å iterere så lenge en betingelse er sann\n",
    "* Noen andre relevante nøkkelord:\n",
    " * break: brukes for å umiddelbart hoppe ut av løkken\n",
    " * continue: brukes for å umiddelbart gå til neste iterasjon i løkken\n",
    "* Hjelpefunksjon: range()\n",
    " * returnerer en liste med tall"
   ]
  },
  {
   "cell_type": "code",
   "execution_count": null,
   "metadata": {},
   "outputs": [],
   "source": [
    "a = list(range(5))\n",
    "print(a)\n",
    "\n",
    "b = list(range(2, 5))\n",
    "print(b)\n",
    "\n",
    "c = list(range(0, 20, 2))\n",
    "print(c)"
   ]
  },
  {
   "cell_type": "markdown",
   "metadata": {},
   "source": [
    "For løkker:"
   ]
  },
  {
   "cell_type": "code",
   "execution_count": null,
   "metadata": {},
   "outputs": [],
   "source": [
    "print(\"Først løkke:\")\n",
    "for number in range(5):\n",
    "    if number == 2:\n",
    "        continue\n",
    "    print(number)\n",
    "print()\n",
    "\n",
    "print(\"Andre løkke:\")\n",
    "bokstaver = ['a', 'b', 'c']\n",
    "for bokstav in bokstaver:\n",
    "    print(bokstav)"
   ]
  },
  {
   "cell_type": "markdown",
   "metadata": {},
   "source": [
    "While løkker:"
   ]
  },
  {
   "cell_type": "code",
   "execution_count": null,
   "metadata": {},
   "outputs": [],
   "source": [
    "print(\"Først løkke:\")\n",
    "a = 0\n",
    "while a < 10:\n",
    "    print(a)\n",
    "    a += 2\n",
    "print()\n",
    "\n",
    "print(\"Andre løkke:\")\n",
    "b = 0\n",
    "while True:\n",
    "    print(b)\n",
    "    if b == 3:\n",
    "        print(\"Done!\")\n",
    "        break\n",
    "    b += 1"
   ]
  },
  {
   "cell_type": "markdown",
   "metadata": {},
   "source": [
    "## 4.5 Itererbare typer"
   ]
  },
  {
   "cell_type": "markdown",
   "metadata": {},
   "source": [
    "* Typer som kan itereres over\n",
    " * f.eks lister\n",
    "* Andre typer som kan itereres over:\n",
    " * Strenger\n",
    " * Generatorer: som genererer verdier underveis\n",
    "   * range()\n",
    "   * enumerate()\n",
    " * dicts: kan iterere over nøkler, verdier eller begge samtidig"
   ]
  },
  {
   "cell_type": "code",
   "execution_count": null,
   "metadata": {},
   "outputs": [],
   "source": [
    "print(\"Første løkke:\")\n",
    "a = \"Hello\"\n",
    "for bokstav in a:\n",
    "    print(bokstav)\n",
    "print()\n",
    "\n",
    "print(\"Andre løkke:\")\n",
    "a = {\"a\": 1, \"b\": 2, \"c\": 3}\n",
    "for key, value in a.items():\n",
    "    print(key, \"peker på\", value)\n",
    "print()\n",
    "\n",
    "print(\"Tredje løkke:\")\n",
    "bokstaver = [\"a\", \"b\", \"c\", \"d\"]\n",
    "for i, bokstav in enumerate(bokstaver):\n",
    "    print(\"Element nummer\", i , \"er\", bokstav)"
   ]
  },
  {
   "cell_type": "markdown",
   "metadata": {},
   "source": [
    "## 4.6 Oppgaver"
   ]
  },
  {
   "cell_type": "markdown",
   "metadata": {},
   "source": [
    "## Oppgaver: Bolske verdier og if\n",
    "\n",
    "* Gitt a=0, b=0 og c=1, hva blir følgende uttrykk: (tenk gjennom dem og prøv dem i python)\n",
    "```python\n",
    "a and b and c\n",
    "a or b or c\n",
    "a and not c\n",
    "```\n",
    "* Gi variablene a, b, c og d riktig True eller False verdi slik at meldingen under printes:"
   ]
  },
  {
   "cell_type": "code",
   "execution_count": null,
   "metadata": {},
   "outputs": [],
   "source": [
    "a = False\n",
    "b = False\n",
    "c = False\n",
    "d = False\n",
    "if not (not a or not b) and (a or c) and (d and not c):\n",
    "  print(\"Hurra!\")"
   ]
  },
  {
   "cell_type": "markdown",
   "metadata": {},
   "source": [
    "## Oppgaver: Løkker \n",
    "\n",
    "* Lag en for-løkke som printer 2^n hvor n er tallene 0 til 10\n",
    "* FizzBuzz:\n",
    " * Skriv ett program som printer alle tallene fra 1 til 100\n",
    " * For tall som kan deles på 3, print ordet \"Fizz\" istedet for tallet\n",
    " * For tall som kan deles på 5, print ordet \"Buzz\" istedet for tallet\n",
    " * For tall som kan deles på både 3 og 5, print ordet \"FizzBuzz\" istedet for tallet "
   ]
  },
  {
   "cell_type": "markdown",
   "metadata": {},
   "source": [
    "## Oppgaver: Itererbare typer\n",
    "\n",
    "* Gitt en dict:\n",
    "```python\n",
    "d = {\"a\": 543, \"b\": 658, \"c\": 13, \"d\": 123}\n",
    "```\n",
    "* Bruk en for-løkke til å iterere over og summere opp verdiene i dicten. Print summen til slutt.\n",
    "\n",
    "\n",
    "* Opprett en streng som er minst 25 karakterer lang\n",
    "* Bruk en for-løkke og enumerate til å iterere over strengen, og print hver bokstav og tilhørende indeks"
   ]
  }
 ],
 "metadata": {
  "language_info": {
   "name": "python"
  }
 },
 "nbformat": 4,
 "nbformat_minor": 2
}

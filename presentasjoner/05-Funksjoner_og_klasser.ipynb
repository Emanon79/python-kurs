{
 "cells": [
  {
   "cell_type": "markdown",
   "metadata": {},
   "source": [
    "# 5 - Funksjoner og klasser"
   ]
  },
  {
   "cell_type": "markdown",
   "metadata": {},
   "source": [
    "## 5.1 funksjoner og argumenter/parametre\n",
    "- Funksjoner defineres med nøkkelordet 'def' fulgt av funksjonsnavn og parantes\n",
    "- Parametre plasseres inne i parantesen\n",
    "- Beskrivelse av funksjonen kan legges til som første ledd, inni enkel eller trippel anførselstegn\n",
    "- Innrykk definerer hva som tilhører kodeblokken til funksjonen\n",
    "- \"return\" avslutter funksjonen og returnerer verdien som følger etter\n",
    "\n",
    "Definerer en funksjon som legger sammen to lister, sorterer innholdet og deretter returnerer resultatet som én liste"
   ]
  },
  {
   "cell_type": "code",
   "execution_count": 2,
   "metadata": {},
   "outputs": [],
   "source": [
    "def merge_and_sort(list1, list2):\n",
    "    \"\"\"\n",
    "    Denne funksjonen slår sammen og\n",
    "    sorterer to lister. Funksjonen har to parametre,\n",
    "    'list1' og 'list2'\n",
    "    \"\"\"\n",
    "    list3 = list1 + list2\n",
    "    list3.sort()\n",
    "    return list3"
   ]
  },
  {
   "cell_type": "markdown",
   "metadata": {},
   "source": [
    "Vi kan kjøre denne funksjonen slik:"
   ]
  },
  {
   "cell_type": "code",
   "execution_count": null,
   "metadata": {},
   "outputs": [],
   "source": [
    "bokstaver = ['c', 'a', 'b']\n",
    "tall = ['1', '3', '2']\n",
    "\n",
    "merge_and_sort(bokstaver, tall)"
   ]
  },
  {
   "cell_type": "markdown",
   "metadata": {},
   "source": [
    "Vi kaller altså funksjonen og sender inn to argumenter; 'bokstaver' og 'tall'"
   ]
  },
  {
   "cell_type": "markdown",
   "metadata": {},
   "source": [
    "**Standardverdier**\n",
    "- Når en funksjon defineres kan også standardverdier for parametrene angis. Denne verdien blir brukt dersom ingen verdi blir sendt inn som argumenter når funksjonen kalles.\n",
    "\n",
    "Funksjonen under summerer (maks 3) tall og skriver ut resultatet. (Har ingen \"return\" verdi)"
   ]
  },
  {
   "cell_type": "code",
   "execution_count": null,
   "metadata": {},
   "outputs": [],
   "source": [
    "def sum(tall1=0, tall2=0, tall3=0):\n",
    "    print(\"Summen er:\", tall1+tall2+tall3)\n",
    "sum(1,4)"
   ]
  },
  {
   "cell_type": "markdown",
   "metadata": {},
   "source": [
    "Hvis man ikke alltid husker rekkefølgen på parametrene i en funksjon, eller at man vil gi et spesifikt parameter en verdi,\n",
    "kan man spesifisere variabelnavnet når man kaller funksjonen:"
   ]
  },
  {
   "cell_type": "code",
   "execution_count": null,
   "metadata": {},
   "outputs": [],
   "source": [
    "sum(tall3=43)"
   ]
  },
  {
   "cell_type": "markdown",
   "metadata": {},
   "source": [
    "## 5.1 Klasser\n",
    "- En klasse er en samling av funksjoner og variabler i en enhet (objekt)\n",
    "- Deklareres ved å bruke nøkkelordet **class**\n",
    "- Alle funksjoner i en klasse må ha en referanse til klassen selv (_self_) som første parameter.\n",
    " - selv om funksjonen ikke trenger parametre\n",
    "- Variabler som hører til klassen (kalles for attributter) kan brukes av funksjoner ved å bruke `self.variabelnavn`\n",
    "- De kan arve egenskaper fra en overordnet klasse"
   ]
  },
  {
   "cell_type": "markdown",
   "metadata": {},
   "source": [
    "**Eksempel** på en klasse"
   ]
  },
  {
   "cell_type": "code",
   "execution_count": 6,
   "metadata": {},
   "outputs": [],
   "source": [
    "class TargetHost:\n",
    "    \"\"\"Collected info on target\"\"\"\n",
    "    hostname = \"Unknown\"\n",
    "    os = \"Unknown\"\n",
    "    open_ports = []\n",
    "    \n",
    "    def info(self):\n",
    "        print(\"Hostname: {verdi}\".format(verdi=self.hostname))\n",
    "        print(\"OS:\", self.os)\n",
    "        print(\"Open ports: %s\" % \", \".join(self.open_ports))\n"
   ]
  },
  {
   "cell_type": "markdown",
   "metadata": {},
   "source": [
    "## 5.2 Instanser\n",
    "En instans er et individuelt objekt av en gitt klasse. Klassen blir brukt som en mal til å lage en instans (objekt).\n",
    "Man kan initialisere dette objektet og gi det til en variabel for å aksessere objektets attributter og metoder.\n"
   ]
  },
  {
   "cell_type": "code",
   "execution_count": null,
   "metadata": {},
   "outputs": [],
   "source": [
    "new_host = TargetHost()                  # Initialiserer et objekt av TargetHost-klassen\n",
    "new_host.os = \"Windows XP\"               # Setter os-attributten\n",
    "new_host.open_ports = ['21', '22', '80'] # Setter open_ports-attributten\n",
    "new_host.info()                          # Kaller info()-metoden"
   ]
  },
  {
   "cell_type": "markdown",
   "metadata": {},
   "source": [
    "Man kan opprette mange instanser av en klasse. Hvis man endrer en instans, endrer man ikke de andre instansene."
   ]
  },
  {
   "cell_type": "code",
   "execution_count": null,
   "metadata": {},
   "outputs": [],
   "source": [
    "host1 = TargetHost()\n",
    "host2 = TargetHost()\n",
    "host2.os = \"Ubuntu 24.04\"\n",
    "\n",
    "host1.info()\n",
    "print(\"---\")\n",
    "host2.info()"
   ]
  },
  {
   "cell_type": "markdown",
   "metadata": {},
   "source": [
    "## 5.3 Oppgaver"
   ]
  },
  {
   "cell_type": "markdown",
   "metadata": {},
   "source": [
    "## Oppgave: Opprette funksjoner\n",
    "\n",
    "Lag og bruk noen funksjoner.\n",
    "- Lag en funksjon som tar inn et tall og returnerer summen av alle heltall fra 0 til og med det tallet som sendes inn.\n",
    "    - eks. summer(5): 1 + 2 + 3 + 4 + 5 = 15. Funksjonen skal da returnere tallet 15.\n",
    "    \n",
    "    \n",
    "- Lag en funksjon med navnet _har\\_nummer_ som tar inn en streng.\n",
    "    - Hvis strengen inneholder et eller flere tall, returner True, hvis ikke returner False"
   ]
  },
  {
   "cell_type": "markdown",
   "metadata": {},
   "source": [
    "## Oppgave: Lag egen klasse og objekter\n",
    "\n",
    "- Lag en klasse med navn _Person_ som har 3 attributter: `navn`, `alder` og `hobbyer`. Det er opp til deg å bestemme hva slags type som passer best for disse attributtene.\n",
    "    - Klassen skal ha en metode (funksjon) som skriver ut navnet og alderen på personen.\n",
    "    - Lag også en metode for å skrive ut alle hobbyer sortert i alfabetisk rekkefølge"
   ]
  }
 ],
 "metadata": {
  "kernelspec": {
   "display_name": ".venv",
   "language": "python",
   "name": "python3"
  },
  "language_info": {
   "codemirror_mode": {
    "name": "ipython",
    "version": 3
   },
   "file_extension": ".py",
   "mimetype": "text/x-python",
   "name": "python",
   "nbconvert_exporter": "python",
   "pygments_lexer": "ipython3",
   "version": "3.12.3"
  }
 },
 "nbformat": 4,
 "nbformat_minor": 2
}

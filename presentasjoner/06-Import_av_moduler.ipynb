{
 "cells": [
  {
   "cell_type": "markdown",
   "metadata": {},
   "source": [
    "# 6 - Import og moduler"
   ]
  },
  {
   "cell_type": "markdown",
   "metadata": {},
   "source": [
    "## 6.1 Hvordan gjenbruke kode"
   ]
  },
  {
   "cell_type": "markdown",
   "metadata": {},
   "source": [
    "* En modul er en pythonfil med en eller flere definisjoner av funksjoner og klasser (fil)\n",
    "* En pakke kan inneholde flere moduler (mappe)\n",
    "* Et script kan importere moduler og pakker for å gjenbruke egen og andres kode\n",
    "* Flere måter å importere pakker, moduler og klasser på:\n",
    "\n",
    "```python\n",
    "import mymodule\n",
    "from mypackage import mymodule\n",
    "from mypackage.mymodule import myclass\n",
    "from mypackage.mymodule import *\n",
    "```\n",
    "* NB: Bruk av asterisk (*) importerer alle klasser fra angitt modul"
   ]
  },
  {
   "cell_type": "markdown",
   "metadata": {},
   "source": [
    "## 6.2 Standardbiblioteket"
   ]
  },
  {
   "cell_type": "markdown",
   "metadata": {},
   "source": [
    "* Python har et stort standardbiblitek\n",
    "* Inneholder nesten alt man noen gang kommer til å trenge"
   ]
  },
  {
   "cell_type": "code",
   "execution_count": null,
   "metadata": {},
   "outputs": [],
   "source": [
    "import os\n",
    "from sys import getsizeof\n",
    "\n",
    "current_directory = os.getcwd()\n",
    "files = os.listdir(current_directory)\n",
    "print(files)\n",
    "\n",
    "print(getsizeof(files)) # Printer størrelsen på python objektet \"files\""
   ]
  },
  {
   "cell_type": "markdown",
   "metadata": {},
   "source": [
    "Noen andre nyttige moduler:\n",
    "* *from pathlib import Path*: for å manipulere filbaner\n",
    "* *json*: for å jobbe med JSON data\n",
    "* *urllib*: HTTP\n",
    "* *socket*: for lavnivå nettverks aksess\n",
    "* *math*: for matematiske funksjoner og konstanter\n",
    "* *datetime*: for å håndtere datoer og tid\n",
    "* *glob*: for å lete etter filer"
   ]
  },
  {
   "cell_type": "markdown",
   "metadata": {},
   "source": [
    "**getpass**\n",
    "\n",
    "- getpass.getpass() - Spør etter passord fra bruker, vises ikke på skjermen\n",
    "- getpass.getuser() - Henter brukernavn fra miljøet"
   ]
  },
  {
   "cell_type": "code",
   "execution_count": null,
   "metadata": {},
   "outputs": [],
   "source": [
    "import getpass\n",
    "username = input('Brukernavn: ')\n",
    "password = getpass.getpass('Passord: ')\n",
    "print('Oppgitt brukernavn:passord: %s:%s\\nAktiv systembruker: %s' % (username, password, getpass.getuser()))"
   ]
  },
  {
   "cell_type": "markdown",
   "metadata": {},
   "source": [
    "## 6.3 PIP"
   ]
  },
  {
   "cell_type": "markdown",
   "metadata": {},
   "source": [
    "* Package Installer for Python\n",
    "* Tilleggsprogram som følger med python\n",
    "* Brukes for å laste ned og installere pakker og moduler\n",
    " * Hentes fra Python Package Index (pypi.org)"
   ]
  },
  {
   "cell_type": "markdown",
   "metadata": {},
   "source": [
    "* Skal ligge i *path*\n",
    " * Hvis ikke, ligger den i *scripts* mappen hvor python er installert.\n",
    " * På Linux heter pip for python3 gjerne pip3:\n",
    "\n",
    "\n",
    "Python3:\n",
    "```\n",
    "pip3 install packagename\n",
    "```\n",
    "\n",
    "* Man kan alltids kjøre den som en modul via python, eller my Py-Launcher til Windows\n",
    "  \n",
    "  `python3 -m pip install packagename`\n",
    "  \n",
    "  Py-Launcher: `py -3 -m pip install packagename`"
   ]
  },
  {
   "cell_type": "markdown",
   "metadata": {},
   "source": [
    "Avhengigheter:\n",
    "* Noen pakker er avhengige av andre\n",
    "* pip forstår dette, laster ned disse først automatisk\n"
   ]
  },
  {
   "cell_type": "markdown",
   "metadata": {},
   "source": [
    "requirements.txt\n",
    "* Ofte følger det med en fil som heter requirements.txt når du laster ned script fra nettet\n",
    "* Denne *skal* inneholde alle modulene scriptet trenger for å kjøre\n",
    "* Kan installeres med pip:\n",
    "```\n",
    "pip install -r requirements.txt\n",
    "```"
   ]
  },
  {
   "cell_type": "markdown",
   "metadata": {},
   "source": [
    "Viktig:\n",
    "* Alle kan laste opp pakker til pypi.org\n",
    "* Det lastes opp ondsinnede pakker hver dag til pypi.org\n",
    "* Vær bevisst på hvilke pakker du installerer"
   ]
  },
  {
   "cell_type": "markdown",
   "metadata": {},
   "source": [
    "# 6.4 Oppgaver"
   ]
  },
  {
   "cell_type": "markdown",
   "metadata": {},
   "source": [
    "## Oppgave: Import og standard biblioteket\n",
    "\n",
    "Her kan dere bruke Google, docs.python.org og help-kommandoen til å løse oppgavene:\n",
    "\n",
    "* Bruk *datetime* modulen til å å printe dagens dato\n",
    "* Bruk *math* modulen til å:\n",
    " * printe ut verdien av PI\n",
    " * printe kvadratroten av 1024\n",
    "* Bruk *glob* til å liste ut alle \".docx\" filer i Documents mappen deres (eller noe tilsvarend)\n",
    " * Hint: bruk full path (\"C:\\users\\...\")"
   ]
  },
  {
   "cell_type": "markdown",
   "metadata": {},
   "source": [
    "## Oppgave: PIP \n",
    "\n",
    "* Start med å oppdatere selve pip:\n",
    " * ```pip install --upgrade pip```\n",
    "* Installer følgende moduler:\n",
    "    * *requests*\n",
    "    * *arrow*\n",
    "* List ut alle installerte pakker:\n",
    " * ```pip freeze```\n",
    "\n",
    "\n",
    "* Hint: noen av dere må muligens bruke: \"py -m pip\" istedenfor bare \"pip\""
   ]
  },
  {
   "cell_type": "markdown",
   "metadata": {},
   "source": [
    "# Ekstra Oppgaver"
   ]
  },
  {
   "cell_type": "markdown",
   "metadata": {},
   "source": [
    "Lag dine egne moduler. Opprett en mappe hvor du importerer dine moduler fra. \n",
    "\n",
    "Du kan for eksempel lage noen python scripts med funksjoner som du importerer inn i et annet python script.\n",
    "\n",
    "Eks.\n",
    "min-fil.py kan importere funksjoner fra filer i en undermappe. Test ut hvodan dette fungerer."
   ]
  }
 ],
 "metadata": {
  "kernelspec": {
   "display_name": ".venv",
   "language": "python",
   "name": "python3"
  },
  "language_info": {
   "codemirror_mode": {
    "name": "ipython",
    "version": 3
   },
   "file_extension": ".py",
   "mimetype": "text/x-python",
   "name": "python",
   "nbconvert_exporter": "python",
   "pygments_lexer": "ipython3",
   "version": "3.12.3"
  }
 },
 "nbformat": 4,
 "nbformat_minor": 2
}

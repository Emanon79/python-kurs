{
 "cells": [
  {
   "cell_type": "markdown",
   "metadata": {},
   "source": [
    "# 07 - Nettverk (Web)"
   ]
  },
  {
   "cell_type": "markdown",
   "metadata": {},
   "source": [
    "## 7.1 Repetisjon HTTP"
   ]
  },
  {
   "cell_type": "markdown",
   "metadata": {},
   "source": [
    "Med python kan man enkelt bruke forskjellige nettverksprotokoller.<br>\n",
    "Stor mulighet for å skripte forespørsler og dermed automatisere f.eks testing over nettverket.\n",
    "\n",
    "Først ser vi på HTTP som vi kan bruke til å snakke med webservere.\n",
    "\n",
    "- Kan sende og motta forespørsler over HTTP med Python.\n",
    "- HTTP Metoder\n",
    "    - GET    - Hent data/nettside\n",
    "    - POST   - Last opp/send data\n",
    "    - HEAD   - Kun hent HTTP-header fra webserver\n",
    "    - PUT    - Last opp data/oppdatere enkelte ressurser\n",
    "    - PATCH  - Endre enkelte felter/data for en gitt ressurs\n",
    "    - DELETE - Slett data"
   ]
  },
  {
   "cell_type": "markdown",
   "metadata": {},
   "source": [
    "![alt text](../filer/tcp.png \"TCP\")"
   ]
  },
  {
   "cell_type": "markdown",
   "metadata": {},
   "source": [
    "Flere moduler for HTTP:\n",
    "- Urllib\n",
    "- Urllib3\n",
    "- Requests\n",
    "- Twisted"
   ]
  },
  {
   "cell_type": "markdown",
   "metadata": {},
   "source": [
    "## 7.2 Surfing på web med urllib\n",
    "Urllib-modulen tilbyr forskjellige funksjoner for å behandle URLer og tilhører pythons standardbibliotek.\n",
    "`request.urlopen` gjør selve åpningen, og returnerer et objekt som ligner en fil, med f.eks. read(), readline() og readlines().\n"
   ]
  },
  {
   "cell_type": "code",
   "execution_count": null,
   "metadata": {},
   "outputs": [],
   "source": [
    "from urllib import request\n",
    "\n",
    "sock = request.urlopen('https://www.python.org')\n",
    "webpage = sock.read()\n",
    "sock.close()\n",
    "\n",
    "help(sock)\n",
    "\n",
    "print(webpage[:30]) # Svaret kommer som bytestreng uten kjent enkoding\n",
    "print()\n",
    "try:\n",
    "    print(webpage.decode('utf-8')[:30]) # Som regel utf-8\n",
    "except:\n",
    "    print(\"Svaret er ikke utf-8\")"
   ]
  },
  {
   "cell_type": "markdown",
   "metadata": {},
   "source": [
    "### Videre metoder i urllib\n",
    "\n",
    "Noen forskjeller fra filer:\n",
    "- Ingen seek()\n",
    "- geturl() returnerer url for kallet\n",
    "- headers inneholder en del informasjon for eksempel Content Type"
   ]
  },
  {
   "cell_type": "code",
   "execution_count": null,
   "metadata": {},
   "outputs": [],
   "source": [
    "import urllib.request\n",
    "\n",
    "with urllib.request.urlopen('https://www.python.org') as f:\n",
    "    print(f.geturl() + '\\n')\n",
    "    print('Content-Type: ' + f.headers['Content-Type'])\n",
    "    print('Content-Encoding: ' + f.headers['Content-Encoding'])\n",
    "    "
   ]
  },
  {
   "cell_type": "markdown",
   "metadata": {},
   "source": [
    "### Utvidet bruk av urllib\n",
    "\n",
    "Urllib kan også gjøre mer kompliserte forespørsler, hvor man konfigurerer mer av det man ønsker å sende.\n",
    "\n",
    "Man lager da først et Request-objekt, og setter headers etter ønske. Aktuelle kandidater kan være f.eks. 'User-Agent', 'Referer' og 'Accept-Encoding'."
   ]
  },
  {
   "cell_type": "code",
   "execution_count": null,
   "metadata": {},
   "outputs": [],
   "source": [
    "import gzip\n",
    "from urllib.request import urlopen, Request\n",
    "\n",
    "request = Request('https://www.python.org')\n",
    "request.add_header('User-Agent', 'Mozilla/5.0 Firefox/2.0.0.11')\n",
    "request.add_header('Accept-charset', 'utf-8')\n",
    "\n",
    "decompressed_response = gzip.GzipFile(fileobj=urlopen(request))\n",
    "print(decompressed_response.read().decode('utf-8')[:500])"
   ]
  },
  {
   "cell_type": "markdown",
   "metadata": {},
   "source": [
    "## 7.2 http.server"
   ]
  },
  {
   "cell_type": "markdown",
   "metadata": {},
   "source": [
    "- Modul fra standardbiblioteket for å sette opp en enkel webserver\n",
    "- Kan brukes til å gjøre filer tilgjengelig over nettverket\n",
    "- Veldig enkelt å sette opp\n",
    "    1. Gå til en ønsket mappe du vil gjøre tilgjengelig over HTTP\n",
    "    2. Kjør modulen fra kommandolinja\n",
    "        - For Windows: `py -3 -m http.server <PORT>`\n",
    "        - For Linux: `python3 -m http.server <PORT>`\n",
    "    3. Besøk `http://<Din IP-addresse>:<PORT>` for å aksessere filene\n"
   ]
  },
  {
   "cell_type": "markdown",
   "metadata": {},
   "source": [
    "## 7.3 Mer avansert HTTP"
   ]
  },
  {
   "cell_type": "markdown",
   "metadata": {},
   "source": [
    "La oss teste ut andre HTTP-metoder mot nettsider!\n",
    "\n",
    "- For å kunne sende data til nettsider, må man bestemme seg for et format man vil sende.\n",
    "    - Kan sende hva som helst av tekst.\n",
    "    - Finnes flere formater.\n",
    "    - Et populært valg er **JSON**.\n",
    "    - Andre formater: XML, form-data, raw\n",
    "- API"
   ]
  },
  {
   "cell_type": "markdown",
   "metadata": {},
   "source": [
    "### JSON\n",
    "Javascript Object Notation\n",
    "\n",
    "- En måte å formidle datastrukturer i tekst.\n",
    "- Brukes blant annet for å la websider hente data for å oppdatere deler av en webside da det er lett å parse i javascript.\n",
    "- Brukes også i webapi for å levere data.\n",
    "- Python har en JSON modul for å tolke JSON-strenger til datastrukturer og for å serialisere strukturer til JSON.\n"
   ]
  },
  {
   "cell_type": "code",
   "execution_count": null,
   "metadata": {},
   "outputs": [],
   "source": [
    "import json\n",
    "my_dict= {'editor': 'Emacs', 'OS': 'Windows', 'Drink': 'Coffee', \"Number\": 1337}\n",
    "print(my_dict, type(my_dict))\n",
    "print()\n",
    "\n",
    "json_string = json.dumps(my_dict)\n",
    "print(json_string, type(json_string))\n",
    "print()\n",
    "\n",
    "new_dict = json.loads(json_string)\n",
    "print(new_dict, type(new_dict))"
   ]
  },
  {
   "cell_type": "markdown",
   "metadata": {},
   "source": [
    "### Requests\n",
    "- Det finnes utrolig mange ulike HTTP-moduler.\n",
    "- Den som blir mest brukt (og som for mange er den nye standarden) er **requests**.\n",
    "    - \"HTTP for Humans\"\n",
    "    - Ikke i standardbiblioteket.\n",
    "    - Må installeres gjennom **pip**.\n",
    "    - Et enklere bibliotek for å gjøre http-forespørsler. \n",
    "    - Requests er bygget på toppen av urllib3."
   ]
  },
  {
   "cell_type": "markdown",
   "metadata": {},
   "source": [
    "- Har mye funksjonalitet.\n",
    "- Kan enkelt sende mange typer forespørsler.\n",
    "- Returnerer et Response-objekt når man gjør en request.\n",
    "\n",
    "\n",
    "- GET - `requests.get(<URL>)`\n",
    "- POST - `requests.post(<URL>, data=<DATA>)`\n",
    "- DELETE - `requests.delete(<URL>)`\n",
    "- osv.."
   ]
  },
  {
   "cell_type": "code",
   "execution_count": null,
   "metadata": {},
   "outputs": [],
   "source": [
    "import requests\n",
    "import json\n",
    "r = requests.get('https://api.github.com/events')\n",
    "print(r.headers)\n",
    "\n",
    "print(r.headers[\"server\"])\n",
    "print(r.status_code)"
   ]
  },
  {
   "cell_type": "code",
   "execution_count": null,
   "metadata": {},
   "outputs": [],
   "source": [
    "print(len(r.json()))"
   ]
  },
  {
   "cell_type": "markdown",
   "metadata": {},
   "source": [
    "Bruk feltet under til å se på resultatet i r, se om du kan liste ut brukernavnet for hver hendelse.\n",
    "\n",
    "Tips: For-løkker, keys(), type(variabel), r.json()"
   ]
  },
  {
   "cell_type": "code",
   "execution_count": 35,
   "metadata": {},
   "outputs": [],
   "source": [
    "d = r.json()"
   ]
  },
  {
   "cell_type": "markdown",
   "metadata": {},
   "source": [
    "<br>\n",
    "POST-request er også veldig lett med requests"
   ]
  },
  {
   "cell_type": "code",
   "execution_count": null,
   "metadata": {},
   "outputs": [],
   "source": [
    "data = {\"dag\":\"mandag\", \"sjokolade\":\"Kvikk-lunsj\"}\n",
    "\n",
    "r = requests.post('http://httpbin.org/post', data=data)\n",
    "d = r.json()\n",
    "print(r.status_code, r.reason)\n",
    "print(d[\"url\"])\n",
    "print(d[\"headers\"])\n",
    "print(d[\"form\"])"
   ]
  },
  {
   "cell_type": "markdown",
   "metadata": {},
   "source": [
    "## 7.4 API"
   ]
  },
  {
   "cell_type": "markdown",
   "metadata": {},
   "source": [
    "Scriptet api.py kan brukes til å starte en enkel api tjeneste med Fastapi.\n",
    "\n",
    "Fastapi er en enkel og rask måte å sette opp et api på i Python.\n",
    "Dokumentasjon https://fastapi.tiangolo.com/ \n",
    "\n",
    "For å kjøre tjenesten bruker vi her en minimal webserver kalt Uvicorn.  \n",
    "\n",
    "Gå til script mappen og start\n"
   ]
  },
  {
   "cell_type": "code",
   "execution_count": null,
   "metadata": {},
   "outputs": [],
   "source": [
    "uvicorn api:app"
   ]
  },
  {
   "cell_type": "markdown",
   "metadata": {},
   "source": [
    "\n",
    "Du vil da få et enkelt api kjørende på port 8000.\n",
    "- http://localhost:8000 \n",
    "- http://localhost:8000/docs for gui\n",
    "\n",
    "Get funksjonen i apiet henter en morosom vits"
   ]
  },
  {
   "cell_type": "markdown",
   "metadata": {},
   "source": [
    "# 7.5 Oppgaver"
   ]
  },
  {
   "cell_type": "markdown",
   "metadata": {},
   "source": [
    "## Oppgave: Hent websider (GET)\n",
    "\n",
    "* Bruk urllib for å laste ned en nettside du selv velger, og print innholdet.\n",
    "* Velg gjerne en nettside som har veldig lite tekst, slik at det ikke blir så mye HTML-kode å skrive ut.\n",
    "* Print også statuskode og headers.\n",
    "\n",
    "\n",
    "* Alternativt kan du starte scriptet \"webserver\" med Python, som ligger i kursfilene\n",
    "    * flask --app webserver run\n",
    "* Da skal du kunne besøke http://localhost:5000."
   ]
  },
  {
   "cell_type": "markdown",
   "metadata": {},
   "source": [
    "## Oppgave: Hent filer fra din egen webserver\n",
    "\n",
    "* Bruk http.server til å gjøre en mappe tilgjengelig over nettverket.\n",
    "* Besøk webserveren med nettleseren din og last ned noen filer manuelt.\n",
    "* Bruk python og urllib til å laste ned filer fra webserveren, og skrive de til disk med riktig filnavn"
   ]
  },
  {
   "cell_type": "markdown",
   "metadata": {},
   "source": [
    "## Oppgave: Bruke API https://icanhazdadjoke.com/api\n",
    "\n",
    "Gå til apiet sitt gui og prøv funksjonene\n",
    "\n",
    "Lag et python script som kaller apiet\n",
    "- Hint: Bruk requests\n",
    "\n",
    "Utvid apiet med et POST kall som tar en id inn og henter tilhørende vits. \n",
    "- Hint: Sjekk dokumentasjonen på https://icanhazdadjoke.com/api\n",
    "\n"
   ]
  },
  {
   "cell_type": "markdown",
   "metadata": {},
   "source": [
    "# Ekstra Oppgaver\n",
    "\n",
    "Wikipedia har et API for å kjøre spørringer mot siden. Øvingen går ut på å lage et script som bruker requests for å gjøre søk.\n",
    " - Referanse: https://en.wikipedia.org/w/api.php\n",
    " - Eksempel: https://en.wikipedia.org/w/api.php?action=opensearch&search=søkestreng\n",
    " \n",
    " - Etter å ha listet ut sidene som treffer søkestrengen bruk parse-apiet for å finne de sidene som finnes på norsk. (langlinks)\n",
    "   https://en.wikipedia.org/w/api.php?action=parse&page=Cube&prop=langlinks\n",
    "\n",
    " - Bruk argparse for å ta inn søkestrengen, f.eks med  --query\n",
    " - Gjør det mulig å velge språk med –lang\n",
    " - Husk at requests.get lar deg spesifisere en dict med parametre.\n",
    "   requests.get(\"https://en.wikipedia.org/w/api.php\",params={\"action\":\"opensearch\",\"search\":my_search})\n",
    "\n",
    "Tips: \n",
    " - Hvis du har flere lists/array du vil behandle samtidig: Se på zip()\n",
    " - Wikipedia formaterer api-resultat litt forskjellig. Legg til format=json for maskinlesbar og format=jsonfm for pretty-print."
   ]
  }
 ],
 "metadata": {
  "kernelspec": {
   "display_name": "Python 3",
   "language": "python",
   "name": "python3"
  },
  "language_info": {
   "codemirror_mode": {
    "name": "ipython",
    "version": 3
   },
   "file_extension": ".py",
   "mimetype": "text/x-python",
   "name": "python",
   "nbconvert_exporter": "python",
   "pygments_lexer": "ipython3",
   "version": "3.12.3"
  }
 },
 "nbformat": 4,
 "nbformat_minor": 2
}

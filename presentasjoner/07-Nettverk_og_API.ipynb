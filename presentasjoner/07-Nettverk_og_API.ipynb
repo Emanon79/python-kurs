{
 "cells": [
  {
   "cell_type": "markdown",
   "metadata": {},
   "source": [
    "# 07 - Nettverk (Web)"
   ]
  },
  {
   "cell_type": "markdown",
   "metadata": {},
   "source": [
    "## 7.1 Repetisjon HTTP"
   ]
  },
  {
   "cell_type": "markdown",
   "metadata": {},
   "source": [
    "Med python kan man enkelt bruke forskjellige nettverksprotokoller.<br>\n",
    "Stor mulighet for å skripte forespørsler og dermed automatisere f.eks testing over nettverket.\n",
    "\n",
    "Først ser vi på HTTP som vi kan bruke til å snakke med webservere.\n",
    "\n",
    "- Kan sende og motta forespørsler over HTTP med Python.\n",
    "- HTTP Metoder\n",
    "    - GET    - Hent data/nettside\n",
    "    - POST   - Last opp/send data\n",
    "    - HEAD   - Kun hent HTTP-header fra webserver\n",
    "    - PUT    - Last opp data/oppdatere enkelte ressurser\n",
    "    - PATCH  - Endre enkelte felter/data for en gitt ressurs\n",
    "    - DELETE - Slett data"
   ]
  },
  {
   "cell_type": "markdown",
   "metadata": {},
   "source": [
    "![alt text](../filer/tcp.png \"TCP\")"
   ]
  },
  {
   "cell_type": "markdown",
   "metadata": {},
   "source": [
    "Flere moduler for HTTP:\n",
    "- Urllib\n",
    "- Urllib3\n",
    "- Requests\n",
    "- Twisted"
   ]
  },
  {
   "cell_type": "markdown",
   "metadata": {},
   "source": [
    "## 7.2 Surfing på web med urllib\n",
    "Urllib-modulen tilbyr forskjellige funksjoner for å behandle URLer og tilhører pythons standardbibliotek.\n",
    "`request.urlopen` gjør selve åpningen, og returnerer et objekt som ligner en fil, med f.eks. read(), readline() og readlines().\n"
   ]
  },
  {
   "cell_type": "code",
   "execution_count": null,
   "metadata": {},
   "outputs": [
    {
     "name": "stdout",
     "output_type": "stream",
     "text": [
      "Help on HTTPResponse in module http.client object:\n",
      "\n",
      "class HTTPResponse(io.BufferedIOBase)\n",
      " |  HTTPResponse(sock, debuglevel=0, method=None, url=None)\n",
      " |\n",
      " |  Method resolution order:\n",
      " |      HTTPResponse\n",
      " |      io.BufferedIOBase\n",
      " |      _io._BufferedIOBase\n",
      " |      io.IOBase\n",
      " |      _io._IOBase\n",
      " |      builtins.object\n",
      " |\n",
      " |  Methods defined here:\n",
      " |\n",
      " |  __init__(self, sock, debuglevel=0, method=None, url=None)\n",
      " |      Initialize self.  See help(type(self)) for accurate signature.\n",
      " |\n",
      " |  __iter__(self)\n",
      " |      Implement iter(self).\n",
      " |\n",
      " |  begin(self)\n",
      " |\n",
      " |  close(self)\n",
      " |      Flush and close the IO object.\n",
      " |\n",
      " |      This method has no effect if the file is already closed.\n",
      " |\n",
      " |  fileno(self)\n",
      " |      Return underlying file descriptor if one exists.\n",
      " |\n",
      " |      Raise OSError if the IO object does not use a file descriptor.\n",
      " |\n",
      " |  flush(self)\n",
      " |      Flush write buffers, if applicable.\n",
      " |\n",
      " |      This is not implemented for read-only and non-blocking streams.\n",
      " |\n",
      " |  getcode(self)\n",
      " |      Return the HTTP status code that was sent with the response,\n",
      " |      or None if the URL is not an HTTP URL.\n",
      " |\n",
      " |  getheader(self, name, default=None)\n",
      " |      Returns the value of the header matching *name*.\n",
      " |\n",
      " |      If there are multiple matching headers, the values are\n",
      " |      combined into a single string separated by commas and spaces.\n",
      " |\n",
      " |      If no matching header is found, returns *default* or None if\n",
      " |      the *default* is not specified.\n",
      " |\n",
      " |      If the headers are unknown, raises http.client.ResponseNotReady.\n",
      " |\n",
      " |  getheaders(self)\n",
      " |      Return list of (header, value) tuples.\n",
      " |\n",
      " |  geturl(self)\n",
      " |      Return the real URL of the page.\n",
      " |\n",
      " |      In some cases, the HTTP server redirects a client to another\n",
      " |      URL. The urlopen() function handles this transparently, but in\n",
      " |      some cases the caller needs to know which URL the client was\n",
      " |      redirected to. The geturl() method can be used to get at this\n",
      " |      redirected URL.\n",
      " |\n",
      " |  info(self)\n",
      " |      Returns an instance of the class mimetools.Message containing\n",
      " |      meta-information associated with the URL.\n",
      " |\n",
      " |      When the method is HTTP, these headers are those returned by\n",
      " |      the server at the head of the retrieved HTML page (including\n",
      " |      Content-Length and Content-Type).\n",
      " |\n",
      " |      When the method is FTP, a Content-Length header will be\n",
      " |      present if (as is now usual) the server passed back a file\n",
      " |      length in response to the FTP retrieval request. A\n",
      " |      Content-Type header will be present if the MIME type can be\n",
      " |      guessed.\n",
      " |\n",
      " |      When the method is local-file, returned headers will include\n",
      " |      a Date representing the file's last-modified time, a\n",
      " |      Content-Length giving file size, and a Content-Type\n",
      " |      containing a guess at the file's type. See also the\n",
      " |      description of the mimetools module.\n",
      " |\n",
      " |  isclosed(self)\n",
      " |      True if the connection is closed.\n",
      " |\n",
      " |  peek(self, n=-1)\n",
      " |\n",
      " |  read(self, amt=None)\n",
      " |      Read and return the response body, or up to the next amt bytes.\n",
      " |\n",
      " |  read1(self, n=-1)\n",
      " |      Read with at most one underlying system call.  If at least one\n",
      " |      byte is buffered, return that instead.\n",
      " |\n",
      " |  readable(self)\n",
      " |      Always returns True\n",
      " |\n",
      " |  readinto(self, b)\n",
      " |      Read up to len(b) bytes into bytearray b and return the number\n",
      " |      of bytes read.\n",
      " |\n",
      " |  readline(self, limit=-1)\n",
      " |      Read and return a line from the stream.\n",
      " |\n",
      " |      If size is specified, at most size bytes will be read.\n",
      " |\n",
      " |      The line terminator is always b'\\n' for binary files; for text\n",
      " |      files, the newlines argument to open can be used to select the line\n",
      " |      terminator(s) recognized.\n",
      " |\n",
      " |  ----------------------------------------------------------------------\n",
      " |  Data and other attributes defined here:\n",
      " |\n",
      " |  __abstractmethods__ = frozenset()\n",
      " |\n",
      " |  ----------------------------------------------------------------------\n",
      " |  Methods inherited from _io._BufferedIOBase:\n",
      " |\n",
      " |  detach(self, /)\n",
      " |      Disconnect this buffer from its underlying raw stream and return it.\n",
      " |\n",
      " |      After the raw stream has been detached, the buffer is in an unusable\n",
      " |      state.\n",
      " |\n",
      " |  readinto1(self, buffer, /)\n",
      " |\n",
      " |  write(self, b, /)\n",
      " |      Write buffer b to the IO stream.\n",
      " |\n",
      " |      Return the number of bytes written, which is always\n",
      " |      the length of b in bytes.\n",
      " |\n",
      " |      Raise BlockingIOError if the buffer is full and the\n",
      " |      underlying raw stream cannot accept more data at the moment.\n",
      " |\n",
      " |  ----------------------------------------------------------------------\n",
      " |  Methods inherited from _io._IOBase:\n",
      " |\n",
      " |  __del__(...)\n",
      " |\n",
      " |  __enter__(...)\n",
      " |\n",
      " |  __exit__(...)\n",
      " |\n",
      " |  __next__(self, /)\n",
      " |      Implement next(self).\n",
      " |\n",
      " |  isatty(self, /)\n",
      " |      Return whether this is an 'interactive' stream.\n",
      " |\n",
      " |      Return False if it can't be determined.\n",
      " |\n",
      " |  readlines(self, hint=-1, /)\n",
      " |      Return a list of lines from the stream.\n",
      " |\n",
      " |      hint can be specified to control the number of lines read: no more\n",
      " |      lines will be read if the total size (in bytes/characters) of all\n",
      " |      lines so far exceeds hint.\n",
      " |\n",
      " |  seek(self, offset, whence=0, /)\n",
      " |      Change the stream position to the given byte offset.\n",
      " |\n",
      " |        offset\n",
      " |          The stream position, relative to 'whence'.\n",
      " |        whence\n",
      " |          The relative position to seek from.\n",
      " |\n",
      " |      The offset is interpreted relative to the position indicated by whence.\n",
      " |      Values for whence are:\n",
      " |\n",
      " |      * os.SEEK_SET or 0 -- start of stream (the default); offset should be zero or positive\n",
      " |      * os.SEEK_CUR or 1 -- current stream position; offset may be negative\n",
      " |      * os.SEEK_END or 2 -- end of stream; offset is usually negative\n",
      " |\n",
      " |      Return the new absolute position.\n",
      " |\n",
      " |  seekable(self, /)\n",
      " |      Return whether object supports random access.\n",
      " |\n",
      " |      If False, seek(), tell() and truncate() will raise OSError.\n",
      " |      This method may need to do a test seek().\n",
      " |\n",
      " |  tell(self, /)\n",
      " |      Return current stream position.\n",
      " |\n",
      " |  truncate(self, size=None, /)\n",
      " |      Truncate file to size bytes.\n",
      " |\n",
      " |      File pointer is left unchanged. Size defaults to the current IO position\n",
      " |      as reported by tell(). Return the new size.\n",
      " |\n",
      " |  writable(self, /)\n",
      " |      Return whether object was opened for writing.\n",
      " |\n",
      " |      If False, write() will raise OSError.\n",
      " |\n",
      " |  writelines(self, lines, /)\n",
      " |      Write a list of lines to stream.\n",
      " |\n",
      " |      Line separators are not added, so it is usual for each of the\n",
      " |      lines provided to have a line separator at the end.\n",
      " |\n",
      " |  ----------------------------------------------------------------------\n",
      " |  Data descriptors inherited from _io._IOBase:\n",
      " |\n",
      " |  __dict__\n",
      " |\n",
      " |  closed\n",
      "\n",
      "b'<!doctype html>\\n<!--[if lt IE '\n",
      "\n",
      "<!doctype html>\n",
      "<!--[if lt IE \n"
     ]
    }
   ],
   "source": [
    "from urllib import request\n",
    "\n",
    "sock = request.urlopen('https://www.python.org')\n",
    "webpage = sock.read()\n",
    "sock.close()\n",
    "\n",
    "help(sock)\n",
    "\n",
    "print(webpage[:30]) # Svaret kommer som bytestreng uten kjent enkoding\n",
    "print()\n",
    "print(webpage.decode('utf-8')[:30]) # Som regel utf-8"
   ]
  },
  {
   "cell_type": "markdown",
   "metadata": {},
   "source": [
    "### Videre metoder i urllib\n",
    "\n",
    "Noen forskjeller fra filer:\n",
    "- Ingen seek()\n",
    "- geturl() returnerer url for kallet\n",
    "- headers inneholder informasjon om server og svaret"
   ]
  },
  {
   "cell_type": "code",
   "execution_count": null,
   "metadata": {},
   "outputs": [],
   "source": [
    "import urllib\n",
    "\n",
    "with urllib.request.urlopen('https://www.python.org') as f:\n",
    "    print(f.geturl() + '\\n')\n",
    "    print('Server: ' + f.headers['Server'])\n",
    "    print('Content-Type: ' + f.headers['Content-Type'])"
   ]
  },
  {
   "cell_type": "markdown",
   "metadata": {},
   "source": [
    "### Utvidet bruk av urllib\n",
    "\n",
    "Urllib kan også gjøre mer kompliserte forespørsler, hvor man konfigurerer mer av det man ønsker å sende.\n",
    "\n",
    "Man lager da først et Request-objekt, og setter headers etter ønske. Aktuelle kandidater kan være f.eks. 'User-Agent', 'Referer' og 'Accept-Encoding'."
   ]
  },
  {
   "cell_type": "code",
   "execution_count": null,
   "metadata": {},
   "outputs": [],
   "source": [
    "from urllib.request import urlopen, Request\n",
    "\n",
    "request = Request('https://www.python.org')\n",
    "request.add_header('User-Agent', 'Mozilla/5.0 Firefox/2.0.0.11')\n",
    "\n",
    "print(urlopen(request).read().decode('utf-8')[:500])"
   ]
  },
  {
   "cell_type": "markdown",
   "metadata": {},
   "source": [
    "## 7.2 http.server"
   ]
  },
  {
   "cell_type": "markdown",
   "metadata": {},
   "source": [
    "- Modul fra standardbiblioteket for å sette opp en enkel webserver\n",
    "- Kan brukes til å gjøre filer tilgjengelig over nettverket\n",
    "- Veldig enkelt å sette opp\n",
    "    1. Gå til en ønsket mappe du vil gjøre tilgjengelig over HTTP\n",
    "    2. Kjør modulen fra kommandolinja\n",
    "        - For Windows: `py -3 -m http.server <PORT>`\n",
    "        - For Linux: `python3 -m http.server <PORT>`\n",
    "    3. Besøk `http://<Din IP-addresse>:<PORT>` for å aksessere filene\n"
   ]
  },
  {
   "cell_type": "markdown",
   "metadata": {},
   "source": [
    "## 7.3 Mer avansert HTTP"
   ]
  },
  {
   "cell_type": "markdown",
   "metadata": {},
   "source": [
    "La oss teste ut andre HTTP-metoder mot nettsider!\n",
    "\n",
    "- For å kunne sende data til nettsider, må man bestemme seg for et format man vil sende.\n",
    "    - Kan sende hva som helst av tekst.\n",
    "    - Finnes flere formater.\n",
    "    - Et populært valg er **JSON**.\n",
    "    - Andre formater: XML, form-data, raw\n",
    "- API"
   ]
  },
  {
   "cell_type": "markdown",
   "metadata": {},
   "source": [
    "### JSON\n",
    "Javascript Object Notation\n",
    "\n",
    "- En måte å formidle datastrukturer i tekst.\n",
    "- Brukes blant annet for å la websider hente data for å oppdatere deler av en webside da det er lett å parse i javascript.\n",
    "- Brukes også i webapi for å levere data.\n",
    "- Python har en JSON modul for å tolke JSON-strenger til datastrukturer og for å serialisere strukturer til JSON.\n"
   ]
  },
  {
   "cell_type": "code",
   "execution_count": null,
   "metadata": {},
   "outputs": [],
   "source": [
    "import json\n",
    "my_dict= {'editor': 'Emacs', 'OS': 'Windows', 'Drink': 'Coffee', \"Number\": 1337}\n",
    "print(my_dict, type(my_dict))\n",
    "print()\n",
    "\n",
    "json_string = json.dumps(my_dict)\n",
    "print(json_string, type(json_string))\n",
    "print()\n",
    "\n",
    "new_dict = json.loads(json_string)\n",
    "print(new_dict, type(new_dict))"
   ]
  },
  {
   "cell_type": "markdown",
   "metadata": {},
   "source": [
    "### Requests\n",
    "- Det finnes utrolig mange ulike HTTP-moduler.\n",
    "- Den som blir mest brukt (og som for mange er den nye standarden) er **requests**.\n",
    "    - \"HTTP for Humans\"\n",
    "    - Ikke i standardbiblioteket.\n",
    "    - Må installeres gjennom **pip**.\n",
    "    - Et enklere bibliotek for å gjøre http-forespørsler. \n",
    "    - Requests er bygget på toppen av urllib3."
   ]
  },
  {
   "cell_type": "markdown",
   "metadata": {},
   "source": [
    "- Har mye funksjonalitet.\n",
    "- Kan enkelt sende mange typer forespørsler.\n",
    "- Returnerer et Response-objekt når man gjør en request.\n",
    "\n",
    "\n",
    "- GET - `requests.get(<URL>)`\n",
    "- POST - `requests.post(<URL>, data=<DATA>)`\n",
    "- DELETE - `requests.delete(<URL>)`\n",
    "- osv.."
   ]
  },
  {
   "cell_type": "code",
   "execution_count": null,
   "metadata": {},
   "outputs": [],
   "source": [
    "import requests\n",
    "import json\n",
    "r = requests.get('https://api.github.com/events')\n",
    "print(r.headers)\n",
    "\n",
    "print(r.headers[\"server\"])\n",
    "print(r.status_code)"
   ]
  },
  {
   "cell_type": "code",
   "execution_count": null,
   "metadata": {},
   "outputs": [],
   "source": [
    "print(len(r.json()))"
   ]
  },
  {
   "cell_type": "markdown",
   "metadata": {},
   "source": [
    "Bruk feltet under til å se på resultatet i r, se om du kan liste ut brukernavnet for hver hendelse.\n",
    "\n",
    "Tips: For-løkker, keys(), type(variabel), r.json()"
   ]
  },
  {
   "cell_type": "code",
   "execution_count": null,
   "metadata": {},
   "outputs": [],
   "source": [
    "d = r.json()"
   ]
  },
  {
   "cell_type": "markdown",
   "metadata": {},
   "source": [
    "<br>\n",
    "POST-request er også veldig lett med requests"
   ]
  },
  {
   "cell_type": "code",
   "execution_count": null,
   "metadata": {},
   "outputs": [],
   "source": [
    "data = {\"dag\":\"mandag\", \"sjokolade\":\"Kvikk-lunsj\"}\n",
    "\n",
    "r = requests.post('http://httpbin.org/post', data=data)\n",
    "d = r.json()\n",
    "print(r.status_code, r.reason)\n",
    "print(d[\"url\"])\n",
    "print(d[\"headers\"])\n",
    "print(d[\"form\"])"
   ]
  },
  {
   "cell_type": "markdown",
   "metadata": {},
   "source": [
    "## 7.4 Bruke API"
   ]
  },
  {
   "cell_type": "markdown",
   "metadata": {},
   "source": [
    "Scriptet api.py kan brukes til å starte en enkel api tjeneste med Fastapi.\n",
    "\n",
    "Fastapi er en enkel og rask måte å sette opp et api på i Python.\n",
    "Dokumentasjon https://fastapi.tiangolo.com/ \n",
    "\n",
    "For å kjøre tjenesten bruker vi her en minimal webserver kalt Uvicorn.  \n",
    "\n",
    "Gå til script mappen og start\n"
   ]
  },
  {
   "cell_type": "code",
   "execution_count": null,
   "metadata": {},
   "outputs": [],
   "source": [
    "uvicorn api:app"
   ]
  },
  {
   "cell_type": "markdown",
   "metadata": {},
   "source": [
    "\n",
    "Du vil da få et enkelt api kjørende på port 8000.\n",
    "- http://localhost:8000 \n",
    "- http://localhost:8000/docs for gui\n",
    "\n",
    "Get funksjonen i apiet henter en morosom vits"
   ]
  }
 ],
 "metadata": {
  "kernelspec": {
   "display_name": "Python 3",
   "language": "python",
   "name": "python3"
  },
  "language_info": {
   "name": "python",
   "version": "3.12.3"
  }
 },
 "nbformat": 4,
 "nbformat_minor": 2
}

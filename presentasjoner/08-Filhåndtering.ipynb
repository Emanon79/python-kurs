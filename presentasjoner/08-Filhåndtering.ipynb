{
 "cells": [
  {
   "cell_type": "markdown",
   "metadata": {},
   "source": [
    "# 8 - Filhåndtering\n",
    "```python\n",
    "brain = open('/human/brain', 'w')\n",
    "brain.write(lecture)\n",
    "brain.close()\n",
    "```"
   ]
  },
  {
   "cell_type": "markdown",
   "metadata": {},
   "source": [
    "## 8.1 Åpne og lukke filer\n",
    "- Åpnes ved bruk av 'open()'\n",
    "- open(file, mode) åpner filen *file* i modus *mode*\n",
    "    - Mode:\n",
    "        - 'r' = read\n",
    "        - 'w' = write\n",
    "        - 'a' = append\n",
    "        - 'b' = binary   \n",
    "- close() - Lukker filobjektet\n",
    "- closed  - Returnerer *True* hvis filen er lukket"
   ]
  },
  {
   "cell_type": "code",
   "execution_count": null,
   "metadata": {
    "vscode": {
     "languageId": "plaintext"
    }
   },
   "outputs": [],
   "source": [
    "fil = open('files/text_read.txt', 'r')\n",
    "fil.close()\n",
    "fil.closed"
   ]
  },
  {
   "cell_type": "markdown",
   "metadata": {},
   "source": [
    "1. Åpner filen 'files/text_read.txt' i modus \"read\"\n",
    "2. Lukker filen\n",
    "3. Sjekker at filen er lukket"
   ]
  },
  {
   "cell_type": "markdown",
   "metadata": {},
   "source": [
    "## 8.2 Lese og skrive filer\n",
    "### Lese filer\n",
    "- tell() - Angir nåværende posisjon i filobjektet\n",
    "- read(x) - Leser *x* antall bytes fra filen. Hvis x ikke er angitt leses hele filen\n",
    "- seek(byte, mode) - Hopper *byte* antall bytes ut i filen fra posisjonen *mode*\n",
    "    - Modus:\n",
    "        - 0 = Fra starten av filen\n",
    "        - 1 = Fra nåværende posisjon\n",
    "        - 2 = Fra slutten av filen"
   ]
  },
  {
   "cell_type": "code",
   "execution_count": null,
   "metadata": {
    "vscode": {
     "languageId": "plaintext"
    }
   },
   "outputs": [],
   "source": [
    "fd = open('files/text_read.txt', 'r')\n",
    "fd.read()"
   ]
  },
  {
   "cell_type": "code",
   "execution_count": null,
   "metadata": {
    "vscode": {
     "languageId": "plaintext"
    }
   },
   "outputs": [],
   "source": [
    "fd = open('files/text_read.txt', 'r')\n",
    "fd.read(64)        # Leser 64 bytes\n",
    "print(fd.tell())\n",
    "fd.seek(5,0)       # Hopper 5 bytes ut fra starten av filen (mode 0)\n",
    "print(fd.tell())\n",
    "print(fd.read(5))"
   ]
  },
  {
   "cell_type": "markdown",
   "metadata": {},
   "source": [
    "\n",
    "**Andre nyttige lesemetoder**\n",
    "- readline() - Leser en linje og returnerer den som en streng\n",
    "- readlines() - Leser hele filen linje for linje og returnerer dem som strenger i en liste\n",
    "\n",
    "I tillegg kan man iterere over linjer i en fil direkte:"
   ]
  },
  {
   "cell_type": "code",
   "execution_count": null,
   "metadata": {
    "vscode": {
     "languageId": "plaintext"
    }
   },
   "outputs": [],
   "source": [
    "i = 0\n",
    "for line in open('files/text_read.txt'):\n",
    "    print(f\"{i}: {line.strip()}\") # .strip() fjerner mellomrom og newlines fra starten/slutten av en streng\n",
    "    i += 1"
   ]
  },
  {
   "cell_type": "markdown",
   "metadata": {},
   "source": [
    "### Skrive til filer\n",
    "- write() - Skriver til filen"
   ]
  },
  {
   "cell_type": "code",
   "execution_count": null,
   "metadata": {
    "vscode": {
     "languageId": "plaintext"
    }
   },
   "outputs": [],
   "source": [
    "# Åpner filen for skriving. Hvis filen eksisterer blir den overskrevet,\n",
    "# hvis ikke blir den oppretttet.\n",
    "fd = open('files/text.txt', 'w')\n",
    "\n",
    "# Skriver 'Hello World' til filen\n",
    "fd.write('Hello World')\n",
    "fd.close()"
   ]
  },
  {
   "cell_type": "markdown",
   "metadata": {},
   "source": [
    "Vi kan lese filen vi har skrevet til:"
   ]
  },
  {
   "cell_type": "code",
   "execution_count": null,
   "metadata": {
    "vscode": {
     "languageId": "plaintext"
    }
   },
   "outputs": [],
   "source": []
  },
  {
   "cell_type": "code",
   "execution_count": null,
   "metadata": {
    "vscode": {
     "languageId": "plaintext"
    }
   },
   "outputs": [],
   "source": [
    "# Åpner filen for skriving. Hvis filen eksisterer blir den overskrevet,\n",
    "# hvis ikke blir den oppretttet.\n",
    "fd = open('files/text.txt', 'r')\n",
    "\n",
    "# leser fra filen\n",
    "print(fd.read())\n",
    "fd.close()"
   ]
  },
  {
   "cell_type": "markdown",
   "metadata": {},
   "source": [
    "## 8.3 Filmoduser og binærstrenger\n",
    "Det finnes haugevis med ulike moduser og kombinasjoner av disse\n",
    "- r: Standard modus. Åpner fil for lesing.\n",
    "- w: Åpner fil for skriving. Lager ny fil hvis den ikke eksisterer. Overskriver fil hvis den eksisterer.\n",
    "- x: Lager en ny fil. Operasjonen feiler hvis filen allerede eksisterer.\n",
    "- a: \"append\" modus. Legger til det man skriver på slutten av filen. Lager ny fil hvis filen ikke eksisterer.\n",
    "\n",
    "\n",
    "- b: Åpner filen i binærformat.\n",
    "- +: Åpner fil for både lesing og \n",
    "\n",
    "- Man kan kombinere 'r', 'w' og 'a' med 'b' og '+' på mange ulike måter. \n",
    "- Sjeldent å måtte bruke alle disse variantene, men kan være greit å ha sett det!\n",
    "\n",
    "De vanligste kombinasjonene er:\n",
    "- rb: \n",
    "    - Åpner for kun lesing i binærformat. \n",
    "    - Lesing begynner fra starten av fila.\n",
    "- wb: \n",
    "    - Åpner for kun skriving i binærformat. \n",
    "    - Overskriver eksisterende fil. \n",
    "    - Lager ny fil hvis den ikke eksisterer fra før.\n",
    "\n",
    "**Nederst i denne notebooken finnes en liste over de fleste kombinasjoner. Ikke vist i presentasjonen**"
   ]
  },
  {
   "cell_type": "markdown",
   "metadata": {},
   "source": [
    "### Binary strings og enkoding\n",
    "- Som nevnt i kapittel 2: To typer strenger i Python. \n",
    "   - Unicode-strenger\n",
    "   - Binary-strenger (binærstrenger)\n",
    "    \n",
    "   - Python3: I lesemodus (r) gir read() oss en unicode-streng.\n",
    "   - Python3: I binær lesemodus (rb) gir read() oss en binærstreng.\n",
    "    \n",
    "For å konvertere mellom binærstrenger og unicode-strenger brukes `.encode()` og `.decode()`.\n",
    "Unicode (UTF-8) er standard for enkoding som brukes for konvertering."
   ]
  },
  {
   "cell_type": "code",
   "execution_count": null,
   "metadata": {
    "vscode": {
     "languageId": "plaintext"
    }
   },
   "outputs": [],
   "source": [
    "x = \"Hællø World!\".encode()\n",
    "print(f\"{x} - Type: {type(x)}\")\n",
    "\n",
    "x = x.decode()\n",
    "print(f\"{x}                  - Type: {type(x)}\")"
   ]
  },
  {
   "cell_type": "markdown",
   "metadata": {},
   "source": [
    "<br>Det samme gjelder for filer!"
   ]
  },
  {
   "cell_type": "code",
   "execution_count": null,
   "metadata": {
    "vscode": {
     "languageId": "plaintext"
    }
   },
   "outputs": [],
   "source": [
    "f = open('files/text.txt', 'rb')\n",
    "x = f.read()\n",
    "f.close()\n",
    "\n",
    "print(f\"{x} - Type: {type(x)}\")\n",
    "\n",
    "x = x.decode()\n",
    "print(f\"{x}    - Type: {type(x)}\")"
   ]
  },
  {
   "cell_type": "markdown",
   "metadata": {},
   "source": [
    "<br>Enklest å åpne filen med 'r' hvis den kun inneholder unicode-tegn"
   ]
  },
  {
   "cell_type": "code",
   "execution_count": null,
   "metadata": {
    "vscode": {
     "languageId": "plaintext"
    }
   },
   "outputs": [],
   "source": [
    "f = open('files/text.txt', 'r')\n",
    "x = f.read()\n",
    "f.close()\n",
    "\n",
    "print(f\"{x}    - Type: {type(x)}\")"
   ]
  },
  {
   "cell_type": "markdown",
   "metadata": {},
   "source": [
    "## 8.4 Context managers\n",
    "Den beste måten å åpne filer på er med en \"context manager\".\n",
    "- I Python bruker man gjerne \"with\" ... \"as\" for dette.\n",
    "- Lar oss allokere og frigjøre ressurser når vi ønsker det.\n",
    "- Filer lukkes automatisk etter kodeblokken i context manageren er kjørt."
   ]
  },
  {
   "cell_type": "code",
   "execution_count": null,
   "metadata": {
    "vscode": {
     "languageId": "plaintext"
    }
   },
   "outputs": [],
   "source": [
    "with open('files/text_read.txt', 'r') as fd:\n",
    "    x = fd.readlines()"
   ]
  },
  {
   "cell_type": "markdown",
   "metadata": {},
   "source": [
    "Koden over åpner fila, leser den og deretter lukker den."
   ]
  },
  {
   "cell_type": "code",
   "execution_count": null,
   "metadata": {
    "vscode": {
     "languageId": "plaintext"
    }
   },
   "outputs": [],
   "source": [
    "print(fd.closed)\n",
    "print(x)"
   ]
  },
  {
   "cell_type": "markdown",
   "metadata": {},
   "source": [
    "Man kan se at fila allerede er lukket!\n",
    "<br><br>\n",
    "with-koden vi skrev er ekvivalent med dette:"
   ]
  },
  {
   "cell_type": "code",
   "execution_count": null,
   "metadata": {
    "vscode": {
     "languageId": "plaintext"
    }
   },
   "outputs": [],
   "source": [
    "fd = open('files/text_read.txt', 'r')\n",
    "try:\n",
    "    x = fd.readlines()\n",
    "finally:\n",
    "    fd.close()"
   ]
  },
  {
   "cell_type": "markdown",
   "metadata": {},
   "source": [
    "# 8.5 Oppgaver"
   ]
  },
  {
   "cell_type": "markdown",
   "metadata": {},
   "source": [
    "## Oppgaver: Filmanipulering\n",
    "\n",
    "* Lag ett script som tar to argumenter: (hint: bruk sys.argv)\n",
    " * ```python script.py file1 file2```\n",
    "* *file1* er en fil som eksisterer\n",
    "* *file2* er en fil som ikke eksisterer\n",
    "* Scriptet skal:\n",
    " * lese alt innholdet i *file1* inn i minnet\n",
    " * reversere det\n",
    " * skrive resultatet til *file2*\n",
    "\n",
    "\n",
    "* Tilleggsspørsmål: Hvilke exceptions kan man få når man behandler filer med Python?\n",
    " * f.eks: prøv å lese en fil som ikke eksisterer"
   ]
  },
  {
   "cell_type": "markdown",
   "metadata": {},
   "source": [
    "## Oppgaver: Bruk with\n",
    "\n",
    "* Lag ett script som:\n",
    " * Oppretter en fil og skriver alle tallene fra 0 til 100 i den med mellomrom mellom hver tall\n",
    " * Åpner filen i lesemodus, og leser inn innholdet\n",
    " * Bruk split() for å konvertere det til en liste med strenger\n",
    " * Reverser listen\n",
    " * Bruk join() for å konvertere den tilbake til en streng med space mellom hvert tall\n",
    " * Skriv resultatet til en ny fil\n",
    "\n",
    "\n",
    "* Bruk *with* til å åpne og lukke filene"
   ]
  },
  {
   "cell_type": "markdown",
   "metadata": {},
   "source": [
    "# Ekstra oppgaver"
   ]
  },
  {
   "cell_type": "markdown",
   "metadata": {},
   "source": [
    "## Ekstra API og Filhåndtering\n",
    "\n",
    "Bruk API'et fra forrige kapitel. \n",
    " * La get funksjonen også skrive resultatet til fil.\n",
    " * For hver nye GET kall legges vitsen til fila på en ny linje.\n",
    " * Ekstra feature: Gjør en sjekk på om vitsen finnes fra før i fila. \n",
    "    * Hvis den finnes fra før legges ikke til fila.\n",
    "    * Sorter linjene i fila alfabetisk."
   ]
  },
  {
   "cell_type": "markdown",
   "metadata": {},
   "source": [
    "# 8.6 Notat: Ekstra om filmoduser\n",
    "\n",
    "Her er en oversikt over de aller fleste kombinasjoner av filmoduser:\n",
    "\n",
    "- r: \n",
    "    - Åpner for kun lesing. \n",
    "    - Lesing begynner fra starten av fila.\n",
    "- rb: \n",
    "    - Åpner for kun lesing i binærformat. \n",
    "    - Lesing begynner fra starten av fila.\n",
    "- r+: \n",
    "    - Åpner for både lesing og skriving. \n",
    "    - Begynner fra starten av fila.\n",
    "- rb+: \n",
    "    - Åpner for både lesing og skriving i binærformat. \n",
    "    - Begynner fra starten av fila.\n",
    "- w: \n",
    "    - Åpner for kun skriving. \n",
    "    - Overskriver eksisterende fil. \n",
    "    - Lager ny fil hvis den ikke eksisterer fra før.\n",
    "- wb: \n",
    "    - Åpner for kun skriving i binærformat. \n",
    "    - Overskriver eksisterende fil. \n",
    "    - Lager ny fil hvis den ikke eksisterer fra før.\n",
    "- w+: \n",
    "    - Åpner for både skriving og lesing. \n",
    "    - Overskriver eksisterende fil. \n",
    "    - Lager ny fil hvis den ikke eksisterer fra før.\n",
    "- wb+: \n",
    "    - Åpner for både skriving og lesing i binærformat. \n",
    "    - Overskriver eksisterende fil. \n",
    "    - Lager ny fil hvis den ikke eksisterer fra før.\n",
    "- a: \n",
    "    - Åpner i \"append\"-modus. \n",
    "    - Det man skriver legges til på slutten av fila. \n",
    "    - Lager ny fil hvis den ikke eksisterer fra før.\n",
    "- ab: \n",
    "    - Åpner i \"append\"-modus i binærformat. \n",
    "    - Det man skriver legges til på slutten av fila. \n",
    "    - Lager ny fil hvis den ikke eksisterer fra før.\n",
    "- a+: \n",
    "    - Åpner i \"append\"-modus og for lesing. \n",
    "    - Lesing/skriving begynner på slutten av fila. \n",
    "    - Lager ny fil hvis den ikke eksisterer fra før.\n",
    "- ab+: \n",
    "    - Åpner i \"append\"-modus og for lesing i binærformat. \n",
    "    - Lesing/skriving begynner på slutten av fila. \n",
    "    - Lager ny fil hvis den ikke eksisterer fra før."
   ]
  }
 ],
 "metadata": {
  "language_info": {
   "name": "python"
  }
 },
 "nbformat": 4,
 "nbformat_minor": 2
}

{
 "cells": [
  {
   "cell_type": "markdown",
   "metadata": {},
   "source": [
    "# 9 Scripting og argumenter\n",
    "```shell\n",
    "$ python3 myscript.py 1 2 3\n",
    "```"
   ]
  },
  {
   "cell_type": "markdown",
   "metadata": {},
   "source": [
    "## 9.1 Hvordan kjøre et script?\n",
    "- Det vanligste når man programmerer i Python er å lagre koden sin i filer.\n",
    "- Vi kan kjøre disse filene fra kommandolinja. Men det er vanligvis litt ulikt for Windows og Linux.\n",
    "\n",
    "\n",
    "- **Windows**\n",
    "    - \"Best practice\" å bruke \"py launcher\" og spesifisere hvilken Python-versjon man skal kjøre.\n",
    "        - `py -3 script.py`\n",
    "    - Hvis python.exe ligger i Windows sin PATH, kan man også kjøre python.exe direkte\n",
    "        - `python script.py`\n",
    "    - Hvis den ikke ligger i PATH kan man bruke hele filbanen.\n",
    "        - `C:\\python310\\python.exe`\n",
    "- **Linux**\n",
    "    - Har ulike navn på python-binærfilene.\n",
    "    - Med Python 3\n",
    "        - `python3 script.py`\n",
    "\n",
    "\n",
    "- Man kan slippe å skrive python foran scriptet\n",
    "    - Hvis filen er kjørbar\n",
    "    - Hvis sti til python angis som _shebang_ i scriptet (Første linje må feks være `#!/usr/bin/env python3`)"
   ]
  },
  {
   "cell_type": "markdown",
   "metadata": {},
   "source": [
    "## 9.2 \"main\"\n",
    "- Kreves ikke at man har en main-funksjon slik som c, men er likevel lurt!\n",
    "\n",
    "- \\_\\_name\\_\\_ er en miljøvariabel som er lik '\\_\\_main\\_\\_' hvis koden i skriptet eksekveres direkte fra kommandolinjen, og 'modulnavnet' hvis koden er importert som en modul"
   ]
  },
  {
   "cell_type": "code",
   "execution_count": null,
   "metadata": {
    "vscode": {
     "languageId": "plaintext"
    }
   },
   "outputs": [],
   "source": [
    "#!/usr/bin/env python3\n",
    "\n",
    "def sum(tall1=0, tall2=0, tall3=0):\n",
    "    print(\"Summen er:\", tall1 + tall2 + tall3)\n",
    "\n",
    "def main():\n",
    "    sum(1,4)\n",
    "\n",
    "if __name__ == '__main__':\n",
    "    main()"
   ]
  },
  {
   "cell_type": "markdown",
   "metadata": {},
   "source": [
    "## 9.3 Argumenter\n",
    "\n",
    "Man kan sende inn argumenter til et script fra kommandolinja.\n",
    "\n",
    "Eksempel (ikke samme script som i 8.2)\n",
    "```shell\n",
    "> py -3 \"files/sum.py\" 1 2 3\n",
    "Summen er: 6\n",
    "```\n",
    "Noen scripts bruker også andre typer argumenter:\n",
    "- flagg/opsjoner (feks '-v' eller '--verbose') eller\n",
    "- opsjoner som krever parametre (feks. '--file' som krever et filnavn).\n",
    "\n",
    "```shell\n",
    "> py -3 test.py -v --file \"fil.txt\"\n",
    "```"
   ]
  },
  {
   "cell_type": "markdown",
   "metadata": {},
   "source": [
    "# 8. Oppgaver"
   ]
  },
  {
   "cell_type": "markdown",
   "metadata": {},
   "source": [
    "## Oppgaver: Lag et enkelt script\n",
    "\n",
    "* Lag ett enkelt script med en main funksjon, og en if (som vist på forrige slide)\n",
    "* main funksjonen skal innholde:\n",
    " * en eviggående while-løkke som:\n",
    "  * Spør brukeren (med input()) om hva han/hun ønsker å gjøre\n",
    "  * Dersom brukeren skriver \"avslutt\", skal du hoppe ut av løkken (med break), og avslutte scriptet\n",
    "  * Dersom brukeren skriver \"sum\", skal scriptet spørre om to tall, som summeres og printes\n",
    "  * Dersom brukeren skriver noe annet, skal scriptet printe en feilmelding, og spørre på nytt\n",
    "  \n",
    "  \n",
    "* Hint: Dersom noe går galt og du ikke kommer ut av scriptet, kan du trykke ctrl-C for å avslutte det"
   ]
  }
 ],
 "metadata": {
  "language_info": {
   "name": "python"
  }
 },
 "nbformat": 4,
 "nbformat_minor": 2
}

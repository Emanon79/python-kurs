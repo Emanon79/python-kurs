{
 "cells": [
  {
   "cell_type": "markdown",
   "metadata": {},
   "source": [
    "# 9 Scripting og argumenter\n",
    "```shell\n",
    "$ python3 myscript.py 1 2 3\n",
    "```"
   ]
  },
  {
   "cell_type": "markdown",
   "metadata": {},
   "source": [
    "## 9.1 Hvordan kjøre et script?\n",
    "- Det vanligste når man programmerer i Python er å lagre koden sin i filer.\n",
    "- Vi kan kjøre disse filene fra kommandolinja. Men det er vanligvis litt ulikt for Windows og Linux.\n",
    "\n",
    "\n",
    "- **Windows**\n",
    "    - \"Best practice\" å bruke \"py launcher\" og spesifisere hvilken Python-versjon man skal kjøre.\n",
    "        - `py -3 script.py`\n",
    "    - Hvis python.exe ligger i Windows sin PATH, kan man også kjøre python.exe direkte\n",
    "        - `python script.py`\n",
    "    - Hvis den ikke ligger i PATH kan man bruke hele filbanen.\n",
    "        - `C:\\python310\\python.exe`\n",
    "- **Linux**\n",
    "    - Har ulike navn på python-binærfilene.\n",
    "    - Med Python 3\n",
    "        - `python3 script.py`\n",
    "\n",
    "\n",
    "- Man kan slippe å skrive python foran scriptet\n",
    "    - Hvis filen er kjørbar\n",
    "    - Hvis sti til python angis som _shebang_ i scriptet (Første linje må feks være `#!/usr/bin/env python3`)"
   ]
  },
  {
   "cell_type": "markdown",
   "metadata": {},
   "source": [
    "## 9.2 \"main\"\n",
    "- Kreves ikke at man har en main-funksjon slik som c, men er likevel lurt!\n",
    "\n",
    "- \\_\\_name\\_\\_ er en miljøvariabel som er lik '\\_\\_main\\_\\_' hvis koden i skriptet eksekveres direkte fra kommandolinjen, og 'modulnavnet' hvis koden er importert som en modul"
   ]
  },
  {
   "cell_type": "code",
   "execution_count": null,
   "metadata": {
    "vscode": {
     "languageId": "plaintext"
    }
   },
   "outputs": [],
   "source": [
    "#!/usr/bin/env python3\n",
    "\n",
    "def sum(tall1=0, tall2=0, tall3=0):\n",
    "    print(\"Summen er:\", tall1 + tall2 + tall3)\n",
    "\n",
    "def main():\n",
    "    sum(1,4)\n",
    "\n",
    "if __name__ == '__main__':\n",
    "    main()"
   ]
  },
  {
   "cell_type": "markdown",
   "metadata": {},
   "source": [
    "## 9.3 Argumenter\n",
    "\n",
    "Man kan sende inn argumenter til et script fra kommandolinja.\n",
    "\n",
    "Eksempel (ikke samme script som i 9.2)\n",
    "```shell\n",
    "> py -3 \"files/sum.py\" 1 2 3\n",
    "Summen er: 6\n",
    "```\n",
    "Noen scripts bruker også andre typer argumenter:\n",
    "- flagg/opsjoner (feks '-v' eller '--verbose') eller\n",
    "- opsjoner som krever parametre (feks. '--file' som krever et filnavn).\n",
    "\n",
    "```shell\n",
    "> py -3 test.py -v --file \"fil.txt\"\n",
    "```"
   ]
  },
  {
   "cell_type": "markdown",
   "metadata": {},
   "source": [
    "- Argumentene kan aksesseres i python med **sys.argv**.\n",
    "- Må først importere **sys**\n",
    "- Liste som inneholder alle argumenter. Første element i lista er alltid navnet på scriptet."
   ]
  },
  {
   "cell_type": "code",
   "execution_count": null,
   "metadata": {
    "vscode": {
     "languageId": "plaintext"
    }
   },
   "outputs": [],
   "source": [
    "import sys\n",
    "sys.argv"
   ]
  },
  {
   "cell_type": "markdown",
   "metadata": {},
   "source": [
    "Et eksempel på bruk av `sys.argv` i scriptet `sum.py`"
   ]
  },
  {
   "cell_type": "code",
   "execution_count": null,
   "metadata": {
    "vscode": {
     "languageId": "plaintext"
    }
   },
   "outputs": [],
   "source": [
    "#!/usr/bin/env python3\n",
    "import sys\n",
    "\n",
    "def sum(tall1=0, tall2=0, tall3=0):\n",
    "    print(\"Summen er:\", tall1 + tall2 + tall3)\n",
    "\n",
    "def main():\n",
    "    if len(sys.argv) == 2:                                        # Sjekk om antall argumenter er 2\n",
    "        sum(sys.argv[1])                                          # Kjør sum med 1 argument\n",
    "        \n",
    "    elif len(sys.argv) == 3:                                      # Sjekk om antall argumenter er 3\n",
    "        sum(int(sys.argv[1]), int(sys.argv[2]))                   # Kjør sum med 2 argumenter\n",
    "        \n",
    "    elif len(sys.argv) == 4:                                      # Sjekk om antall argumenter er 4\n",
    "        sum(int(sys.argv[1]), int(sys.argv[2]), int(sys.argv[3])) # Kjør sum med 3 argumenter\n",
    "        \n",
    "    else:\n",
    "        sum()                                                     # Kjør sum med 0 argumenter\n",
    "    \n",
    "if __name__ == '__main__':\n",
    "    main()"
   ]
  },
  {
   "cell_type": "markdown",
   "metadata": {},
   "source": [
    "**tips**: Alle argumenter fra `sys.argv` er strenger. De må konverteres til tall hvis man forventer at det er et tall!"
   ]
  },
  {
   "cell_type": "markdown",
   "metadata": {},
   "source": [
    "## 9.4 Argumentparsing\n",
    "\n",
    "- Skal man ha litt mer avanserte flagg/opsjoner eller argumenter brukes gjerne moduler for dette.\n",
    "- Det er flere moduler for dette, i dette kurset bruker vi __typer__"
   ]
  },
  {
   "cell_type": "markdown",
   "metadata": {},
   "source": [
    "### Typer\n",
    "- Typer er en tredjeparts modul som kan tolke kommandolinjen.\n",
    "- Bygger automatisk opp hjelpetekst\n",
    "- Støtter standardverdier for argumenter\n",
    "- Støtter obligatoriske argumenter\n",
    "- Mye funksjonalitet\n",
    "\n",
    "Godt dokumentert på https://typer.tiangolo.com/\n",
    "Må lastes ned i terminal med \"pip install typer\" (Linux) eller \"py -3 -m pip install typer\" (Windows)\n"
   ]
  },
  {
   "cell_type": "code",
   "execution_count": null,
   "metadata": {
    "vscode": {
     "languageId": "plaintext"
    }
   },
   "outputs": [],
   "source": [
    "import typer\n",
    "from typing import Optional\n",
    "\n",
    "def main(\n",
    "            host: str = typer.Argument(\"localhost\", help=\"Adresse til webserver\"),\n",
    "            lang: Optional[str] = typer.Option(default=\"no\", help=\"Hvilket språk ønsker du?\")\n",
    "        ):\n",
    "    typer.echo(f\"{host}\")\n",
    "    typer.echo(f\"{lang}\")\n",
    "\n",
    "if __name__ == \"__main__\":\n",
    "    typer.run(main)"
   ]
  },
  {
   "cell_type": "code",
   "execution_count": null,
   "metadata": {
    "vscode": {
     "languageId": "plaintext"
    }
   },
   "outputs": [],
   "source": [
    "import typer\n",
    "\n",
    "app = typer.Typer()\n",
    "\n",
    "@app.command()\n",
    "def host(\n",
    "            host: str = typer.Argument(\"localhost\", help=\"Adresse til webserver\"),\n",
    "            lang: str = typer.Argument(default=\"no\", help=\"Hvilket språk ønsker du?\")\n",
    "        ):\n",
    "    typer.echo(f\"{host}\")\n",
    "    typer.echo(f\"{lang}\")\n",
    "\n",
    "if __name__ == \"__main__\":\n",
    "    app()"
   ]
  },
  {
   "cell_type": "markdown",
   "metadata": {},
   "source": [
    "# 9. Oppgaver"
   ]
  },
  {
   "cell_type": "markdown",
   "metadata": {},
   "source": [
    "## Oppgave: Lag et enkelt script\n",
    "\n",
    "* Lag ett enkelt script med en main funksjon, og en if (som vist på forrige slide)\n",
    "* main funksjonen skal innholde:\n",
    "  * en eviggående while-løkke som:\n",
    "    * Spør brukeren (med input()) om hva han/hun ønsker å gjøre\n",
    "    * Dersom brukeren skriver \"avslutt\", skal du hoppe ut av løkken (med break), og avslutte scriptet\n",
    "    * Dersom brukeren skriver \"sum\", skal scriptet spørre om to tall, som summeres og printes\n",
    "    * Dersom brukeren skriver noe annet, skal scriptet printe en feilmelding, og spørre på nytt\n",
    "  \n",
    "  \n",
    "* Hint: Dersom noe går galt og du ikke kommer ut av scriptet, kan du trykke ctrl-C for å avslutte det"
   ]
  },
  {
   "cell_type": "markdown",
   "metadata": {},
   "source": [
    "## Oppgave: Manuelle argumenter med sys.argv\n",
    "\n",
    "Lag et python skript som gjør følgende:\n",
    "- Blir skriptet startet med –h, så skal en kort tekst om hvordan skriptet brukes skrives til skjermen.\n",
    "- Blir skriptet startet –c n (hvor n er et naturlig tall), så skal en funksjon startes med argumentet etter –c. \n",
    "    - Denne funksjonen skal gi ut alle tall fra 0 til n\n",
    "- Blir skriptet startet med –s str (hvor str er en streng), så skal en funksjon startes med argumentet etter –s. \n",
    "    - Denne funksjonen skal beregne lengden på strengen og lage en ny streng av hver andre bokstav i den gitte strengen. \n",
    "    - Bruk f.eks len(str) og streng[i]"
   ]
  },
  {
   "cell_type": "markdown",
   "metadata": {},
   "source": [
    "## Oppgave: Bruk typer\n",
    "\n",
    "Lag et python skript som gjør følgende (Samme funksjonalitet som forrige oppgave):\n",
    "- Blir skriptet startet med –h, så skal en kort tekst om hvordan skriptet brukes skrives til skjermen.\n",
    "- Blir skriptet startet –c n (hvor n er et naturlig tall), så skal en funksjon startes med argumentet etter –c. \n",
    "    - Denne funksjonen skal gi ut alle tall fra 0 til n\n",
    "- Blir skriptet startet med –s str (hvor str er en streng), så skal en funksjon startes med argumentet etter –s. \n",
    "    - Denne funksjonen skal beregne lengden på strengen og lage en ny streng av hver andre bokstav i den gitte strengen. \n",
    "    - Bruk f.eks len(str) og streng[i]"
   ]
  }
 ],
 "metadata": {
  "language_info": {
   "name": "python"
  }
 },
 "nbformat": 4,
 "nbformat_minor": 2
}

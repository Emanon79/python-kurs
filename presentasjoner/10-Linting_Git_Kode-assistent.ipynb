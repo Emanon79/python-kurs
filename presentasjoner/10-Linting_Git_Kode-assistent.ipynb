{
 "cells": [
  {
   "cell_type": "markdown",
   "metadata": {},
   "source": [
    "# 10 Linting, Git og Kode-assitent"
   ]
  },
  {
   "cell_type": "markdown",
   "metadata": {},
   "source": [
    "## 10.1 Linting"
   ]
  },
  {
   "cell_type": "markdown",
   "metadata": {},
   "source": [
    "Linting er å sjekke kode for feil og mangler ved kun å se på kildekoden. Ofte kaller vi dette statisk sjekking av kode som primært tar for seg kodekonvensjoner og beste praksis. Typisk vil man sjekke at koden er skrevet på en god måte og luke ut åpenbare feil. Å luke ut feil tidlig er veldig nyttig fordi de ofte fører til følgefeil som er vanskelig å finne ut av. I tillegg til å luke ut feil vil en sjekk sørge for at koden er lett å få oversikt over og dermed enklere å forstå og vedlikeholde over tid. Tenk alltid at det kommer noen etter deg som skal se på og videreutvikle din kode.\n",
    "\n",
    "For å kunne lage kode som er lette å vedlikeholde gjelder det å ha konvensjoner på hvordan koden skal se ut. Python har definert en kode-stil for kode i standardbiblioteket sitt i et dokument kalt (https://peps.python.org/pep-0008/)[PEP8]. Her beskrives det gode konvensjoner for hvordan man bør skrive python-kode. Et eksempel er at indentering skal være 4 spaces. Dette sørger for at koden ser lik ut i alle editorer.\n",
    "\n",
    "En standard som PEP8 er et godt utgangspunkt for egen kode, men til syvende å siste er det de som skriver koden og jobber sammen som bestemmer hvilke konvensjoner som skal brukes. For eksempel kan det være at maksimal linjestørrelse ikke er noe dere vil ta høyde for, da kan det sløyfes. Sløyfing av konvensjoner gjør det ofte vanskeligere for nye personer å sette seg inn i koden, så det bør ikke gjøres uten god grunn.\n",
    "\n",
    "Lintere finnes også som extensions i forskjellige IDE'er. For eksempel Pylint i Vscode. "
   ]
  },
  {
   "cell_type": "markdown",
   "metadata": {},
   "source": [
    "## 10.1.1 Pycodestyle"
   ]
  },
  {
   "cell_type": "markdown",
   "metadata": {},
   "source": [
    "pycodestyle er et skript som sjekker om python kode følger reglene i PEP8. Det kan enkelt installeres gjennom pip"
   ]
  },
  {
   "cell_type": "markdown",
   "metadata": {},
   "source": [
    "```\n",
    "pip3 install pycodestyle\n",
    "```"
   ]
  },
  {
   "cell_type": "markdown",
   "metadata": {},
   "source": [
    "Under mappen _filer_ ligger det et skript kalt _fixme.py_. I terminalen kjør følgende\n",
    "```\n",
    "pycodestyle filer/fixme.py\n",
    "```\n",
    "Du bør få ca samme output som ved å kjøre koden under."
   ]
  },
  {
   "cell_type": "code",
   "execution_count": null,
   "metadata": {},
   "outputs": [
    {
     "name": "stdout",
     "output_type": "stream",
     "text": [
      "filer/fixme.py:2:12: E401 multiple imports on one line\n",
      "filer/fixme.py:4:1: E302 expected 2 blank lines, found 1\n",
      "filer/fixme.py:5:17: E211 whitespace before '('\n",
      "filer/fixme.py:6:21: E225 missing whitespace around operator\n",
      "filer/fixme.py:7:18: E221 multiple spaces before operator\n",
      "filer/fixme.py:9:1: W293 blank line contains whitespace\n",
      "filer/fixme.py:10:5: E303 too many blank lines (2)\n",
      "filer/fixme.py:11:80: E501 line too long (81 > 79 characters)\n",
      "filer/fixme.py:12:14: E211 whitespace before '('\n",
      "filer/fixme.py:14:1: E302 expected 2 blank lines, found 1\n",
      "filer/fixme.py:18:17: E211 whitespace before '('\n"
     ]
    }
   ],
   "source": [
    "import pycodestyle\n",
    "style_guide = pycodestyle.StyleGuide(parse_argv=False)\n",
    "report = style_guide.check_files(paths=[\"filer/fixme.py\"])\n"
   ]
  },
  {
   "cell_type": "markdown",
   "metadata": {},
   "source": [
    "Fra dokumentasjonen av pycodestyle finner man følgende beskrivelse:\n",
    "Groups of errors and warnings:\n",
    "- E errors\n",
    "- W warnings\n",
    "- 100 indentation\n",
    "- 200 whitespace\n",
    "- 300 blank lines\n",
    "- 400 imports\n",
    "- 500 line length\n",
    "- 600 deprecation\n",
    "- 700 statements\n",
    "- 900 syntax error"
   ]
  },
  {
   "cell_type": "markdown",
   "metadata": {},
   "source": [
    "Disse meldingen bør håndteres ved å forandre koden i henhold til meldingen. Men man kan også velge å ignorere en del av meldingene hvis man har en god grunn til det. Det kan for eksempel være at teamet du jobber på er blitt enige om at linjer lenger enn 79 tegn er greit."
   ]
  },
  {
   "cell_type": "markdown",
   "metadata": {},
   "source": [
    "## 10.1.2 Flake8\n",
    "\n",
    "Flake8 er en linter som kan installeres enkelt gjennom pip.\n",
    "```\n",
    "pip3 install flake8\n",
    "```\n",
    "\n",
    "I tillegg til å sjekke kodestil som pycodestyle vil den sjekke koden grundigere for korrekthet. Hvis du kjører så vil du legge merke til at den ser at greetin-variabelen ikke er blitt brukt. Dette tyder på programmeringsfeil.\n",
    "```\n",
    "flake8 fixme.py\n",
    "```"
   ]
  },
  {
   "cell_type": "markdown",
   "metadata": {},
   "source": [
    "## 10.1.3 Pylint, Mypy, Pyflakes, Ruff"
   ]
  },
  {
   "cell_type": "markdown",
   "metadata": {},
   "source": [
    "Det finnes mange forskjellige lintere der ute. Det viktige er ikke nødvendigvis hvilken man bruker, men at man bruker en linter. Det å ha en linter, selv en \"dårlig\" en er mye bedre enn å ikke ha en i det hele tatt.\n",
    "\n",
    "Det er vanlig å bruker lintere i git-hooks og CICD pipelines for å sørge for at kodebase i et git-repository holder en god standard og ikke forfaller. Det skal ikke mye slapphet til før en kodebase blir vanskelig å jobbe med."
   ]
  },
  {
   "cell_type": "markdown",
   "metadata": {},
   "source": [
    "## 10.2 Git"
   ]
  },
  {
   "cell_type": "markdown",
   "metadata": {},
   "source": [
    "Det finner mange ressurser for introduksjon til git på nettet. Et eksempel er (https://docs.github.com/en/get-started/using-git/about-git)[github sin].\n",
    "Enkelt sagt er git er et verktøy for versjonskontroll av kildekode. Det gir deg en historie over dine endringer, og gir deg muligheten til å kunne gjenopprette tidligere versjoner enkelt. Det gjør det enkelt for flere som jobber sammen å koordinere endringer på kildekoden.\n",
    "\n",
    "Utviklere må kunne bruke git. Ofte holder det med basics, så det blir fokuset for disse oppgavene"
   ]
  },
  {
   "cell_type": "markdown",
   "metadata": {},
   "source": [
    "## 10.3 Kode-Assistent"
   ]
  },
  {
   "cell_type": "markdown",
   "metadata": {},
   "source": [
    "Det finnes etterhvert endel kode-assistenter ute på markedet. Både til gratis bruk og betal-versjoner. Noen av disse er \n",
    "\n",
    "* Github copilot (Gratis til personlig bruk)\n",
    "* Codeium (Gratis til personlig bruk)\n",
    "* Gemini\n",
    "* TabbyML (Kan kjøre lokalt)\n",
    "\n",
    "Kode-assistenten integreres gjerne i IDE ved hjelp av plugins eller extensions. "
   ]
  },
  {
   "cell_type": "markdown",
   "metadata": {},
   "source": [
    "## 10.4 Scanning og testing av kode"
   ]
  },
  {
   "cell_type": "markdown",
   "metadata": {},
   "source": [
    "### SAST (Static Application Security Testing) og DAST (Dynamic Application Security Testing)"
   ]
  },
  {
   "cell_type": "markdown",
   "metadata": {},
   "source": [
    "**SAST**\n",
    "\n",
    "Når man analyserer kode for å finne svakheter, uten å kjøre programmet, foretar man det som kalles for statisk analyse. Statisk analyse skiller seg fra linting ved at \n",
    "den også kan detektere sårbarheter, finne ytelses problemer og bugs. \n",
    "\n",
    "Litt nærmere forklart:\n",
    "\n",
    "* Typer – f.eks. forsøk på å lagre tekst i en variabel for tall. Dette blir først og fremst nødvendig hvis brukte verktøy (f.eks. IDE og kompilator) ikke undersøker selv.\n",
    "* Linting. Dette er simpelthen kodestil, altså kodeformatering. Dvs. tomrom, navning, kommentarskriving, o.s.v. Noen undersøker også programstruktur og kan si ifra hvis det mangler noe. Denne type sjekking bør man helst ha med fra starten av i et prosjekt, før man begynner å skrive masse kode og tillegge seg (u)vaner.\n",
    "* Bugs. Her sjekkes det for uønsket og ikke tiltenkt funksjonalitet, fordi dette kan åpne for sikkerhetshull.\n",
    "For sistnevnte vil man som regel oppleve å få falske positiver og falske negativer, selv om analyseprogrammene er lagd av veldig proffe folk. Og man avdekker først og fremst kun generelle kodefeil som åpner for sikkerhetshull uansett hvilke omstendigheter som er gjeldende.\n",
    "\n",
    "Å oppdage kodefeil som gir situasjonsbestemte sikkerhetshull er vanskeligere.\n",
    "\n",
    "Det finnes mange forskjellige programmer som kan brukes til Statisk kode analyse, både gratis og lisensierte.\n",
    "* Snyk\n",
    "* SonarQube\n",
    "* Trivy\n",
    "\n",
    "\n",
    "\n",
    "**DAST**\n",
    "\n",
    "Gjør mye av det samme som statisk analyse. I tillegg monitorerer dynamiske verktøy koden konstant, og kan trigge alarmer samt forslå fikser hvis en sårbarhet i koden oppstår.\n",
    "\n",
    "DAST verktøy er gjerne komplekse og er som oftest lisensierte produkter.\n"
   ]
  },
  {
   "cell_type": "markdown",
   "metadata": {},
   "source": [
    "## Sårbarhets scanning"
   ]
  },
  {
   "cell_type": "markdown",
   "metadata": {},
   "source": [
    "Det finnes mye skadevare på pypi.org. Er man i tvil om pakken man har tenkt å bruke er trygg finnes det noen gratis ressurser på internett. \n",
    "```\n",
    "https://security.snyk.io\n",
    "https://ossindex.sonatype.org \n",
    "```\n",
    "Er begge gratis tjenester hvor man kan slå opp en pakke. \n",
    "\n",
    "Det er god praksis å scanne koden sin når denne bygges. Trivy er en open-source scanner som er lett å komme igang med\n",
    "```\n",
    "https://trivy.dev/ \n",
    "```\n",
    "Trivy kan integreres i pipelines, kjøres som stand-alone osv. \n",
    "\n",
    "I Github repoet \n",
    "```\n",
    "https://github.com/Emanon79/scan-code\n",
    "```\n",
    "Har vi lagt inn både konfigurerings feil og sårbarheter. Vi kan bruke Trivy til å scanne repoet. Enten installert på maskina eller kjørende som docker kontainer. \n",
    "\n",
    "Installasjon av Trivy i Windows:\\\n",
    "Last ned installasjons fil for windows fra https://github.com/aquasecurity/trivy/releases/ og unzip på ønsket lokasjon.\n",
    "\n",
    "Som docker kontainer:\\\n",
    "docker pull aquasec/trivy:latest\n",
    "\n",
    "\n",
    "Koden scannes med trivy slik:"
   ]
  },
  {
   "cell_type": "code",
   "execution_count": null,
   "metadata": {},
   "outputs": [],
   "source": [
    "Scan for feilkonfigurasjoner\n",
    "trivy repo --scanners misconfig https://github.com/Emanon79/scan-code\n",
    "docker run aquasec/trivy:latest repo --scanners misconfig https://github.com/Emanon79/scan-code\n",
    "\n",
    "Scan for sårbarheter\n",
    "trivy repo https://github.com/Emanon79/scan-code\n",
    "docker run aquasec/trivy:latest repo https://github.com/Emanon79/scan-code"
   ]
  },
  {
   "cell_type": "markdown",
   "metadata": {},
   "source": [
    "## 10.5 Holde pakker oppdatert"
   ]
  },
  {
   "cell_type": "markdown",
   "metadata": {},
   "source": [
    "Kode trengs stadig å oppdatere. I dette kurset har vi gjort det enkelt å ikke satt versjoner i requirements fila når vi installerte pakkene vi trenger til kurset, da har vi automatisk fått nyeste versjon installert. For å oppdatere en pakke kan vi kjøre:\n",
    "```\n",
    "pip install --upgrade PAKKENAVN\n",
    "```\n",
    "For å liste pakker som er utdaterte og trenger oppgradering\n",
    "```\n",
    "pip list --outdated\n",
    "```"
   ]
  },
  {
   "cell_type": "markdown",
   "metadata": {},
   "source": [
    "### Bruk av bot'er\n",
    "\n",
    "Det blir fort krevende å holde alt av pakker oppdatert. Gamle versjoner har ofte sårbarheter og vi ønsker å holde pakkene og koden vår så oppdatert som mulig. Det finnes bot'er som \n",
    "* Dependabot\n",
    "* Renovatebot\n",
    "\n",
    "Disse botene kan gå mot git repoer og sjekke pakker og avhengingheter. Så lages en pull request/merge request med forslag til pakker som kan oppdateres.\n",
    "\n",
    "Hvis man ikke oppdaterer og patcher kan man lese om worst case scenairo her: https://www.wired.com/story/notpetya-cyberattack-ukraine-russia-code-crashed-the-world/"
   ]
  },
  {
   "cell_type": "markdown",
   "metadata": {},
   "source": [
    "# 10.6 Ekstra Oppgaver"
   ]
  },
  {
   "cell_type": "markdown",
   "metadata": {},
   "source": [
    "## Oppgave: Linting"
   ]
  },
  {
   "cell_type": "markdown",
   "metadata": {},
   "source": [
    "## 1\n",
    "Forandre 'script/fixme.py' slik at pycodestyle og flake8 ikke gir deg noen warning eller errors."
   ]
  },
  {
   "cell_type": "markdown",
   "metadata": {},
   "source": [
    "## 2\n",
    "Installer en linter, for eksempel flake8, og kjør den på koden du har skrevet i dette kurset og tidligere. De fleste, om ikke alle, tilbakemeldingene du får bør du gjør noe med. Er det noen du ikke vil gjøre noe med, hvorfor? Det er viktig at du har en grunn til å ignorere en konvensjon eller regel"
   ]
  },
  {
   "cell_type": "markdown",
   "metadata": {},
   "source": [
    "## 3\n",
    "Finn ut hvordan du skrur av eller fjerner sjekker av regler i flake8 og pycodestyle. Skru av sjekk for lenge på linjer og sjekk et python-skript med minst en linje som e rlenger enn 79 karakterer."
   ]
  },
  {
   "cell_type": "markdown",
   "metadata": {},
   "source": [
    "## 4\n",
    "Finn ut hvordan du legger inn linting som en del av git pre-commit hook slik at du ikke får love til å commite hvis koden din ikke \"er perfekt\" (Ingen klaging fra linteren).\n",
    "Hint: Se under .git/hooks/ og filen pre-commit.sample. Denne kan du kopiere til .git/hooks/pre-commit og endre til å kjøre en linter"
   ]
  },
  {
   "cell_type": "markdown",
   "metadata": {},
   "source": [
    "## 5\n",
    "Du har helt sikkert programmert i et annet programmeringsspråk tidligere. Sjekk om det finnes lintere til et av språkene og prøv den. Er den nyttig?"
   ]
  },
  {
   "cell_type": "markdown",
   "metadata": {},
   "source": [
    "## Oppgave: Git"
   ]
  },
  {
   "cell_type": "markdown",
   "metadata": {},
   "source": [
    "### 1\n",
    "\n",
    "Gå inn på github.com og lag deg en konto. Lag så et repository som du kaller python-kurs og klon det til lokal maskin."
   ]
  },
  {
   "cell_type": "markdown",
   "metadata": {},
   "source": [
    "### 2\n",
    "\n",
    "Lag en main.py fil med litt python-kode og legg den til repositoriet ved å kjøre kommandoene\n",
    "1. ```git add main.py```\n",
    "2. ```git commit -m \"Legger til main.py\"```\n",
    "\n",
    "Kjør ```git log``` for å se commiten din. Kjør så git push for å oppdatere repository på github.com"
   ]
  },
  {
   "cell_type": "markdown",
   "metadata": {},
   "source": [
    "### 3\n",
    "\n",
    "Gjør en endring på main.py og legg den til repositoriet. Bruk en kombinasjon av følgende kommandoer\n",
    "- ```git add main.py --patch```\n",
    "- ```git status```\n",
    "- ```git diff```\n",
    "- ```pycodestyle main.py``` (Hvis du vil fikse koden i oppgave 2)\n",
    "- ```git commit -m \"Endret main.py\"```"
   ]
  },
  {
   "cell_type": "markdown",
   "metadata": {},
   "source": [
    "## Oppgave Scanning"
   ]
  },
  {
   "cell_type": "markdown",
   "metadata": {},
   "source": [
    "Scan prosjektet https://github.com/Emanon79/scan-code.git og finn sårbarhetene og feil konfigurasjonene. \n",
    "\n",
    "Klon så prosjektet til din maskin og oppdater pakkene slik at du får minst mulig sårbarheter.\n",
    "\n",
    "Trivy kan scanne lokale filer med fs kommando istedet for repo.\n",
    "\n",
    "Bruker du docker må du mounte lokalt volume for at det skal fungere."
   ]
  }
 ],
 "metadata": {
  "language_info": {
   "name": "python"
  }
 },
 "nbformat": 4,
 "nbformat_minor": 2
}

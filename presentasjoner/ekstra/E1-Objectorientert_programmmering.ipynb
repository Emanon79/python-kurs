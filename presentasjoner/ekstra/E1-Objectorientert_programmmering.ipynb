{
 "cells": [
  {
   "cell_type": "markdown",
   "metadata": {},
   "source": [
    "# E1 - Objektorientert programmering"
   ]
  },
  {
   "cell_type": "markdown",
   "metadata": {},
   "source": [
    "## E1.1 Hva er objektorientert programmering?"
   ]
  },
  {
   "cell_type": "markdown",
   "metadata": {},
   "source": [
    "* Programmeringsparadigme der man strukturerer et program slik at oppførsel og data er samlet i klasser.\n",
    "* Objekter, instanser av klasser, har metoder som skjuler implementasjonsdetaljer og underliggende datastrukturer bak et grensesnitt.\n",
    "* Bruk av objekter gjør programmet mer modulært. Det gjør det enklere å gjøre endringer internt i en klasse.\n",
    "* Modellering av relasjoner mellom forskjellige klassert kan gjøres ved arv av felles attributter og metoder."
   ]
  },
  {
   "cell_type": "markdown",
   "metadata": {},
   "source": [
    "Det er ikke forventet at dere skal skjønne detaljene i eksempelet under. Vi gjennomgår konseptene i mer detalj under. Poenget er å vise prinsipper som vi har i objektorientert programmering. De forskjellige klassene har attributter og metoder som kan bruke attributtene. Flere av klassene er en spesifisert versjon av en annen klasse. Feks er en Instructor en Enployee, som igjen er en Person. For klassen Instructor er implementasjonen av feedback gjemt bak metodene give/print_feedback. Dette gjør det enkelt å forandre den underliggende implementasjonen ute å gjøre endringer på annen kode. "
   ]
  },
  {
   "cell_type": "code",
   "execution_count": null,
   "metadata": {},
   "outputs": [],
   "source": [
    "class Person:\n",
    "    def __init__(self, age, name):\n",
    "        self.__age = age\n",
    "        self.__name = name\n",
    "\n",
    "    def __str__(self):\n",
    "        return f\"{self.__name} ({self.__age})\"\n",
    "\n",
    "class Employee(Person):\n",
    "    def __init__(self, id_, *args, **argw):\n",
    "        super().__init__(*args, **argw)\n",
    "        self.__id = id_\n",
    "\n",
    "    def __str__(self):\n",
    "        return super().__str__() + f\" instructor id {self.__id}\"\n",
    "\n",
    "class Instructor(Employee):\n",
    "    def __init__(self, teaching, *args, **argw):\n",
    "        super().__init__(*args, **argw)\n",
    "        self.__teaching = teaching\n",
    "        self.__inbox = []\n",
    "\n",
    "    def give_feedback(self, feedback):\n",
    "        self.__inbox.append(feedback)\n",
    "\n",
    "    def print_feedback(self):\n",
    "        print(\"\\n\".join(self.__inbox))\n",
    "\n",
    "    def __str__(self):\n",
    "        return super().__str__() + f\" teaching: {self.__teaching}\"\n",
    "\n",
    "class Student(Person):\n",
    "    def __init__(self, attending, *args, **argw):\n",
    "        super().__init__(*args, **argw)\n",
    "        self.__attending = attending\n",
    "\n",
    "    def add_attending(self, course):\n",
    "        self.__attending.append(course)\n",
    "        \n",
    "    def __str__(self):\n",
    "        return super().__str__() + f\" attending: {self.__attending}\"\n",
    "\n",
    "        \n",
    "student_1 = Student([\"IN2145\", \"MAT2322\"], 25, \"Bernt\")\n",
    "instructor_1 = Instructor([\"IN2145\"], 8933, 35, \"Kari\")\n",
    "\n",
    "student_1.add_attending(\"STK2332\")\n",
    "instructor_1.give_feedback(\"Kjempekurs\")\n",
    "\n",
    "print(student_1)\n",
    "print(instructor_1)\n",
    "instructor_1.print_feedback()\n"
   ]
  },
  {
   "cell_type": "markdown",
   "metadata": {},
   "source": [
    "## E1.2 Magiske metoder (Dunder)"
   ]
  },
  {
   "cell_type": "markdown",
   "metadata": {},
   "source": [
    "* \"Double Under (underscores)\".\n",
    "* Spesialmetoder eller attributter som begynner og slutter med to understreker.\n",
    "  * Eks. `__init__()` eller`__str__`.\n",
    "* Brukes for å berike klasser og endre oppførsel til operatorer."
   ]
  },
  {
   "cell_type": "markdown",
   "metadata": {},
   "source": [
    "### Konstruktører\n",
    "* Konstruktører brukes for å gi objekter sine unike attributter.\n",
    "* I Python brukes `__init__()` som konstruktør."
   ]
  },
  {
   "cell_type": "markdown",
   "metadata": {},
   "source": [
    "Eks. fra 'Funksjoner og klasser'"
   ]
  },
  {
   "cell_type": "code",
   "execution_count": null,
   "metadata": {},
   "outputs": [],
   "source": [
    "class TargetHostOld:\n",
    "    \"\"\"Collected info on target\"\"\"\n",
    "    hostname = \"Unknown\"\n",
    "    os = \"Unknown\"\n",
    "    open_ports = []\n",
    "    \n",
    "    def info(self):\n",
    "        print(\"Hostname: {verdi}\".format(verdi=self.hostname))\n",
    "        print(\"OS:\", self.os)\n",
    "        # Map bruker en funksjon på hvert enkelt element i en liste (Her konverteres hver int til en streng)\n",
    "        print(\"Open ports: \" + \", \".join(map(str, self.open_ports)))"
   ]
  },
  {
   "cell_type": "code",
   "execution_count": null,
   "metadata": {},
   "outputs": [],
   "source": [
    "class TargetHost:\n",
    "    \"\"\"Collected info on target\"\"\"\n",
    "    \n",
    "    def __init__(self, hostname, os, open_ports):\n",
    "        self.hostname = hostname\n",
    "        self.os = os\n",
    "        self.open_ports = open_ports\n",
    "    \n",
    "    def info(self):\n",
    "        print(\"Hostname: {verdi}\".format(verdi=self.hostname))\n",
    "        print(\"OS:\", self.os)\n",
    "        # Map bruker en funksjon på hvert enkelt element i en liste (Her konverteres hver int til en streng)\n",
    "        print(\"Open ports: \" + \", \".join(map(str, self.open_ports)))"
   ]
  },
  {
   "cell_type": "markdown",
   "metadata": {},
   "source": [
    "* `TargetHostOld` bruker klasseattributter, mens `TargetHost` bruker en konstruktør.\n",
    "* Hva er forskjellen?\n",
    "  * Klasseattributter er like for alle nye instanser, og må eventuelt endres i etterkant.\n",
    "  * En konstruktør setter attributtene til instansen til unike verdier når instansen lages."
   ]
  },
  {
   "cell_type": "code",
   "execution_count": null,
   "metadata": {},
   "outputs": [],
   "source": [
    "host1 = TargetHostOld()\n",
    "# Enkelt å sette unike attributter for et objekt med en konstruktør\n",
    "host2 = TargetHost(\"Ubuntu\", \"Linux\", [22, 80, 443])\n",
    "host3 = TargetHost(\"Macbook\", \"Mac OS X\", [8080, 1337])\n",
    "\n",
    "print(host1)\n",
    "host1.info()\n",
    "print()\n",
    "print(host2)\n",
    "host2.info()\n",
    "print()\n",
    "print(host3)\n",
    "host3.info()"
   ]
  },
  {
   "cell_type": "markdown",
   "metadata": {},
   "source": [
    "### Finnes mange andre dunder-metoder!"
   ]
  },
  {
   "cell_type": "code",
   "execution_count": null,
   "metadata": {},
   "outputs": [],
   "source": [
    "print(\"host3.__str__():\", host3.__str__())\n",
    "print(\"host3.__dict__:\", host3.__dict__)\n",
    "print()\n",
    "print(\"dir(int):\", dir(int))\n",
    "print()\n",
    "print(\"int.__bool__(1):\", int.__bool__(1))\n",
    "print(\"(1).__add__(2):\", (1).__add__(2))"
   ]
  },
  {
   "cell_type": "markdown",
   "metadata": {},
   "source": [
    "#### Forklaring av noen få\n",
    "* `__add__`: er en spesiell metode som blir kalt når objektet adderes med noe annet.\n",
    "* `__mul__`: Multiplikasjon.\n",
    "* `__sub__`: Subtraksjon.\n",
    "* `__str__`: Funksjonen som blir kalt når man forsøker å caste objektet til typen `str`."
   ]
  },
  {
   "cell_type": "code",
   "execution_count": null,
   "metadata": {},
   "outputs": [],
   "source": [
    "class CustomStreng:\n",
    "    def __init__(self, num):\n",
    "        self.num = str(num)\n",
    "    def __str__(self):\n",
    "        return str(self.num)\n",
    "    def __add__(self, new_num):\n",
    "        self.num = str(int(self.num) + int(new_num))\n",
    "        return self\n",
    "\n",
    "a = CustomStreng(\"5\")\n",
    "print(a)\n",
    "a = a + \"5\"\n",
    "print(a)\n",
    "a += \"5\"\n",
    "print(a)\n",
    "a += \"5\"\n",
    "print(a)\n",
    "print()\n",
    "# Forskjellig fra vanlig streng-addering\n",
    "print(\"5\" + \"5\")"
   ]
  },
  {
   "cell_type": "markdown",
   "metadata": {},
   "source": [
    "## E1.3 Import av egne klasser\n",
    "* Som vi lærte i 'Import av moduler' kan vi importere klasser fra andre moduler\n",
    "* Hvis klassen ligger i en undermappe, spesifiseres filstien, men med punktum (\".\") istedenfor \"/\".\n",
    "  * eks: `from folder.otherfolder.myfile import MyClass`\n",
    "* Under er et eksempel på en klasse vi skal importere"
   ]
  },
  {
   "cell_type": "code",
   "execution_count": null,
   "metadata": {},
   "outputs": [],
   "source": [
    "class MyClass:\n",
    "    def print_hello():\n",
    "        print(\"Hello from \" + __name__)\n",
    "\n",
    "#Sjekk om vi importeres fra et annet skript, eller kjøres på egen hånd\n",
    "#__name__ inneholder navnet på modulen koden kjøres fra\n",
    "if __name__ == '__main__':\n",
    "    MyClass.print_hello()"
   ]
  },
  {
   "cell_type": "markdown",
   "metadata": {},
   "source": [
    "* La oss importere klassen som ligger i `files/myclass.py`"
   ]
  },
  {
   "cell_type": "code",
   "execution_count": null,
   "metadata": {},
   "outputs": [],
   "source": [
    "from files.myclass import MyClass\n",
    "import files.myclass\n",
    "\n",
    "MyClass.print_hello() # ved from * import *, bruk MyClass.<funksjonsnavn>\n",
    "files.myclass.MyClass.print_hello() # ved kun import, bruk hele navnet"
   ]
  },
  {
   "cell_type": "markdown",
   "metadata": {},
   "source": [
    "## E1.4 Arv\n",
    "* Klasser kan arve egenskaper til andre klasser.\n",
    "* Spesifiser hvilken klasse den skal arve fra:\n",
    "  * `class MyClass(ParentClass):` - `MyClass` arver nå fra `ParentClass`.\n",
    "* Klasser som arver kan\n",
    "  * bruke metoder og attributter som den arver fra (superklassen)\n",
    "  * overskrive attributter og metodene til superklassen.\n",
    "* `super()` refererer til superklassen."
   ]
  },
  {
   "cell_type": "code",
   "execution_count": null,
   "metadata": {},
   "outputs": [],
   "source": [
    "class HotDrink:\n",
    "    name = \"Hot drink\"\n",
    "    \n",
    "    def __init__(self, degrees):\n",
    "        self.degrees = degrees\n",
    "        \n",
    "    def cool(self):\n",
    "        self.degrees -= 10\n",
    "    \n",
    "    def info(self):\n",
    "        print(f\"{self.name} ({self.degrees} °C)\")\n",
    "\n",
    "        \n",
    "class Coffee(HotDrink):\n",
    "    pass\n",
    "\n",
    "\n",
    "class Tea(HotDrink):\n",
    "    name = \"tea\"\n",
    "    \n",
    "    def __init__(self, degrees, type):\n",
    "        # Kaller konstruktøren til \"HotDrink\" med \"super()\" (slik at Tea slipper å sette \"degrees\" selv)\n",
    "        super().__init__(degrees)\n",
    "        self.type = type\n",
    "        \n",
    "    def info(self):\n",
    "        print(f\"{self.type} {self.name} ({self.degrees} °C)\")\n",
    "\n",
    "        \n",
    "coffee = Coffee(80)\n",
    "coffee.info() # Printer \"Hot drink\" siden Coffee kun arver egenskapene til HotDrink og ikke gjør noe mer\n",
    "\n",
    "tea = Tea(100, \"Earl Grey\")\n",
    "tea.info()\n",
    "tea.cool()\n",
    "tea.cool()\n",
    "tea.cool()\n",
    "tea.cool()\n",
    "tea.info()"
   ]
  },
  {
   "cell_type": "markdown",
   "metadata": {},
   "source": [
    "# E1.5 Oppgaver"
   ]
  },
  {
   "cell_type": "markdown",
   "metadata": {},
   "source": [
    "## Oppgave: Klasser og dunder-metoder (del 1)\n",
    "* Lag en klasse `Vare` som skal ha ett attributt `navn`.\n",
    "  * Dette attributtet skal settes av konstruktøren.\n",
    "* I tillegg skal klassen ha en pris-metode, som bare inneholder `pass`.\n",
    "  * Denne skal implementeres i senere oppgaver.\n",
    "* Den skal også ha en `__str__` metode som returnerer navnet og prisen på varen som en streng. Hvis pris() er None returneres ikke prisen til varen.\n",
    "\n",
    "* Til slutt, skal det være mulig å sammenligne to varer med hverandre.\n",
    "  * Hvis to varer har samme navn skal sammenligningen returnere True, og False hvis ikke.\n",
    "  * _Tips: bruk en dundermetode_\n",
    "\n",
    "```python\n",
    "if en_vare == annen_vare:\n",
    "    print(\"Disse har samme navn\")\n",
    "```"
   ]
  },
  {
   "cell_type": "markdown",
   "metadata": {},
   "source": [
    "## Oppgave: Klasser og dunder-metoder (del 2)\n",
    "* Lag en klasse `Handlevogn` med ett attributt `varer` som er en liste.\n",
    "  * Når ett objekt av klassen opprettes, skal det ha en tom vareliste.\n",
    "\n",
    "* Klassen skal ha en metode `totalpris`, som iterer over varene, kaller varens `pris`-metode, og returnerer summen som er totalprisen i handlevognen.\n",
    "  * Totalpris skal brukes av videre oppgaver. Den vil ikke fungere på Vare-klassen siden pris() ikke returnerer noen verdi enda.\n",
    "\n",
    "* Finn og implementer tre dunder-metoder slik at koden under fungerer som forventet.\n",
    "  * Når handlevogn-objektet adderes med en vare, skal det legges til i handlevognen.\n",
    "  * Når de subtraheres, skal første vare i handlevognen med samme navn fjernes.\n",
    "  * Når handlevognen printes, skal den også printe alle varer som den inneholder ved å konverter varene til strenger.\n",
    "\n",
    "```python\n",
    "handlevogn = Handlevogn()\n",
    "melk = Vare(\"Melk\")\n",
    "iskrem = Vare(\"Iskrem\")\n",
    "\n",
    "handlevogn += melk\n",
    "handlevogn += iskrem\n",
    "print(handlevogn)\n",
    "# Antall varer: 2, Varer: melk, iskrem\n",
    "\n",
    "handlevogn -= melk\n",
    "print(handlevogn)\n",
    "# Antall varer: 1, Varer: iskrem\n",
    "```"
   ]
  },
  {
   "cell_type": "markdown",
   "metadata": {
    "jp-MarkdownHeadingCollapsed": true
   },
   "source": [
    "## Oppgave: Importer egen klasse\n",
    "* Legg Vare-klassen i sin egen fil med navn vare.py\n",
    "* Legg Handlevogn-klassen i sin egen fil med navn handlevogn.py\n",
    "* Opprett en ny fil med navn butikk.py som importerer klassene, og:\n",
    "  * Oppretter et Handlevogn-objekt\n",
    "  * Fyller den med noen varer\n",
    "  * printer handlevognen\n",
    "* Husk: bruk en main-funksjon i butikk.py"
   ]
  },
  {
   "cell_type": "markdown",
   "metadata": {},
   "source": [
    "## Oppgave: Utvid Handlevogn-klassene\n",
    "* Lag nye klasser for ulike typer kategorier av Varer i butikken. \n",
    "  * Disse nye klassene skal arve egenskaper fra `Vare`-klassen.\n",
    "  * Minst to nye klasser:\n",
    "    * `class VanligVare(Vare)`\n",
    "    * `class LøsvektVare(Vare)`\n",
    "* `VanligVare` skal ha en konstruktør som tar imot navn og pris. Den skal\n",
    "  * kalle superklassen sin konstruktør med `navn`-argumentet. \n",
    "  * sette et `enhetspris`-attributt\n",
    "* `VanligVare` skal også overskrive `pris`-metoden som skal returnere enhetsprisen.\n",
    "\n",
    "* `LøsvektVare` skal ha en konstruktør som tar imot navn, antall kg, og pris per kg. Den skal\n",
    "  * kalle superklassen sin konstruktør med `navn`-argumentet.\n",
    "  * sette `antall_kg`-attributtet og `pris_per_kg`-attributtet til objektet\n",
    "* `LøsvektVare` skal overskrive `pris`-metoden til å regne ut pris basert på vekten til varen.\n",
    "\n",
    "* Endre butikk.py til å lage nye varer som både er LøsvektVarer og VanligVarer.\n",
    "* Legg til flere varer og skriv ut handlevogn og handlevognens totalpris"
   ]
  },
  {
   "cell_type": "code",
   "execution_count": null,
   "metadata": {},
   "outputs": [],
   "source": []
  }
 ],
 "metadata": {
  "kernelspec": {
   "display_name": "Python 3 (ipykernel)",
   "language": "python",
   "name": "python3"
  },
  "language_info": {
   "codemirror_mode": {
    "name": "ipython",
    "version": 3
   },
   "file_extension": ".py",
   "mimetype": "text/x-python",
   "name": "python",
   "nbconvert_exporter": "python",
   "pygments_lexer": "ipython3",
   "version": "3.12.3"
  }
 },
 "nbformat": 4,
 "nbformat_minor": 4
}

{
 "cells": [
  {
   "cell_type": "markdown",
   "metadata": {
    "slideshow": {
     "slide_type": "slide"
    }
   },
   "source": [
    "# 15 - Avanserte funksjoner\n",
    "* Generatorer\n",
    "* Unpacking\n",
    "* Dekoratorer\n",
    "* Map og zip"
   ]
  },
  {
   "cell_type": "markdown",
   "metadata": {
    "slideshow": {
     "slide_type": "slide"
    }
   },
   "source": [
    "## 15.1 - Hvordan lage egne generatorer?"
   ]
  },
  {
   "cell_type": "markdown",
   "metadata": {
    "slideshow": {
     "slide_type": "fragment"
    }
   },
   "source": [
    "__Repetisjon:__\n",
    "* Generatorer minner om lister\n",
    "* Men de kan kun itereres over en gang\n",
    "* Verdiene genereres underveis, og overskrives av neste verdi dersom det ikke lagres\n",
    "* Eksempel: range(), enumerate()"
   ]
  },
  {
   "cell_type": "markdown",
   "metadata": {
    "slideshow": {
     "slide_type": "subslide"
    }
   },
   "source": [
    "__Nytt:__\n",
    "* Funksjoner brukes for å lage generatorer\n",
    "* Nøkkelord: __yield__"
   ]
  },
  {
   "cell_type": "code",
   "execution_count": null,
   "metadata": {
    "slideshow": {
     "slide_type": "fragment"
    }
   },
   "outputs": [],
   "source": [
    "def min_range(maks):\n",
    "    verdi = 0\n",
    "    while verdi < maks:\n",
    "        yield verdi\n",
    "        verdi += 1\n",
    "\n",
    "for i in min_range(5):\n",
    "    print(i)\n",
    "\n",
    "gen = min_range(3)\n",
    "print(gen)\n",
    "print(next(gen))\n",
    "print(next(gen))\n",
    "print(next(gen))\n"
   ]
  },
  {
   "cell_type": "markdown",
   "metadata": {
    "slideshow": {
     "slide_type": "slide"
    }
   },
   "source": [
    "## 15.2 Oppgave: lag to generatorer"
   ]
  },
  {
   "cell_type": "markdown",
   "metadata": {
    "slideshow": {
     "slide_type": "fragment"
    }
   },
   "source": [
    "* Lag en generator som generer tilfeldige verdier\n",
    " * Bruk koden under for å få tilfeldige verdier\n",
    " * Generatoren skal ta to argumenter, _start_ og _stop_ , som definerer intervallet av tilfeldige verdier\n",
    " * Bonus: Generatoren skal ikke returnere samme verdi to ganger på rad\n",
    " * Bruk next() for å teste generatoren. Husk at denne generatoren vil generere uendelig med tall ;)\n",
    " \n",
    "```python\n",
    "import random\n",
    "tall = random.randint(start, stop)\n",
    "```\n",
    "\n",
    "* Lag en generator som genererer de n første Fibonacci-tallene\n",
    " * F[i] = F[i-1] + F[i-2]\n",
    " * F[0] = 0, F[1] = 1"
   ]
  },
  {
   "cell_type": "markdown",
   "metadata": {
    "slideshow": {
     "slide_type": "slide"
    }
   },
   "source": [
    "## 15.3 Unpacking"
   ]
  },
  {
   "cell_type": "markdown",
   "metadata": {
    "slideshow": {
     "slide_type": "fragment"
    }
   },
   "source": [
    "* Repetisjon:\n",
    " * Funksjoner kan ta vanlige argumenter (args) og nøkkelord-argumenter (kwargs)\n",
    " * Funksjoner kan ta ett ukjent antall args og kwargs:"
   ]
  },
  {
   "cell_type": "code",
   "execution_count": null,
   "metadata": {
    "slideshow": {
     "slide_type": "fragment"
    }
   },
   "outputs": [],
   "source": [
    "def summer_tall(*tall):\n",
    "    print(f\"Args: {tall=}\")\n",
    "    summen = 0\n",
    "    for t in tall:\n",
    "        summen += t\n",
    "    return t\n",
    "\n",
    "print(summer_tall(2,3,4))\n",
    "print(summer_tall(2,3,4,6,7))\n",
    "\n",
    "def print_kwargs(**kwargs):\n",
    "    print(f\"Kwargs: {kwargs=}\")\n",
    "    for key, value in kwargs.items():\n",
    "        print(key, \": \", value)\n",
    "\n",
    "print_kwargs(navn=\"Ola\", alder=30)"
   ]
  },
  {
   "cell_type": "markdown",
   "metadata": {
    "slideshow": {
     "slide_type": "subslide"
    }
   },
   "source": [
    "__Motsatt:__\n",
    "* Unpacking, noen ganger kalt splatting\n",
    "* Pakker ut elementene i en liste eller dict som argumenter til en funksjon"
   ]
  },
  {
   "cell_type": "code",
   "execution_count": null,
   "metadata": {
    "slideshow": {
     "slide_type": "fragment"
    }
   },
   "outputs": [],
   "source": [
    "def sum_tre_tall(tall1, tall2, tall3):\n",
    "    print(f\"Args: {tall1=}, {tall2=}, {tall3=}\")\n",
    "    return tall1 + tall2 + tall3\n",
    "\n",
    "print(sum_tre_tall(1,2,3))\n",
    "\n",
    "tall_liste = [4, 3, 2]\n",
    "print(sum_tre_tall(*tall_liste))\n",
    "\n",
    "tall_dict = {\"tall2\": 7, \"tall1\": 1, \"tall3\": 6}\n",
    "print(sum_tre_tall(**tall_dict))"
   ]
  },
  {
   "cell_type": "markdown",
   "metadata": {
    "slideshow": {
     "slide_type": "slide"
    }
   },
   "source": [
    "## 15.4 Oppgave: Unpacking"
   ]
  },
  {
   "cell_type": "markdown",
   "metadata": {
    "slideshow": {
     "slide_type": "fragment"
    }
   },
   "source": [
    "* Lag en funksjon som tar ett ukjent antall strenger som argumenter, og returnerer dem konkatinert\n",
    "* Kall funksjonen under med\n",
    " * en dictionary\n",
    " * en liste\n",
    " * Begge to\n",
    "\n",
    "```python\n",
    "def func(a, b, c):\n",
    "    return a + b + c\n",
    "```"
   ]
  },
  {
   "cell_type": "markdown",
   "metadata": {
    "slideshow": {
     "slide_type": "slide"
    }
   },
   "source": [
    "## 15.5 Dekoratorer"
   ]
  },
  {
   "cell_type": "markdown",
   "metadata": {
    "slideshow": {
     "slide_type": "fragment"
    }
   },
   "source": [
    "__Repetisjon:__"
   ]
  },
  {
   "cell_type": "code",
   "execution_count": null,
   "metadata": {
    "slideshow": {
     "slide_type": "fragment"
    }
   },
   "outputs": [],
   "source": [
    "def say_hello(name: str) -> str:\n",
    "    return f\"Hello {name}\"\n",
    "\n",
    "def say_hi(name: str) -> str:\n",
    "    return f\"Hi {name}!\"\n",
    "\n",
    "print(say_hello(\"Ola\"))\n",
    "print(say_hi(\"Ola\"))"
   ]
  },
  {
   "cell_type": "markdown",
   "metadata": {
    "slideshow": {
     "slide_type": "subslide"
    }
   },
   "source": [
    "__First class objects:__"
   ]
  },
  {
   "cell_type": "code",
   "execution_count": null,
   "metadata": {
    "slideshow": {
     "slide_type": "fragment"
    }
   },
   "outputs": [],
   "source": [
    "def greet(greet_func, name):\n",
    "    return greet_func(name)\n",
    "\n",
    "print(greet(say_hello, \"Per\"))\n",
    "print(greet(say_hi, \"Per\"))"
   ]
  },
  {
   "cell_type": "markdown",
   "metadata": {
    "slideshow": {
     "slide_type": "subslide"
    }
   },
   "source": [
    "__Funksjoner i funksjoner:__"
   ]
  },
  {
   "cell_type": "code",
   "execution_count": null,
   "metadata": {
    "slideshow": {
     "slide_type": "fragment"
    }
   },
   "outputs": [],
   "source": [
    "def ytre_func():\n",
    "    print(\"Første print fra ytre_func()\")\n",
    "    \n",
    "    def indre_func():\n",
    "        print(\"print fra indre_func()\")\n",
    "    \n",
    "    print(\"Andre print fra ytre_func()\")\n",
    "    \n",
    "    indre_func()\n",
    "    \n",
    "    print(\"Tredje print fra ytre_func()\")\n",
    "\n",
    "ytre_func()"
   ]
  },
  {
   "cell_type": "code",
   "execution_count": null,
   "metadata": {
    "slideshow": {
     "slide_type": "fragment"
    }
   },
   "outputs": [],
   "source": [
    "indre_func()"
   ]
  },
  {
   "cell_type": "markdown",
   "metadata": {
    "slideshow": {
     "slide_type": "subslide"
    }
   },
   "source": [
    "__Returnere funksjoner:__"
   ]
  },
  {
   "cell_type": "code",
   "execution_count": null,
   "metadata": {
    "slideshow": {
     "slide_type": "fragment"
    }
   },
   "outputs": [],
   "source": [
    "def get_greet_func(valg, name):\n",
    "    def hi_func():\n",
    "        return f\"Hi {name}!\"\n",
    "    \n",
    "    def hello_func():\n",
    "        return f\"Hello {name}\"\n",
    "    \n",
    "    if valg == 1:\n",
    "        return hi_func\n",
    "    elif valg == 2:\n",
    "        return hello_func\n",
    "    else:\n",
    "        raise ValueError(\"Ugyldig valg!\")\n",
    "\n",
    "hi = get_greet_func(1, \"Bob\")\n",
    "print(hi)\n",
    "print(hi())\n",
    "\n",
    "print()\n",
    "hello = get_greet_func(2, \"Bob\")\n",
    "print(hello)\n",
    "print(hello())"
   ]
  },
  {
   "cell_type": "markdown",
   "metadata": {
    "slideshow": {
     "slide_type": "subslide"
    }
   },
   "source": [
    "__Og nå, dekoratorer:__\n",
    "* Funksjoner som modifiserer andre funksjoner\n",
    "* Legger til kode før og/eller etter funksjoner"
   ]
  },
  {
   "cell_type": "code",
   "execution_count": null,
   "metadata": {
    "slideshow": {
     "slide_type": "fragment"
    }
   },
   "outputs": [],
   "source": [
    "def dekorator_func(func):\n",
    "    print(\"Lager wrapper\")\n",
    "    def wrapper():\n",
    "        print(\"Før funksjonen!\")\n",
    "        func()\n",
    "        print(\"Etter funksjonen!\")\n",
    "    print(\"Returnerer funksjonen\")\n",
    "    return wrapper\n",
    "\n",
    "def print_hello():\n",
    "    print(\"Hello!\")\n",
    "\n",
    "print(print_hello)\n",
    "print_hello()\n",
    "print()\n",
    "\n",
    "print_hello_modifisert = dekorator_func(print_hello)\n",
    "print()\n",
    "\n",
    "print(print_hello_modifisert)\n",
    "print_hello_modifisert()"
   ]
  },
  {
   "cell_type": "markdown",
   "metadata": {
    "slideshow": {
     "slide_type": "subslide"
    }
   },
   "source": [
    "__Snarvei:__"
   ]
  },
  {
   "cell_type": "code",
   "execution_count": null,
   "metadata": {
    "slideshow": {
     "slide_type": "fragment"
    }
   },
   "outputs": [],
   "source": [
    "@dekorator_func # samme som å gjøre print_hi = dekorator_func(print_hi) etter oppretting av funksjonen\n",
    "def print_hi():\n",
    "    print(\"Hi!\")\n",
    "\n",
    "print()\n",
    "print_hi()"
   ]
  },
  {
   "cell_type": "markdown",
   "metadata": {
    "slideshow": {
     "slide_type": "subslide"
    }
   },
   "source": [
    "__Argumenter:__"
   ]
  },
  {
   "cell_type": "code",
   "execution_count": null,
   "metadata": {
    "slideshow": {
     "slide_type": "fragment"
    }
   },
   "outputs": [],
   "source": [
    "def print_args(func):\n",
    "    def wrapper(*args, **kwargs):\n",
    "        print(\"Args:\", args)\n",
    "        print(\"Kwargs:\", kwargs)\n",
    "        return func(*args, **kwargs)\n",
    "    return wrapper\n",
    "\n",
    "@print_args # samme som å gjøre greet = print_args(greet) etter oppretting av funksjonen\n",
    "def greet(name, age=99):\n",
    "    print(f\"Hello {name}, of age {age}\")\n",
    "\n",
    "greet(\"Bob\")\n",
    "print()\n",
    "greet(\"Bob\", age=30)"
   ]
  },
  {
   "cell_type": "markdown",
   "metadata": {
    "slideshow": {
     "slide_type": "subslide"
    }
   },
   "source": [
    "__Ett praktisk eksempel:__ timing av funksjoner"
   ]
  },
  {
   "cell_type": "code",
   "execution_count": null,
   "metadata": {
    "slideshow": {
     "slide_type": "fragment"
    }
   },
   "outputs": [],
   "source": [
    "import time\n",
    "\n",
    "def time_func(func):\n",
    "    def wrapper(*args, **kwargs):\n",
    "        time_before = time.time()\n",
    "        ret = func(*args, **kwargs)\n",
    "        time_after = time.time()\n",
    "        print(f\"Function: {func.__name__}, execution time: {time_after - time_before}\")\n",
    "        return ret\n",
    "    return wrapper\n",
    "\n",
    "@time_func\n",
    "def fast_func():\n",
    "    print(\"I am speed!\")\n",
    "\n",
    "@time_func\n",
    "def slow_func():\n",
    "    print(\"I am... \", end=\"\")\n",
    "    time.sleep(5)\n",
    "    print(\"slow.\")\n",
    "\n",
    "fast_func()\n",
    "print()\n",
    "slow_func()"
   ]
  },
  {
   "cell_type": "markdown",
   "metadata": {
    "slideshow": {
     "slide_type": "slide"
    }
   },
   "source": [
    "## 15.6: Oppgave: dekorator for logging"
   ]
  },
  {
   "cell_type": "markdown",
   "metadata": {
    "slideshow": {
     "slide_type": "fragment"
    }
   },
   "source": [
    "* Lag en dekorator som logger kall av funksjoner med følgende informasjon:\n",
    " * Tidspunktet\n",
    " * Navn på funksjonen\n",
    " * Argumenter\n",
    " * Returverdi\n",
    " * Hvor lang tid funksjonen tok å utføre"
   ]
  },
  {
   "cell_type": "markdown",
   "metadata": {
    "slideshow": {
     "slide_type": "slide"
    }
   },
   "source": [
    "## 15.7: map og zip"
   ]
  },
  {
   "cell_type": "markdown",
   "metadata": {
    "slideshow": {
     "slide_type": "fragment"
    }
   },
   "source": [
    "* Hjelpefunksjoner\n",
    "* Nyttige når man jobber med lister\n",
    "* Generatorer"
   ]
  },
  {
   "cell_type": "markdown",
   "metadata": {
    "slideshow": {
     "slide_type": "subslide"
    }
   },
   "source": [
    "__map()__\n",
    "* \"mapper\" en sekvens med elementer til en funksjon, og returnerer en ny sekvens"
   ]
  },
  {
   "cell_type": "code",
   "execution_count": null,
   "metadata": {
    "slideshow": {
     "slide_type": "fragment"
    }
   },
   "outputs": [],
   "source": [
    "liste = list(range(0, 5))\n",
    "print(liste)\n",
    "\n",
    "def doble(n):\n",
    "    return n*2\n",
    "\n",
    "map_objekt = map(doble, liste)\n",
    "print(map_objekt)\n",
    "\n",
    "ny_liste = list(map_objekt)\n",
    "print(ny_liste)"
   ]
  },
  {
   "cell_type": "code",
   "execution_count": null,
   "metadata": {
    "slideshow": {
     "slide_type": "subslide"
    }
   },
   "outputs": [],
   "source": [
    "liste = list(range(0, 5))\n",
    "str_liste = list(map(str, liste))\n",
    "print(str_liste)"
   ]
  },
  {
   "cell_type": "markdown",
   "metadata": {
    "slideshow": {
     "slide_type": "subslide"
    }
   },
   "source": [
    "__zip()__\n",
    "* Setter sammen sekvenser til en ny sekvens\n",
    "* \"Glidelås\""
   ]
  },
  {
   "cell_type": "code",
   "execution_count": null,
   "metadata": {
    "slideshow": {
     "slide_type": "fragment"
    }
   },
   "outputs": [],
   "source": [
    "tall_liste = [1,2,3,4,5]\n",
    "bokstav_liste = [\"a\", \"b\", \"c\", \"d\", \"e\"]\n",
    "\n",
    "zip_objekt = zip(tall_liste, bokstav_liste)\n",
    "print(zip_objekt)\n",
    "\n",
    "ny_liste = list(zip_objekt)\n",
    "print(ny_liste)"
   ]
  },
  {
   "cell_type": "code",
   "execution_count": null,
   "metadata": {
    "slideshow": {
     "slide_type": "subslide"
    }
   },
   "outputs": [],
   "source": [
    "liste = [(0, 'a'), (1, 'b'), (2, 'c'), (3, 'd'), (4, 'e')]\n",
    "\n",
    "ny_liste = list(zip(*liste))\n",
    "print(ny_liste)\n",
    "\n",
    "ny_tall_liste, ny_bokstav_liste = ny_liste\n",
    "print(ny_tall_liste)\n",
    "print(ny_bokstav_liste)"
   ]
  },
  {
   "cell_type": "markdown",
   "metadata": {
    "slideshow": {
     "slide_type": "slide"
    }
   },
   "source": [
    "## 15.8 Oppgave: map og zip"
   ]
  },
  {
   "cell_type": "markdown",
   "metadata": {
    "slideshow": {
     "slide_type": "fragment"
    }
   },
   "source": [
    "* Start med listen under:\n",
    "\n",
    "`navn = [\"andreas\", \"magnus\", \"ole\", \"fredrik\", \"henrik\"]`\n",
    "\n",
    "* Bruk map(), zip(), enumerate() og reversed() til å lage konvertere den til listen under:\n",
    "\n",
    "`ny_liste = [(\"Andreas\", 4), (\"Magnus\", 3), (\"Ole\", 2), (\"Fredrik\", 1), (\"Henrik\", 0)]`"
   ]
  }
 ],
 "metadata": {
  "celltoolbar": "Slideshow",
  "kernelspec": {
   "display_name": "Python 3",
   "language": "python",
   "name": "python3"
  },
  "language_info": {
   "codemirror_mode": {
    "name": "ipython",
    "version": 3
   },
   "file_extension": ".py",
   "mimetype": "text/x-python",
   "name": "python",
   "nbconvert_exporter": "python",
   "pygments_lexer": "ipython3",
   "version": "3.8.1"
  }
 },
 "nbformat": 4,
 "nbformat_minor": 4
}

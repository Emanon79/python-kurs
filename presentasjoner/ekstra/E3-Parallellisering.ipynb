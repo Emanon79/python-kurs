{
 "cells": [
  {
   "cell_type": "markdown",
   "metadata": {},
   "source": [
    "# E3 - Parallellisering"
   ]
  },
  {
   "cell_type": "markdown",
   "metadata": {},
   "source": [
    "## E3.1 Parallellprogrammering i Python"
   ]
  },
  {
   "cell_type": "markdown",
   "metadata": {},
   "source": [
    "* Ett vanlig Python-program kjører i en tråd i en prosess og kan bare gjøre en ting om gangen\n",
    "* Flere tråder og prosesser kan opprettes for å gjøre ting i parallell\n",
    "  * Begge har fordeler og ulemper"
   ]
  },
  {
   "cell_type": "markdown",
   "metadata": {},
   "source": [
    "## E3.2 Subprocess"
   ]
  },
  {
   "cell_type": "markdown",
   "metadata": {},
   "source": [
    "* Python modul for å starte og kommunisere med nye prosesser\n",
    "* Blir ofte brukt for å starte andre programmer fra Python kode\n",
    "  * Kan lese og gjøre noe med output fra programmet\n",
    "  * Kan gi input til programmet under kjøring"
   ]
  },
  {
   "cell_type": "markdown",
   "metadata": {},
   "source": [
    "__subprocess.run()__\n",
    "* Brukes for å starte en prosess\n",
    "* __Venter__ til prosessen er ferdig, og returnerer ett CompletedProcess objekt\n",
    "  * Innholdet avhenger av hvilke argumenter som ble gitt til subprocess.run()"
   ]
  },
  {
   "cell_type": "code",
   "execution_count": null,
   "metadata": {},
   "outputs": [],
   "source": [
    "import subprocess\n",
    "out = subprocess.run(\"dir\", shell=True, capture_output=True, text=True)\n",
    "print(out)\n",
    "print()\n",
    "print(out.stdout)"
   ]
  },
  {
   "cell_type": "markdown",
   "metadata": {},
   "source": [
    "__subprocess.Popen__\n",
    "* Er mer fleksibel, men mer tungvinn å bruke\n",
    " * Må ikke vente til prosessen avsluttes (men kan)"
   ]
  },
  {
   "cell_type": "code",
   "execution_count": null,
   "metadata": {},
   "outputs": [],
   "source": [
    "import subprocess\n",
    "proc = subprocess.Popen(\"sleep 5\", shell=True, stdout=subprocess.PIPE, text=True)\n",
    "print(\"Returncode:\", proc.poll())\n",
    "\n",
    "try:\n",
    "    proc.wait(5)\n",
    "except subprocess.TimeoutExpired:\n",
    "    proc.kill()\n",
    "    print(\"Process took to long...\")\n",
    "\n",
    "print(proc.stdout.read())"
   ]
  },
  {
   "cell_type": "markdown",
   "metadata": {},
   "source": [
    "## E3.3 Multithreading"
   ]
  },
  {
   "cell_type": "markdown",
   "metadata": {},
   "source": [
    "* Opprette tråder i programmet for å gjøre ting i \"parallell\"\n",
    "* Global Interpreter Lock (GIL)\n",
    "  * Kun en tråd kjører om gangen, selv på systemer med flere prosessorer\n",
    "  * OSet velger hvilken tråd som kjører, og veksler mellom dem\n",
    "* Nyttig i program hvor man venter på andre ting\n",
    "  * Databaser, web-requests etc...\n",
    " \n",
    "__Enkleste metode:__ \n",
    "```python\n",
    "threading.Thread(target=enFunksjon, args=argumenter)\n",
    "```\n",
    "\n",
    "\n",
    "__Mer komplisert metode:__\n",
    "```python\n",
    "class myThread(threading.Thread):\n",
    "    def __init__(self):\n",
    "        threading.Thread.__init__(self)\n",
    "        ...\n",
    "    def run(self):\n",
    "        ...\n",
    "```"
   ]
  },
  {
   "cell_type": "code",
   "execution_count": null,
   "metadata": {},
   "outputs": [],
   "source": [
    "import threading\n",
    "import time\n",
    "\n",
    "def print_time(threadName, delay):\n",
    "    for i in range(5):\n",
    "        time.sleep(delay)\n",
    "        print(f\"{threadName}: {time.time()}\")\n",
    "\n",
    "t1 = threading.Thread(target=print_time, args=(\"Thread-1\", 2))\n",
    "t2 = threading.Thread(target=print_time, args=(\"Thread-2\", 4))\n",
    "\n",
    "t1.start()\n",
    "t2.start()"
   ]
  },
  {
   "cell_type": "code",
   "execution_count": null,
   "metadata": {},
   "outputs": [],
   "source": [
    "import threading\n",
    "import time\n",
    "\n",
    "def process_stuff(start, stop):\n",
    "    a = 0\n",
    "    for i in range(start, stop):\n",
    "        a += i**i\n",
    "    return a\n",
    "\n",
    "s = time.time()\n",
    "t1 = threading.Thread(target=process_stuff, args=(0, 10000))\n",
    "t1.start()\n",
    "t1.join()\n",
    "print(f\"Processing time: {time.time() - s} seconds\")"
   ]
  },
  {
   "cell_type": "code",
   "execution_count": null,
   "metadata": {},
   "outputs": [],
   "source": [
    "import threading\n",
    "import time\n",
    "\n",
    "def process_stuff(name, start, stop):\n",
    "    print(f\"{name} started!\")\n",
    "    a = 0\n",
    "    for i in range(start, stop):\n",
    "        a += i**i\n",
    "    print(f\"{name} stopped!\")\n",
    "    return a\n",
    "\n",
    "threads = []\n",
    "calc_start = 0\n",
    "calc_stop = 10000\n",
    "num_threads = 2\n",
    "chunk_size = (calc_stop - calc_start) // num_threads\n",
    "\n",
    "s = time.time()\n",
    "for i in range(num_threads):\n",
    "    t = threading.Thread(\n",
    "        target=process_stuff, args=(f\"Thread-{i}\", calc_start + chunk_size*i, calc_start + chunk_size*(i+1))\n",
    "    )\n",
    "    t.start()\n",
    "    threads.append(t)\n",
    "\n",
    "for t in threads:\n",
    "    t.join()\n",
    "print(f\"Processing time: {time.time() - s} seconds\")"
   ]
  },
  {
   "cell_type": "markdown",
   "metadata": {},
   "source": [
    "## E3.4 Multiprocessing"
   ]
  },
  {
   "cell_type": "markdown",
   "metadata": {},
   "source": [
    "* Dupliserer _hele_ Python-prosessen\n",
    "* Kjører kode i flere prosesser for ekte parallellisering\n",
    "  * Kjører på flere prosessorkjerner samtidig\n",
    "* Nyttig for å gjøre tung prosessering\n",
    "* Samme API som multithreading:\n",
    "\n",
    "__Enkleste metode:__ \n",
    "```python\n",
    "multiprocessing.Process(target=enFunksjon, args=argumenter)\n",
    "```\n",
    "\n",
    "__Mer komplisert metode:__\n",
    "```python\n",
    "class myProcess(multiprocessing.Process):\n",
    "    def __init__(self):\n",
    "        multiprocessing.Process.__init__(self)\n",
    "        ...\n",
    "    def run(self):\n",
    "        ...\n",
    "```"
   ]
  },
  {
   "cell_type": "code",
   "execution_count": null,
   "metadata": {},
   "outputs": [],
   "source": [
    "import multiprocessing\n",
    "import time\n",
    "\n",
    "def process_stuff(name, start, stop):\n",
    "    print(f\"{name} started!\")\n",
    "    a = 0\n",
    "    for i in range(start, stop):\n",
    "        a += i**i\n",
    "    print(f\"{name} stopped!\")\n",
    "    return a\n",
    "\n",
    "if __name__ == '__main__':\n",
    "    processes = []\n",
    "    calc_start = 0\n",
    "    calc_stop = 10000\n",
    "    num_procs = 1\n",
    "    chunk_size = (calc_stop - calc_start) // num_procs\n",
    "\n",
    "    s = time.time()\n",
    "    for i in range(num_procs):\n",
    "        p = multiprocessing.Process(\n",
    "            target=process_stuff, args=(f\"Proc-{i}\", calc_start + chunk_size*i, calc_start + chunk_size*(i+1))\n",
    "        )\n",
    "        p.start()\n",
    "        processes.append(p)\n",
    "\n",
    "    for p in processes:\n",
    "        p.join()\n",
    "    print(f\"Processing time: {time.time() - s} seconds\")"
   ]
  },
  {
   "cell_type": "markdown",
   "metadata": {},
   "source": [
    "## E3.5 Queues"
   ]
  },
  {
   "cell_type": "markdown",
   "metadata": {},
   "source": [
    "* Toveis kommunikasjon mellom prosesser/tråder\n",
    "* For tråder:\n",
    "  * _queue.Queue()_\n",
    "  * Sender Python-objekter i minnet\n",
    "  * Alt skjer i samme prosess\n",
    "* For prosesser:\n",
    "  * _multiprocessing.Queue()_\n",
    "  * Må konvertere objekter til bytes før de sendes\n",
    "  * Kan derfor være litt problematisk å bruke med kompliserte objekter\n",
    "  * Er ikke anbefalt å bruke køer til å sende store mengder data\n",
    "* Kan bruke .join() på køer\n",
    "  * Må da bruke .task_done() for hvert element som hentes ut av køen\n",
    "  * Holder en teller over antallet elementer som puttes i køen med .put()"
   ]
  },
  {
   "cell_type": "code",
   "execution_count": null,
   "metadata": {},
   "outputs": [],
   "source": [
    "import threading\n",
    "import queue\n",
    "import time\n",
    "\n",
    "q = queue.Queue()\n",
    "\n",
    "def worker():\n",
    "    while True:\n",
    "        item = q.get()\n",
    "        print(f'Working on {item}')\n",
    "        time.sleep(1)\n",
    "        print(f'Finished {item}')\n",
    "        q.task_done()\n",
    "\n",
    "# Start worker tråd\n",
    "threading.Thread(target=worker, daemon=True).start()\n",
    "\n",
    "# Send oppgaver til worker tråden via køen\n",
    "for item in range(5):\n",
    "    q.put(item)\n",
    "print('All task requests sent\\n', end='')\n",
    "\n",
    "# Vent til alle oppgaver er ferdig utført\n",
    "q.join()\n",
    "print('All work completed')"
   ]
  },
  {
   "cell_type": "markdown",
   "metadata": {},
   "source": [
    "__Mer komplisert eksempel:__"
   ]
  },
  {
   "cell_type": "code",
   "execution_count": null,
   "metadata": {},
   "outputs": [],
   "source": [
    "import threading\n",
    "import subprocess\n",
    "import queue\n",
    "\n",
    "def executor(cmd_queue, res_queue):\n",
    "    while True:\n",
    "        cmd = cmd_queue.get()\n",
    "        if cmd == \"!quit\":\n",
    "            break\n",
    "        out = subprocess.run(cmd, shell=True, capture_output=True, text=True)\n",
    "        res_queue.put(out.stdout)\n",
    "\n",
    "cq = queue.Queue()\n",
    "rq = queue.Queue()\n",
    "threading.Thread(target=executor, args=(cq,rq)).start()\n",
    "\n",
    "cmd = \"\"\n",
    "while True:\n",
    "    cmd = input(\"Input command: \")\n",
    "    cq.put(cmd)\n",
    "    if cmd == \"!quit\":\n",
    "        print(\"Quitting!\")\n",
    "        break\n",
    "    res = rq.get()\n",
    "    print(\"Got:\", res)"
   ]
  },
  {
   "cell_type": "markdown",
   "metadata": {},
   "source": [
    "# E3.6 Oppgaver"
   ]
  },
  {
   "cell_type": "markdown",
   "metadata": {},
   "source": [
    "## Oppgave: subprocess\n",
    "* Lag ett script som:\n",
    "  * Tar en cmd-kommando som input fra brukeren\n",
    "  * Eksekverer kommandoen i en subprocess\n",
    "  * printer resultatet av kommandoen\n",
    "  * looper til toppen\n",
    "  * Bonus: printer en punktum \".\" hvert sekund til kommandoen er ferdig"
   ]
  },
  {
   "cell_type": "markdown",
   "metadata": {},
   "source": [
    "## Oppgave: Multithreading\n",
    "* Konverter scriptet under til å bruke tråder slik at det går fortere"
   ]
  },
  {
   "cell_type": "code",
   "execution_count": null,
   "metadata": {},
   "outputs": [],
   "source": [
    "import requests\n",
    "import time\n",
    "import os\n",
    "\n",
    "def download_url(url, path):\n",
    "    res = requests.get(url)\n",
    "    with open(path, \"wb\") as f:\n",
    "        f.write(res.content)\n",
    "    \n",
    "urls = [\n",
    "    (\"http://nrk.no\", \"pages/nrk.no.txt\"),\n",
    "    (\"http://vg.no\", \"pages/vg.no.txt\"),\n",
    "    (\"http://dagbladet.no\", \"pages/dagbladet.no.txt\"),\n",
    "    (\"http://python.org\", \"pages/python.org.txt\"),\n",
    "] * 20 # <-- Litt juks for å forenkle eksempelet\n",
    "    \n",
    "if __name__=='__main__':\n",
    "    try:\n",
    "        os.mkdir(\"pages\")\n",
    "    except:\n",
    "        pass\n",
    "    \n",
    "    print(\"Started downloading...\")\n",
    "    s = time.time()\n",
    "    for url, path in urls:\n",
    "        download_url(url, path)\n",
    "    print(f\"Download time: {time.time() - s} seconds\")"
   ]
  },
  {
   "cell_type": "markdown",
   "metadata": {},
   "source": [
    "## Oppgave: Multiprocessing\n",
    "* Funksjonen under representerer en prosesserings-tung oppgave\n",
    "* Målet er å få runksjonen til å returnere så fort som mulig\n",
    "* Bruk multiprocessing til å løse oppgaven fortere\n",
    "\n",
    "```python\n",
    "import random\n",
    "\n",
    "def oppgave():\n",
    "    mål = 1337\n",
    "    while True:\n",
    "        if random.randint(0, 10000) == mål:\n",
    "            print(\"Done!\")\n",
    "            break\n",
    "```"
   ]
  },
  {
   "cell_type": "markdown",
   "metadata": {},
   "source": [
    "## Oppgave: Queues\n",
    "* Gå tilbake til oppgave 'Oppgave: Multithreading'\n",
    "* Konverter scriptet til å bruke worker-threads\n",
    "* Start 5 tråder som alle venter på oppgaver, og signaliserer når de er ferdige\n",
    "* Dette er den anbefalte måten å lage denne typen script på, da man ofte får for mange tråder dersom man oppretter en per. oppgave.\n",
    "  * De fleste OS begrenser antallet tråder hver prosess kan ha\n",
    "  * I tillegg er det litt overhead med å opprette tråder og veksle mellom dem"
   ]
  }
 ],
 "metadata": {
  "kernelspec": {
   "display_name": ".venv",
   "language": "python",
   "name": "python3"
  },
  "language_info": {
   "name": "python",
   "version": "3.12.3"
  }
 },
 "nbformat": 4,
 "nbformat_minor": 2
}

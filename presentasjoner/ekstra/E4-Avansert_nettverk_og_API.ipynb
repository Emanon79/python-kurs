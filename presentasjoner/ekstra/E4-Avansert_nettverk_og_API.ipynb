{
 "cells": [
  {
   "cell_type": "markdown",
   "metadata": {
    "slideshow": {
     "slide_type": "slide"
    }
   },
   "source": [
    "# 11 - Avansert nettverk"
   ]
  },
  {
   "cell_type": "markdown",
   "metadata": {
    "slideshow": {
     "slide_type": "slide"
    }
   },
   "source": [
    "## 11.1 Sockets"
   ]
  },
  {
   "cell_type": "markdown",
   "metadata": {
    "slideshow": {
     "slide_type": "fragment"
    }
   },
   "source": [
    "* Den mest vanlige måten for kommunikasjon mellom programmer over nettverk\n",
    "* Transportlaget i TCP/IP stacken\n",
    "* Styrt av operativsystemet\n",
    " * Program bruker systemkall for å opprette sockets og sende og motta data\n",
    "* To vanlige typer sockets: TCP og UDP\n",
    "* Client - Server arkitektur\n",
    "\n",
    "\n",
    "* Anbefalt lesestoff:\n",
    " * https://beej.us/guide/bgnet/html/\n",
    " * https://docs.python.org/3/howto/sockets.html"
   ]
  },
  {
   "cell_type": "markdown",
   "metadata": {
    "slideshow": {
     "slide_type": "subslide"
    }
   },
   "source": [
    "### 11.1.1 Hvordan lage sockets"
   ]
  },
  {
   "cell_type": "markdown",
   "metadata": {
    "slideshow": {
     "slide_type": "fragment"
    }
   },
   "source": [
    "* Representert med ett socket objekt i Python\n",
    "* Minner veldig om fil-behandling\n",
    " * Basert på Linux, hvor _\"alt er en fil\"_\n",
    "* Adresse og protokoll familie:\n",
    " * IPv4: _socket.AF_INET_\n",
    " * IPv6: _socket.AF_INET6_\n",
    "* Socket type:\n",
    " * TCP: _socket.SOCK_STREAM_\n",
    " * UDP: _socket.SOCK_DGRAM_"
   ]
  },
  {
   "cell_type": "code",
   "execution_count": null,
   "metadata": {
    "slideshow": {
     "slide_type": "fragment"
    }
   },
   "outputs": [],
   "source": [
    "import socket\n",
    "my_socket = socket.socket(socket.AF_INET, socket.SOCK_STREAM)\n",
    "\n",
    "print(my_socket)\n"
   ]
  },
  {
   "cell_type": "markdown",
   "metadata": {
    "slideshow": {
     "slide_type": "subslide"
    }
   },
   "source": [
    "### 11.1.2 Socket client"
   ]
  },
  {
   "cell_type": "markdown",
   "metadata": {
    "slideshow": {
     "slide_type": "fragment"
    }
   },
   "source": [
    "* Trenger en adresse og en port som skal kobles til\n",
    "* I Python gjøres DNS automatisk\n",
    " * Kan også gjøres manuelt med socket.getaddrinfo()\n",
    "* _socket.connect()_ tar ett _address_ argument\n",
    " * Varierer avhengig av hvilken adresse-familie som brukes\n",
    " * For _AF_INET_ er den en tupel: _(host, port)_\n",
    "* _socket.shutdown()_ for å fortelle andre ende av forbindelse at du kobler ned\n",
    "* _socket.close()_ for å lukke socketen på vår side"
   ]
  },
  {
   "cell_type": "code",
   "execution_count": 1,
   "metadata": {
    "slideshow": {
     "slide_type": "fragment"
    },
    "tags": []
   },
   "outputs": [],
   "source": [
    "import socket\n",
    "address = (\"www.python.org\", 80)\n",
    "\n",
    "my_socket = socket.socket(socket.AF_INET, socket.SOCK_STREAM)\n",
    "my_socket.connect(address)\n",
    "\n",
    "my_socket.shutdown(socket.SHUT_RDWR)\n",
    "my_socket.close()"
   ]
  },
  {
   "cell_type": "markdown",
   "metadata": {
    "slideshow": {
     "slide_type": "subslide"
    }
   },
   "source": [
    "__Sending og mottak av data:__\n",
    "* Original metoder:\n",
    " * send() og recv()\n",
    "* Hjelpefunksjoner:\n",
    " * sendall()"
   ]
  },
  {
   "cell_type": "code",
   "execution_count": null,
   "metadata": {
    "slideshow": {
     "slide_type": "subslide"
    },
    "tags": []
   },
   "outputs": [],
   "source": [
    "import socket\n",
    "address = (\"python.org\", 80)\n",
    "\n",
    "my_socket = socket.socket(socket.AF_INET, socket.SOCK_STREAM)\n",
    "my_socket.connect(address)\n",
    "\n",
    "message = b\"GET / HTTP/1.1\\r\\nHost:python.org\\r\\n\\r\\n\"\n",
    "sent = my_socket.send(message)\n",
    "\n",
    "print(f\"Bytes sent: {sent}\")\n",
    "print()\n",
    "\n",
    "data = my_socket.recv(300)\n",
    "print(data.decode())\n",
    "\n",
    "my_socket.shutdown(socket.SHUT_RDWR)\n",
    "my_socket.close()"
   ]
  },
  {
   "cell_type": "markdown",
   "metadata": {
    "slideshow": {
     "slide_type": "subslide"
    }
   },
   "source": [
    "__send og recv loops:__\n",
    "* Send returnerer antallet bytes sendt\n",
    " * Programmet er ansvarlig for å verifisere at alt er sendt\n",
    " * og eventuelt kalle send() på nytt med resterende data\n",
    " * sendall() gjør dette automatisk\n",
    "* recv( _numbytes_ ) returnerer opp til _numbytes_ med data\n",
    " * Programmet må derfor kalle recv til det har mottatt forventet mengde data eller til det ikke er mer data"
   ]
  },
  {
   "cell_type": "code",
   "execution_count": null,
   "metadata": {
    "slideshow": {
     "slide_type": "fragment"
    },
    "tags": []
   },
   "outputs": [],
   "source": [
    "import socket\n",
    "address = (\"python.org\", 80)\n",
    "\n",
    "my_socket = socket.socket(socket.AF_INET, socket.SOCK_STREAM)\n",
    "my_socket.connect(address)\n",
    "\n",
    "message = b\"MYEDATA...\"\n",
    "len_message = len(message)\n",
    "totalsent = 0\n",
    "\n",
    "while totalsent < len_message:\n",
    "    sent = my_socket.send(message[totalsent:])\n",
    "    totalsent += sent\n",
    "    \n",
    "print(f\"total sent: {totalsent}\")\n",
    "\n",
    "my_socket.shutdown(socket.SHUT_RDWR)\n",
    "my_socket.close()"
   ]
  },
  {
   "cell_type": "markdown",
   "metadata": {
    "slideshow": {
     "slide_type": "subslide"
    }
   },
   "source": [
    "* Litt vanskeligere med recv\n",
    "* Fire muligheter:\n",
    " * Konstant lengde på meldinger\n",
    " * Spesielt tegn som indikerer ende på en melding\n",
    " * En \"header\" som sier hvor lang meldingen er (eksempel under)\n",
    " * Avslutte forbindelsen for å indikere at all data er sendt"
   ]
  },
  {
   "cell_type": "code",
   "execution_count": null,
   "metadata": {
    "slideshow": {
     "slide_type": "fragment"
    },
    "tags": []
   },
   "outputs": [],
   "source": [
    "alldata = b\"\"\n",
    "bytes_recd = 0\n",
    "\n",
    "MSGLEN = int(my_socket.recv(4).decode())\n",
    "while bytes_recd < MSGLEN:\n",
    "    data = my_socket.recv(1024)\n",
    "    bytes_recd += len(data)\n",
    "    alldata += data\n"
   ]
  },
  {
   "cell_type": "markdown",
   "metadata": {
    "slideshow": {
     "slide_type": "subslide"
    }
   },
   "source": [
    "### 11.1.3 Socket server"
   ]
  },
  {
   "cell_type": "markdown",
   "metadata": {
    "slideshow": {
     "slide_type": "fragment"
    }
   },
   "source": [
    "* Åpner en port og lytter på innkommende forbindelser\n",
    " * \"binder\" en socket til en port\n",
    "* Oppretter en ny socket for hver forbindelse, som brukes for å sende og motta data\n",
    "* Systemkall:\n",
    " * socket.bind()\n",
    " * socket.listen()\n",
    " * socket.accept()"
   ]
  },
  {
   "cell_type": "code",
   "execution_count": null,
   "metadata": {
    "slideshow": {
     "slide_type": "fragment"
    }
   },
   "outputs": [],
   "source": [
    "import socket\n",
    "address = (\"\", 8080)\n",
    "\n",
    "my_socket = socket.socket(socket.AF_INET, socket.SOCK_STREAM)\n",
    "\n",
    "my_socket.bind(address)\n",
    "my_socket.listen(1)\n",
    "conn, address = my_socket.accept()"
   ]
  },
  {
   "cell_type": "markdown",
   "metadata": {
    "slideshow": {
     "slide_type": "subslide"
    }
   },
   "source": [
    "__Flere forbindelser (uten parallellisering):__"
   ]
  },
  {
   "cell_type": "code",
   "execution_count": null,
   "metadata": {
    "slideshow": {
     "slide_type": "fragment"
    }
   },
   "outputs": [],
   "source": [
    "import socket\n",
    "address = (\"\", 8080)\n",
    "\n",
    "my_socket = socket.socket(socket.AF_INET, socket.SOCK_STREAM)\n",
    "\n",
    "my_socket.bind(address)\n",
    "my_socket.listen()\n",
    "while True:\n",
    "    conn, address = my_socket.accept()\n",
    "    print(address)\n",
    "    data = conn.recv(1024)\n",
    "    print(data)\n",
    "    conn.send(b\"Hello!\")\n",
    "    conn.close()"
   ]
  },
  {
   "cell_type": "markdown",
   "metadata": {
    "slideshow": {
     "slide_type": "slide"
    }
   },
   "source": [
    "## 11.2 Oppgave: echo client og server"
   ]
  },
  {
   "cell_type": "markdown",
   "metadata": {
    "slideshow": {
     "slide_type": "fragment"
    }
   },
   "source": [
    "* Lag en socket client:\n",
    " * som bruker input() til å lese inn meldinger fra brukeren\n",
    " * sender dem til serveren og venter på svar\n",
    " * printer svaret\n",
    "\n",
    "\n",
    "* Lag en socket server:\n",
    " * som lytter på en port\n",
    " * Når den får en forbindelse, printer den avsender addressen og dataen den mottar\n",
    " * \"Ekkoer\" dataen tilbake igjen\n",
    "\n",
    "\n",
    "* __Tips:__ bruk _address = (\"127.0.0.1\", 10000)_\n",
    " * dersom du får feilmelding om at porten allerede er i bruk kan du bytte port"
   ]
  },
  {
   "cell_type": "markdown",
   "metadata": {
    "slideshow": {
     "slide_type": "slide"
    }
   },
   "source": [
    "## 11.3 smtp"
   ]
  },
  {
   "cell_type": "markdown",
   "metadata": {
    "slideshow": {
     "slide_type": "fragment"
    }
   },
   "source": [
    "* Simple Mail Transfer Protocol\n",
    "* Definert i RFC 821 og oppdatert i RFC 5321\n",
    "* Benyttes for å \"pushe\" eposter til en server\n",
    " * IMAP eller POP3 kan brukes for å hente eposter fra en server\n",
    "* I Python kan man benytte modulen _smtplib_"
   ]
  },
  {
   "cell_type": "code",
   "execution_count": null,
   "metadata": {
    "slideshow": {
     "slide_type": "subslide"
    }
   },
   "outputs": [],
   "source": [
    "import smtplib\n",
    "\n",
    "fromaddr = \"Rick@example.com\"\n",
    "toaddr = \"Morty@example.com\"\n",
    "subject = \"Hei!\"\n",
    "body = \"Hello world!\"\n",
    "msg = f\"From: {fromaddr}\\r\\nTo: {toaddr}\\r\\nSubject: {subject}\\r\\n\\r\\n{body}\"\n",
    "\n",
    "server = smtplib.SMTP('localhost')\n",
    "server.set_debuglevel(1)\n",
    "server.sendmail(\"Rick@example.com\", \"Morty@example.com\", msg)\n",
    "server.quit()"
   ]
  },
  {
   "cell_type": "markdown",
   "metadata": {
    "slideshow": {
     "slide_type": "slide"
    }
   },
   "source": [
    "## 11.4 Oppgave: Send en mail med python til deg selv"
   ]
  },
  {
   "cell_type": "markdown",
   "metadata": {
    "slideshow": {
     "slide_type": "fragment"
    }
   },
   "source": [
    "* Husk å inkludere fra-adresse, til-adresse, emne og innhold\n",
    "* Bonus: lag en interaktiv epost-client, som tar input fra brukeren"
   ]
  },
  {
   "cell_type": "code",
   "execution_count": null,
   "metadata": {},
   "outputs": [],
   "source": []
  }
 ],
 "metadata": {
  "celltoolbar": "Slideshow",
  "kernelspec": {
   "display_name": "Python 3 (ipykernel)",
   "language": "python",
   "name": "python3"
  },
  "language_info": {
   "codemirror_mode": {
    "name": "ipython",
    "version": 3
   },
   "file_extension": ".py",
   "mimetype": "text/x-python",
   "name": "python",
   "nbconvert_exporter": "python",
   "pygments_lexer": "ipython3",
   "version": "3.10.7"
  },
  "vscode": {
   "interpreter": {
    "hash": "ead1b95f633dc9c51826328e1846203f51a198c6fb5f2884a80417ba131d4e82"
   }
  }
 },
 "nbformat": 4,
 "nbformat_minor": 4
}

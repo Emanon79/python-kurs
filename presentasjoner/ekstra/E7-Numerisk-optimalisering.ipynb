{
 "cells": [
  {
   "cell_type": "markdown",
   "id": "02dae3e8-f873-41c5-9c86-b800615139f7",
   "metadata": {
    "editable": true,
    "slideshow": {
     "slide_type": ""
    },
    "tags": []
   },
   "source": [
    "# E8 Numerisk optimalisering"
   ]
  },
  {
   "cell_type": "markdown",
   "id": "caf6e4a4-3527-4376-8678-c5bb56dda988",
   "metadata": {
    "editable": true,
    "slideshow": {
     "slide_type": ""
    },
    "tags": []
   },
   "source": [
    "Python er et tolket språk. En konsekvens av det er at matematiske utregninger ofte tar lang tid uten hjelp fra optimaliserte bilioteker eller optimaliserings-metoder. Her går vi gjennom noen av metodene man kan ta i bruk."
   ]
  },
  {
   "cell_type": "markdown",
   "id": "dfe831a2-09e7-4ab0-b4cc-c7a44dc76adf",
   "metadata": {},
   "source": [
    "## Integral\n",
    "Et integral av en funksjon f(x) på et viss område er arealet mellom funksjonen og x-aksen. En måte å regne ut et integral på er å dele opp opp området ([a, b]) i N+1 delere hvor a = x_0 < x_1 < ... < x_N = b. På hvert av intervallene [x_{i-1}, x_i] er arealet tilnærmet lik (x_{i-1} - x_i)*f(x_i). Det totale integralet er summen av alle arealene av disse intervallene. Valget av N avgjør hvor bra estimatet er."
   ]
  },
  {
   "cell_type": "markdown",
   "id": "65b37f91-50ef-47fa-8b33-2b9489415662",
   "metadata": {},
   "source": [
    "## E8.1 Python"
   ]
  },
  {
   "cell_type": "code",
   "execution_count": null,
   "id": "aba4f465-772d-42cb-a2ea-e38b2c3ed1a4",
   "metadata": {},
   "outputs": [],
   "source": [
    "def integrate(f, a, b, N):\n",
    "    interval = (b - a)/N\n",
    "    x = [a + interval * i for i in range(N+1)]\n",
    "    return sum([(x[i] - x[i-1])*f(x[i]) for i in range(1, len(x))])\n",
    "\n",
    "def f(x):\n",
    "    return x**2\n",
    "\n",
    "estimate = integrate(f, 0, 1, 10000000)\n",
    "error = abs(estimate - 1/3.0)\n",
    "print(estimate, error)"
   ]
  },
  {
   "cell_type": "markdown",
   "id": "d969eaa2-6125-4b43-bc14-391da3f98c67",
   "metadata": {
    "editable": true,
    "slideshow": {
     "slide_type": ""
    },
    "tags": []
   },
   "source": [
    "## E8.2 Numpy"
   ]
  },
  {
   "cell_type": "code",
   "execution_count": null,
   "id": "f35cd614-dcc9-4f6a-98f7-c373b85d0f52",
   "metadata": {},
   "outputs": [],
   "source": [
    "import numpy as np\n",
    "\n",
    "def integrate(f, a, b, N):\n",
    "    x = np.linspace(a, b, N+1)\n",
    "    \n",
    "    def f_mod(x1, x2):\n",
    "        return (x2-x1)*f(x2)\n",
    "\n",
    "    f_vec = np.vectorize(f_mod)\n",
    "    return sum(f_vec(x[:N], x[1:N+1]))\n",
    "\n",
    "def f(x):\n",
    "    return x**2\n",
    "\n",
    "estimate = integrate(f, 0, 1, 10000000)\n",
    "error = abs(estimate - 1/3.0)\n",
    "print(estimate, error)\n"
   ]
  },
  {
   "cell_type": "markdown",
   "id": "6f6e2b54-3e79-49de-8116-5eb755dad1dd",
   "metadata": {
    "editable": true,
    "slideshow": {
     "slide_type": ""
    },
    "tags": []
   },
   "source": [
    "## E8.3 Numba"
   ]
  },
  {
   "cell_type": "code",
   "execution_count": null,
   "id": "e089560c-1fbd-4199-a8ec-58c4b91940a6",
   "metadata": {},
   "outputs": [],
   "source": [
    "import numba\n",
    "\n",
    "@numba.jit\n",
    "def integrate(f, a, b, N):\n",
    "    distance = b - a\n",
    "    interval = distance/N\n",
    "    x = [a + interval * i for i in range(N+1)]\n",
    "\n",
    "    return sum([(x[i] - x[i-1])*f(x[i]) for i in range(1, len(x))])\n",
    "\n",
    "@numba.jit\n",
    "def f(x):\n",
    "    return x**2\n",
    "\n",
    "estimate = integrate(f, 0, 1, 10000000)\n",
    "error = abs(estimate - 1/3.0)\n",
    "print(estimate, error)"
   ]
  },
  {
   "cell_type": "markdown",
   "id": "8c3df642-5d07-4ce0-912f-db818d0a1452",
   "metadata": {
    "editable": true,
    "slideshow": {
     "slide_type": ""
    },
    "tags": []
   },
   "source": [
    "## E8.4 Cython"
   ]
  },
  {
   "cell_type": "markdown",
   "id": "8da90782-3c7f-49e2-bd69-aab03123854f",
   "metadata": {},
   "source": [
    "Se script/cython. Kjør compile.sh og python3 main.py"
   ]
  },
  {
   "cell_type": "markdown",
   "id": "2f1b91d5-7bfa-4e5c-a7aa-b7e27f2f43ed",
   "metadata": {
    "editable": true,
    "slideshow": {
     "slide_type": ""
    },
    "tags": []
   },
   "source": [
    "# E8.5 Oppgaver"
   ]
  },
  {
   "cell_type": "markdown",
   "id": "85f43b48-fb04-4a7a-aab1-382313d9fcdc",
   "metadata": {},
   "source": [
    "1. Utvid E8.1 med et plot av feilen som funksjon av N.x-aksen er verdier av N, og y-aksen er feil for estimatet. Bruk matplotlib.pyplot for å plotte \n",
    "2. Lag en mappe med filene: main.py, integrate_python.py, integrate_numpy.py, integrate_numba.py. I main.py skal du prøve å sammenligne\n",
    "   kjøretider for de tre implementasjonene ved å importere deres respektive integrasjons-funksjoner. Implementer tidtagning og prøv forskjellige verdier av N.\n",
    "3. Plot kjøretid som funksjon av N for de tre implementasjonene."
   ]
  }
 ],
 "metadata": {
  "kernelspec": {
   "display_name": "Python 3 (ipykernel)",
   "language": "python",
   "name": "python3"
  },
  "language_info": {
   "codemirror_mode": {
    "name": "ipython",
    "version": 3
   },
   "file_extension": ".py",
   "mimetype": "text/x-python",
   "name": "python",
   "nbconvert_exporter": "python",
   "pygments_lexer": "ipython3",
   "version": "3.12.3"
  }
 },
 "nbformat": 4,
 "nbformat_minor": 5
}

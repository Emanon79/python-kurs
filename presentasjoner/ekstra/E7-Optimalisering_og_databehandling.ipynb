{
 "cells": [
  {
   "cell_type": "markdown",
   "id": "8b108c2b-9576-4e09-9589-cde5a1430977",
   "metadata": {
    "editable": true,
    "slideshow": {
     "slide_type": ""
    },
    "tags": []
   },
   "source": [
    "# E7 Databehandling og visualisering"
   ]
  },
  {
   "cell_type": "markdown",
   "id": "9f8d8318-c2d3-44c7-9875-4760d7674d89",
   "metadata": {
    "editable": true,
    "slideshow": {
     "slide_type": ""
    },
    "tags": []
   },
   "source": [
    "Python er et tolket språk. En konsekvens av det er at dataprosessering og utregninger ofte tar lang tid uten hjelp fra optimaliserte bilioteker eller optimaliserings-metoder. Her går vi gjennom noen av metodene man kan ta i bruk."
   ]
  },
  {
   "cell_type": "markdown",
   "id": "2564b36e-8930-46ee-9a14-b724aa026334",
   "metadata": {},
   "source": [
    "# E7.1 Pandas for databehandling og visualisering"
   ]
  },
  {
   "cell_type": "markdown",
   "id": "a02f3db0-d98c-414f-9d67-4822900b5e81",
   "metadata": {
    "editable": true,
    "slideshow": {
     "slide_type": ""
    },
    "tags": []
   },
   "source": [
    "Dokumentasjon kan finnes [her](https://pandas.pydata.org/docs/). Pandas er et rammeverk for prosessering av tabulære data. Det støtter blant annet transformering, statistikk, slicing, tidsserier og en rekke dataformater."
   ]
  },
  {
   "cell_type": "code",
   "execution_count": null,
   "id": "a5607eff-b218-4745-9e64-c9fa219e02aa",
   "metadata": {},
   "outputs": [],
   "source": [
    "import pandas as pd\n",
    "import matplotlib.pyplot as plt\n",
    "\n",
    "df = pd.read_csv(\"../../filer/pandas/trips.csv\")\n",
    "print(df.head(5))\n",
    "print(df.tail(5))\n",
    "print(df.dtypes)\n",
    "print(df.info())\n",
    "\n",
    "print(df[\"Start station\"].describe())\n",
    "\n",
    "df[\"Station difference\"] = df[\"Start station\"] - df[\"End station\"]\n",
    "\n",
    "df.head().plot(x=\"Start time\", y=[\"Start station\", \"End station\"], kind=\"bar\")\n",
    "plt.show()"
   ]
  },
  {
   "cell_type": "code",
   "execution_count": null,
   "id": "a6e6da15-5988-4efa-b572-c7f0cc16ae15",
   "metadata": {
    "editable": true,
    "slideshow": {
     "slide_type": ""
    },
    "tags": []
   },
   "outputs": [],
   "source": [
    "import pandas as pd\n",
    "import matplotlib.pyplot as plt\n",
    "\n",
    "df = pd.read_csv(\"../../filer/pandas/temperature.csv\")\n",
    "df.plot(x='Year')\n",
    "\n",
    "plt.show()"
   ]
  },
  {
   "cell_type": "markdown",
   "id": "beec9606-9f3f-449f-8739-b1c0ef7735c5",
   "metadata": {},
   "source": [
    "# E7 Oppgaver"
   ]
  },
  {
   "cell_type": "markdown",
   "id": "bd88f128-1cd7-4e91-8e75-c2a4cfb1a02d",
   "metadata": {},
   "source": [
    "## Oppgave: Visualiert co2\n",
    "1. Visualiser utslipp co2 per land for dataene i filen 'filer/pandas/CO2_by_country.csv'\n",
    "2. Gjør det mulig å begrense antall land ved å sette nedre og øvre grense for mengden co2.\n"
   ]
  },
  {
   "cell_type": "markdown",
   "id": "51448ead-3ae3-4367-8739-19ef9f19bbfc",
   "metadata": {},
   "source": [
    "## Oppgave: tcpprobe\n",
    "1. Les inn filen 'files/data/tcpprobe.txt' med pandas. Sett kolonnenavnene til 'Timestamp', 'src', 'dest', 'len', 'nxt', 'una', 'cwnd', 'ssthresh', 'rwnd', 'rtt', 'UNKNOWN'\n",
    "2. Filtrer bort linjer som ikke har verdiene \"10.0.2.200:6709\" og \"10.0.1.210:48896\" i andre og tredje kolonne.\n",
    "3. Plot 'cwnd'og 'rtt' per 'Timestamp'. Enten som to forskjellige plot eller som to subplots."
   ]
  }
 ],
 "metadata": {
  "kernelspec": {
   "display_name": "Python 3 (ipykernel)",
   "language": "python",
   "name": "python3"
  },
  "language_info": {
   "codemirror_mode": {
    "name": "ipython",
    "version": 3
   },
   "file_extension": ".py",
   "mimetype": "text/x-python",
   "name": "python",
   "nbconvert_exporter": "python",
   "pygments_lexer": "ipython3",
   "version": "3.12.3"
  }
 },
 "nbformat": 4,
 "nbformat_minor": 5
}

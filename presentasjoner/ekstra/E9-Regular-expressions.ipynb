{
 "cells": [
  {
   "cell_type": "markdown",
   "metadata": {
    "slideshow": {
     "slide_type": "slide"
    }
   },
   "source": [
    "# E9 Regulære uttrykk"
   ]
  },
  {
   "cell_type": "markdown",
   "metadata": {
    "slideshow": {
     "slide_type": "slide"
    }
   },
   "source": [
    "## 12.1 Regulære uttrykk\n",
    "- Vanlige stringfunksjoner kan brukes til søk, endring og parsing (index(), find(), count(), replace(), split()), men har begrenset bruksområde.\n",
    "- Dette kan også gjøres ved hjelp av regulære uttrykk. Fordelen er at operasjonene kan gjøres mer dynamiske.\n",
    "- Regulære uttrykk er et kraftig verktøy, men kan fort bli komplisert og uoversiktlig"
   ]
  },
  {
   "cell_type": "markdown",
   "metadata": {
    "slideshow": {
     "slide_type": "subslide"
    }
   },
   "source": [
    "__Regex:__\n",
    "* Bruker et \"språk\" for å definere et mønster\n",
    "* Mønsteret brukes:\n",
    " * for å finne strenger som matcher mønsteret\n",
    " * finne deler av strenger som matcher\n",
    " * hente ut enkelt-elementer fra strenger\n",
    "\n",
    "\n",
    "* https://regex101.com/ lar deg teste regulære uttrykk og eksperimentere. Pass på at du ikke bruker sensitive data!"
   ]
  },
  {
   "cell_type": "markdown",
   "metadata": {
    "slideshow": {
     "slide_type": "slide"
    }
   },
   "source": [
    "## 12.2  Regex regler og uttrykk\n",
    "\n",
    "Utvalg av uttrykk:\n",
    "- [abc] - match nøyaktig én av gitte bokstaver (a, b eller c)\n",
    "- [a-z] - match nøyaktig én bokstav fra a til z\n",
    "- [A-Z] - samme bare for store bokstaver\n",
    "- [a-z0-9] - match nøyaktig én bokstav fra a til z eller 0 til 9\n",
    "- {n,m} - match foregående uttrykk/tegn minst n ganger og maks m ganger\n",
    "- ? - match 0 eller 1 ganger av foregående uttrykk/tegn. Gjør \\+ og \\* non-greedy\n",
    "- \\+ - match 1 eller flere ganger av foregående uttrykk/tegn\n",
    "- \\* - match 0 eller flere ganger av foregående uttrykk/tegn\n",
    "- . - en vilkårlig karakter (unntatt linjeskift)\n",
    "- [^abc] - match hvis etterkommende uttrykk/tegn ikke eksisterer\n",
    "- [abc]\\$ - match hvis et av foregående tegn er på slutten\n",
    "- ^[abc] - match hvis et av foregående tegn er på begynnelsen\n",
    "- | - fungerer som \"eller\". Matcher mønsteret før eller etter\n",
    "- \\\\w - alphanumerisk\n",
    "- \\\\W - ikke alphanumerisk\n",
    "- \\\\d - siffer\n",
    "- \\\\D - ikke siffer\n",
    "- \\\\s - space\n",
    "- ^ - linjestart eller not ([^a] ikke a)\n",
    "- $ - linjeslutt"
   ]
  },
  {
   "cell_type": "markdown",
   "metadata": {
    "slideshow": {
     "slide_type": "subslide"
    }
   },
   "source": [
    "__Eksempler:__\n",
    "\n",
    "* `[a-z]+`: ser etter alle uavbrutte sekvenser av små bokstaver\n",
    "* `[a-z]{5,}`: samme som over, men sekvensene må være 5 karakterer eller lengre\n",
    "* `^[0-9]{2}.*dogs$`: Ser etter en sekvens som starter med to tall og slutter med \"dogs\", uavhengig av hva som er mellom\n",
    "* `[A-Za-z]+`: matcher sekvenser bestående av store og/eller små bokstaver\n"
   ]
  },
  {
   "cell_type": "markdown",
   "metadata": {
    "slideshow": {
     "slide_type": "slide"
    }
   },
   "source": [
    "## 12.3 Python spesifikt\n",
    "[Python dokumentasjon](https://docs.python.org/3/howto/regex.html)\n",
    "\n",
    "* Python har innebygd støtte for regulære uttrykk i _re_ modulen\n",
    "* _re.compile()_ : Kompilerer ett mønster og returnerer ett objekt som kan brukes til matching\n",
    " * Er kun nødvendig dersom du bruker og gjenbruker flere ulike regulære uttrykk i programmet\n",
    "* Flere måter å matche på:\n",
    " * _re.match()_ : matcher uttrykket mot starten av sekvensen og returnerer de delene som matcher eller None\n",
    " * _re.search()_ : søker gjennom sekvensen og returnerer første match eller None\n",
    " * _re.findall()_ : Søker fra starten og returnerer alle matcher i sekvensen som en liste\n",
    " * og flere...\n",
    "* Match objekter\n",
    " * Returneres fra match/search funksjoner\n",
    " * Inneholder strenger som ble funnet i \"grupper\""
   ]
  },
  {
   "cell_type": "code",
   "execution_count": null,
   "metadata": {
    "slideshow": {
     "slide_type": "fragment"
    }
   },
   "outputs": [],
   "source": [
    "import re\n",
    "pattern = \"[a-z]+\"\n",
    "string = \"Hello world!\"\n",
    "\n",
    "match = re.search(pattern, string)\n",
    "if match:\n",
    "    print(\"Fant:\", match.group())\n",
    "    print(f\"Match fra posisjon {match.start()} til posisjon {match.end()}\")"
   ]
  },
  {
   "cell_type": "markdown",
   "metadata": {
    "slideshow": {
     "slide_type": "subslide"
    }
   },
   "source": [
    "__Flere eksempler:__"
   ]
  },
  {
   "cell_type": "code",
   "execution_count": null,
   "metadata": {
    "slideshow": {
     "slide_type": "fragment"
    }
   },
   "outputs": [],
   "source": [
    "import re\n",
    "string = \"Cats are smarter than dogs\"\n",
    "\n",
    "match = re.findall('[A-Za-z]+', string)\n",
    "print(match)\n",
    "\n",
    "# Capture groups: ()\n",
    "match = re.match(\"(.*) are (.*?) .*\", string) \n",
    "print(match.groups())"
   ]
  },
  {
   "cell_type": "markdown",
   "metadata": {
    "slideshow": {
     "slide_type": "slide"
    }
   },
   "source": [
    "## 12.4 Oppgave: regulære uttrykk matching\n",
    "* Lag ett script som leser en vilkårlig tekst-fil\n",
    "* Implementer søk etter følgende i filen:\n",
    "  - html-linker\n",
    "  - bilder (.png, .jpg, osv)\n",
    "  - eposter\n",
    "* Ligger filer som kan testes med i `files/`"
   ]
  },
  {
   "cell_type": "markdown",
   "metadata": {
    "slideshow": {
     "slide_type": "slide"
    }
   },
   "source": [
    "## 12.5 Oppgave: regex parsing\n",
    "* Lag et script som leser en passwd fil (passord-fil fra ett Linux-system)\n",
    " * Det ligger en passwd fil som kan brukes i `files/linux`\n",
    "* Bruker regexp til å parse informasjonen i filen og konverterer den til en liste med tupler\n",
    " * En tupel for hver linje i filen"
   ]
  }
 ],
 "metadata": {
  "celltoolbar": "Slideshow",
  "kernelspec": {
   "display_name": "Python 3 (ipykernel)",
   "language": "python",
   "name": "python3"
  },
  "language_info": {
   "codemirror_mode": {
    "name": "ipython",
    "version": 3
   },
   "file_extension": ".py",
   "mimetype": "text/x-python",
   "name": "python",
   "nbconvert_exporter": "python",
   "pygments_lexer": "ipython3",
   "version": "3.12.3"
  },
  "vscode": {
   "interpreter": {
    "hash": "ead1b95f633dc9c51826328e1846203f51a198c6fb5f2884a80417ba131d4e82"
   }
  }
 },
 "nbformat": 4,
 "nbformat_minor": 4
}

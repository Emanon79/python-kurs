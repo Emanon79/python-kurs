{
 "cells": [
  {
   "cell_type": "markdown",
   "metadata": {},
   "source": [
    "# E9 The End (Slutten)\n",
    "\n",
    "Ok, du har kommet langt og lengre enn langt. Klapp på skulderen. \n",
    "\n",
    "Nå bruker du det du har lært i hele kurset og setter opp et API med Fastapi og en webserver med Flask. \n",
    "\n",
    "Webserveren henter data fra API'et og presenterer det på en fin måte.\n",
    "\n",
    "Du velger selv hva du vil API'et skal returnere, men en vits eller en tegning fra https://xkcd.com/ kan være noe å starte med. "
   ]
  },
  {
   "cell_type": "markdown",
   "metadata": {},
   "source": [
    "## Takk for oss."
   ]
  }
 ],
 "metadata": {
  "language_info": {
   "name": "python"
  }
 },
 "nbformat": 4,
 "nbformat_minor": 2
}
